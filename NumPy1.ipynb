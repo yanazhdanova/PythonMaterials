{
  "nbformat": 4,
  "nbformat_minor": 0,
  "metadata": {
    "colab": {
      "provenance": []
    },
    "kernelspec": {
      "name": "python3",
      "display_name": "Python 3"
    },
    "language_info": {
      "name": "python"
    }
  },
  "cells": [
    {
      "cell_type": "markdown",
      "source": [
        "## Введение в NumPy\n",
        "\n",
        "NumPy (Numerical Python) - это библиотека для языка программирования Python, предназначенная для работы с многомерными массивами и матрицами, а также содержащая большое количество функций для выполнения операций линейной алгебры, статистики, случайных чисел и многого другого. Она является одной из основных библиотек для научных вычислений в Python и широко используется в областях, таких как анализ данных, машинное обучение, обработка изображений, численное моделирование и других.\n",
        "\n",
        "Зачем нужен NumPy?\n",
        "\n",
        "* Эффективность: NumPy обеспечивает высокую производительность и эффективность при работе с массивами данных благодаря своей реализации на языке программирования C. Это позволяет обрабатывать большие объемы данных быстрее, чем обычные списки Python.\n",
        "\n",
        "* Многомерные массивы: NumPy предоставляет объект ndarray, который позволяет эффективно хранить и оперировать многомерными массивами данных. Это делает его идеальным инструментом для работы с матрицами, изображениями, временными рядами и другими типами данных, которые могут быть представлены в виде массивов.\n",
        "\n",
        "* Богатый функционал: Библиотека NumPy содержит множество функций для выполнения различных операций, таких как арифметические операции, статистические вычисления, сортировка, фильтрация, решение линейных уравнений и многое другое. Это делает NumPy мощным инструментом для научных и инженерных вычислений.\n",
        "\n",
        "Преимущества использования NumPy перед стандартными списками Python:\n",
        "\n",
        "* Высокая производительность: Операции с массивами NumPy выполняются гораздо быстрее, чем операции с обычными списками Python, благодаря использованию оптимизированных алгоритмов на языке C.\n",
        "\n",
        "* Удобство и простота: NumPy предоставляет простой и удобный интерфейс для работы с массивами, что делает код более читаемым и понятным.\n",
        "\n",
        "* Больше функций: NumPy предоставляет богатый выбор функций для выполнения операций над массивами, что упрощает решение широкого спектра задач, связанных с научными вычислениями и анализом данных.\n",
        "\n",
        "* Интеграция с другими библиотеками: NumPy тесно интегрируется с другими популярными библиотеками Python, такими как SciPy, Matplotlib и Pandas, что делает его частью экосистемы инструментов для научных и инженерных вычислений.*"
      ],
      "metadata": {
        "id": "3IH0pQCbsVIm"
      }
    },
    {
      "cell_type": "markdown",
      "source": [
        "## Создание массивов NumPy\n",
        "\n",
        "Обычно NumPy импортируется под псевдонимом np для удобства использования. Это общепринятое сокращение."
      ],
      "metadata": {
        "id": "v9ASkoCZt3bX"
      }
    },
    {
      "cell_type": "code",
      "source": [
        "import numpy as np"
      ],
      "metadata": {
        "id": "sjWRWIMVumD9"
      },
      "execution_count": null,
      "outputs": []
    },
    {
      "cell_type": "markdown",
      "source": [
        "В NumPy для создания одномерных массивов можно использовать функцию numpy.array(), которая принимает список (или другой итерируемый объект) в качестве аргумента и создает из него одномерный массив."
      ],
      "metadata": {
        "id": "vSCsRwsourBH"
      }
    },
    {
      "cell_type": "code",
      "source": [
        "# Создание одномерного массива из списка\n",
        "arr1 = np.array([1, 2, 3, 4, 5])\n",
        "print(\"Массив arr1:\", arr1)\n",
        "\n",
        "# Создание одномерного массива из кортежа\n",
        "arr2 = np.array((6, 7, 8, 9, 10))\n",
        "print(\"Массив arr2:\", arr2)\n",
        "\n",
        "# Создание одномерного массива из диапазона чисел\n",
        "arr3 = np.arange(1, 6)  # Создает массив с числами от 1 до 5 (не включая 6)\n",
        "print(\"Массив arr3:\", arr3)\n"
      ],
      "metadata": {
        "colab": {
          "base_uri": "https://localhost:8080/"
        },
        "id": "PLxsoPS7vXAg",
        "outputId": "b41abe22-58da-49f2-83bc-c1dbd46a4495"
      },
      "execution_count": null,
      "outputs": [
        {
          "output_type": "stream",
          "name": "stdout",
          "text": [
            "Массив arr1: [1 2 3 4 5]\n",
            "Массив arr2: [ 6  7  8  9 10]\n",
            "Массив arr3: [1 2 3 4 5]\n"
          ]
        }
      ]
    },
    {
      "cell_type": "markdown",
      "source": [
        "Для создания многомерных массивов также используется функция numpy.array()"
      ],
      "metadata": {
        "id": "MT1470sVv23S"
      }
    },
    {
      "cell_type": "code",
      "source": [
        "arr2d = np.array([[1, 2, 3], [4, 5, 6], [7, 8, 9]])\n",
        "print(\"Двумерный массив arr2d:\")\n",
        "print(arr2d)\n",
        "\n",
        "# Создание трехмерного массива из списка списков списков\n",
        "arr3d = np.array([[[1, 2, 3], [4, 5, 6]], [[7, 8, 9], [10, 11, 12]]])\n",
        "print(\"Трехмерный массив arr3d:\")\n",
        "print(arr3d)\n",
        "\n",
        "random_arr = np.random.rand(2, 3)  # Создает массив размером 2x3, заполненный случайными числами от 0 до 1\n",
        "print(\"Массив random_arr (случайные числа):\")\n",
        "print(random_arr)\n"
      ],
      "metadata": {
        "colab": {
          "base_uri": "https://localhost:8080/"
        },
        "id": "PP4QFBymv9_z",
        "outputId": "90776203-a3d9-4337-9fe4-f2126b996ba4"
      },
      "execution_count": null,
      "outputs": [
        {
          "output_type": "stream",
          "name": "stdout",
          "text": [
            "Двумерный массив arr2d:\n",
            "[[1 2 3]\n",
            " [4 5 6]\n",
            " [7 8 9]]\n",
            "Трехмерный массив arr3d:\n",
            "[[[ 1  2  3]\n",
            "  [ 4  5  6]]\n",
            "\n",
            " [[ 7  8  9]\n",
            "  [10 11 12]]]\n",
            "Массив random_arr (случайные числа):\n",
            "[[0.59123407 0.4713403  0.10605412]\n",
            " [0.37402519 0.68914548 0.73225305]]\n"
          ]
        }
      ]
    },
    {
      "cell_type": "markdown",
      "source": [
        "В NumPy есть несколько встроенных функций для создания массивов с определенными значениями или заполнениями.\n",
        "\n",
        "1. np.zeros(shape): Создает массив заданной формы (shape), заполненный нулями."
      ],
      "metadata": {
        "id": "OOqJI4Ycw-WA"
      }
    },
    {
      "cell_type": "code",
      "source": [
        "zeros_arr = np.zeros((2, 3))\n",
        "print(\"Массив, заполненный нулями:\")\n",
        "print(zeros_arr)\n"
      ],
      "metadata": {
        "colab": {
          "base_uri": "https://localhost:8080/"
        },
        "id": "twHWaDT9xJT1",
        "outputId": "f9e151ff-a173-4425-816d-c4a501eeeade"
      },
      "execution_count": null,
      "outputs": [
        {
          "output_type": "stream",
          "name": "stdout",
          "text": [
            "Массив, заполненный нулями:\n",
            "[[0. 0. 0.]\n",
            " [0. 0. 0.]]\n"
          ]
        }
      ]
    },
    {
      "cell_type": "markdown",
      "source": [
        "2. np.ones(shape): Создает массив заданной формы (shape), заполненный единицами."
      ],
      "metadata": {
        "id": "53QjYINBxPOd"
      }
    },
    {
      "cell_type": "code",
      "source": [
        "ones_arr = np.ones((3, 2))\n",
        "print(\"Массив, заполненный единицами:\")\n",
        "print(ones_arr)\n"
      ],
      "metadata": {
        "colab": {
          "base_uri": "https://localhost:8080/"
        },
        "id": "PjA-PpVxxT7v",
        "outputId": "3850aa54-1c41-4c91-b31c-195e80ee6d4c"
      },
      "execution_count": null,
      "outputs": [
        {
          "output_type": "stream",
          "name": "stdout",
          "text": [
            "Массив, заполненный единицами:\n",
            "[[1. 1.]\n",
            " [1. 1.]\n",
            " [1. 1.]]\n"
          ]
        }
      ]
    },
    {
      "cell_type": "markdown",
      "source": [
        "3. np.empty(shape): Создает массив заданной формы (shape), но не инициализирует его значениями. Вместо этого в массиве могут оказаться произвольные значения, которые находились в соответствующей области памяти до создания массива.\n",
        "\n",
        "⁉"
      ],
      "metadata": {
        "id": "Kl55DH6wxXEj"
      }
    },
    {
      "cell_type": "code",
      "source": [
        "empty_arr = np.empty((2, 2))\n",
        "print(\"Пустой массив:\")\n",
        "print(empty_arr)\n"
      ],
      "metadata": {
        "colab": {
          "base_uri": "https://localhost:8080/"
        },
        "id": "DwPvc3Vqxj2v",
        "outputId": "4c570966-c837-4813-f5b2-74ac62523e18"
      },
      "execution_count": null,
      "outputs": [
        {
          "output_type": "stream",
          "name": "stdout",
          "text": [
            "Пустой массив:\n",
            "[[4.93350080e-310 0.00000000e+000]\n",
            " [6.95121561e-310 6.95121561e-310]]\n"
          ]
        }
      ]
    },
    {
      "cell_type": "markdown",
      "source": [
        "4. np.arange(start, stop, step): Создает одномерный массив со значениями от start до stop с заданным шагом step."
      ],
      "metadata": {
        "id": "Q6-PfAYCxpiB"
      }
    },
    {
      "cell_type": "code",
      "source": [
        "arange_arr = np.arange(0, 10, 2)\n",
        "print(\"Массив, созданный с помощью arange():\")\n",
        "print(arange_arr)\n"
      ],
      "metadata": {
        "colab": {
          "base_uri": "https://localhost:8080/"
        },
        "id": "bl7syuFOxviI",
        "outputId": "d17fa437-ef55-4fdf-dea5-06d1f7fa411e"
      },
      "execution_count": null,
      "outputs": [
        {
          "output_type": "stream",
          "name": "stdout",
          "text": [
            "Массив, созданный с помощью arange():\n",
            "[0 2 4 6 8]\n"
          ]
        }
      ]
    },
    {
      "cell_type": "markdown",
      "source": [
        "5. np.linspace(start, stop, num): Создает одномерный массив с num равномерно распределенными элементами в диапазоне от start до stop (включительно)."
      ],
      "metadata": {
        "id": "Nofe3neLyCG8"
      }
    },
    {
      "cell_type": "code",
      "source": [
        "linspace_arr = np.linspace(0, 1, 5)\n",
        "print(\"Массив, созданный с помощью linspace():\")\n",
        "print(linspace_arr)\n"
      ],
      "metadata": {
        "colab": {
          "base_uri": "https://localhost:8080/"
        },
        "id": "Ea-BHYSjyP-N",
        "outputId": "6ab70e28-8adb-4773-9eda-721c05503a35"
      },
      "execution_count": null,
      "outputs": [
        {
          "output_type": "stream",
          "name": "stdout",
          "text": [
            "Массив, созданный с помощью linspace():\n",
            "[0.   0.25 0.5  0.75 1.  ]\n"
          ]
        }
      ]
    },
    {
      "cell_type": "markdown",
      "source": [
        "## Основные операции с массивами NumPy\n",
        "\n",
        "Индексация и срезы массивов в NumPy работают аналогично спискам в Python, но с дополнительными возможностями для работы с многомерными массивами"
      ],
      "metadata": {
        "id": "vAK3NUAjyVST"
      }
    },
    {
      "cell_type": "code",
      "source": [
        "arr = np.array([1, 2, 3, 4, 5])\n",
        "\n",
        "# Обращение к элементу массива по индексу\n",
        "print(\"Первый элемент:\", arr[0])\n",
        "\n",
        "print(\"Последний элемент:\", arr[-1])\n",
        "\n",
        "print(\"Срез от второго до четвертого элемента:\", arr[1:4])\n",
        "\n",
        "print(\"Срез с шагом 2:\", arr[::2])\n"
      ],
      "metadata": {
        "colab": {
          "base_uri": "https://localhost:8080/"
        },
        "id": "yTvzcLCiz7KR",
        "outputId": "a2887539-76f8-4f84-a4a4-168a64269cde"
      },
      "execution_count": null,
      "outputs": [
        {
          "output_type": "stream",
          "name": "stdout",
          "text": [
            "Первый элемент: 1\n",
            "Последний элемент: 5\n",
            "Срез от второго до четвертого элемента: [2 3 4]\n",
            "Срез с шагом 2: [1 3 5]\n"
          ]
        }
      ]
    },
    {
      "cell_type": "markdown",
      "source": [
        "Для обращения к элементу двумерного массива используется кортеж индексов"
      ],
      "metadata": {
        "id": "lwBbG8V20Le9"
      }
    },
    {
      "cell_type": "code",
      "source": [
        "arr_2d = np.array([[1, 2, 3], [4, 5, 6], [7, 8, 9]])\n",
        "\n",
        "print(\"Элемент во второй строке и втором столбце:\", arr_2d[1, 1])\n",
        "\n",
        "print(\"Подмассив с двухмерного массива:\")\n",
        "print(arr_2d[:2, 1:])\n",
        "\n",
        "\n",
        "print(\"Срез с шагом 2 по столбцам:\")\n",
        "print(arr_2d[:, ::2])\n"
      ],
      "metadata": {
        "colab": {
          "base_uri": "https://localhost:8080/"
        },
        "id": "8wQbgJKU0VnN",
        "outputId": "df933eee-593c-4d92-c50c-06dedfd534fd"
      },
      "execution_count": null,
      "outputs": [
        {
          "output_type": "stream",
          "name": "stdout",
          "text": [
            "Элемент во второй строке и втором столбце: 5\n",
            "Подмассив с двухмерного массива:\n",
            "[[2 3]\n",
            " [5 6]]\n",
            "Срез с шагом 2 по столбцам:\n",
            "[[1 3]\n",
            " [4 6]\n",
            " [7 9]]\n"
          ]
        }
      ]
    },
    {
      "cell_type": "markdown",
      "source": [
        "Индексация с использованием массивов индексов:"
      ],
      "metadata": {
        "id": "9v5wYDeX0tYC"
      }
    },
    {
      "cell_type": "code",
      "source": [
        "arr = np.array([1, 2, 3, 4, 5])\n",
        "indices = np.array([0, 2, 4])\n",
        "print(arr[indices])\n",
        "\n",
        "arr_2d = np.array([[1, 2, 3], [4, 5, 6], [7, 8, 9]])\n",
        "# Создание массива индексов для строк и столбцов\n",
        "row_indices = np.array([0, 1, 2])\n",
        "col_indices = np.array([1, 2, 0])\n",
        "\n",
        "# Индексация массива arr_2d с использованием массивов индексов\n",
        "result = arr_2d[row_indices, col_indices]\n",
        "\n",
        "print(result)"
      ],
      "metadata": {
        "colab": {
          "base_uri": "https://localhost:8080/"
        },
        "id": "N9uXwNTc035h",
        "outputId": "1fc459b9-485d-4007-d665-73ae4be464e9"
      },
      "execution_count": null,
      "outputs": [
        {
          "output_type": "stream",
          "name": "stdout",
          "text": [
            "[1 3 5]\n",
            "[2 6 7]\n"
          ]
        }
      ]
    },
    {
      "cell_type": "markdown",
      "source": [
        "Индексация и срезы с помощью условий:"
      ],
      "metadata": {
        "id": "gzAs9y4g1NAP"
      }
    },
    {
      "cell_type": "code",
      "source": [
        "arr = np.array([1, 2, 3, 4, 5])\n",
        "print(arr[arr > 2])\n",
        "\n",
        "arr_2d = np.array([[1, 2, 3], [4, 5, 6], [7, 8, 9]])\n",
        "print(arr_2d[arr_2d > 5])\n"
      ],
      "metadata": {
        "colab": {
          "base_uri": "https://localhost:8080/"
        },
        "id": "QKbHOT801fu1",
        "outputId": "5ff50fe0-0ba3-4391-b34b-8aba6a50012a"
      },
      "execution_count": null,
      "outputs": [
        {
          "output_type": "stream",
          "name": "stdout",
          "text": [
            "[3 4 5]\n",
            "[6 7 8 9]\n"
          ]
        }
      ]
    },
    {
      "cell_type": "markdown",
      "source": [
        "Индексация и срезы в многомерных массивах:\n",
        "В многомерных массивах вы можете использовать несколько индексов или срезов для доступа к элементам или подмассивам. Срезы в многомерном массиве также задаются с помощью start:stop:step для каждого измерения, разделенных запятыми."
      ],
      "metadata": {
        "id": "oInhS_G63dqh"
      }
    },
    {
      "cell_type": "code",
      "source": [
        "arr_2d = np.array([[1, 2, 3], [4, 5, 6], [7, 8, 9]])\n",
        "print(arr2d[:2, 1:])\n"
      ],
      "metadata": {
        "colab": {
          "base_uri": "https://localhost:8080/"
        },
        "id": "-BQgwxa-3pBD",
        "outputId": "b11b9a0c-a70e-42eb-eb05-11c6a3633339"
      },
      "execution_count": null,
      "outputs": [
        {
          "output_type": "stream",
          "name": "stdout",
          "text": [
            "[[2 3]\n",
            " [5 6]]\n"
          ]
        }
      ]
    },
    {
      "cell_type": "code",
      "source": [
        "print(arr2d[:, ::2])\n"
      ],
      "metadata": {
        "colab": {
          "base_uri": "https://localhost:8080/"
        },
        "id": "mxpO_OMI4LOJ",
        "outputId": "e0632bf5-7c34-4ba0-f2d2-2fe4dc399fc9"
      },
      "execution_count": null,
      "outputs": [
        {
          "output_type": "stream",
          "name": "stdout",
          "text": [
            "[[1 3]\n",
            " [4 6]\n",
            " [7 9]]\n"
          ]
        }
      ]
    },
    {
      "cell_type": "markdown",
      "source": [
        "В NumPy арифметические операции с массивами выполняются поэлементно:"
      ],
      "metadata": {
        "id": "7G-ndF074svq"
      }
    },
    {
      "cell_type": "code",
      "source": [
        "arr1 = np.array([1, 2, 3])\n",
        "arr2 = np.array([4, 5, 6])\n",
        "\n",
        "print(arr1 + arr2)\n",
        "print(arr1 + 10)\n",
        "\n"
      ],
      "metadata": {
        "colab": {
          "base_uri": "https://localhost:8080/"
        },
        "id": "BYh_ma1I5IyV",
        "outputId": "2a908451-decc-41d1-da79-67de895ca7ae"
      },
      "execution_count": null,
      "outputs": [
        {
          "output_type": "stream",
          "name": "stdout",
          "text": [
            "[5 7 9]\n",
            "[11 12 13]\n"
          ]
        }
      ]
    },
    {
      "cell_type": "code",
      "source": [
        "print(arr1 - arr2)\n",
        "print(arr1 - 10)\n"
      ],
      "metadata": {
        "colab": {
          "base_uri": "https://localhost:8080/"
        },
        "id": "ugd0N3rS7Bv1",
        "outputId": "d5c542d4-06d6-4759-e1a7-b7d58dc0dec7"
      },
      "execution_count": null,
      "outputs": [
        {
          "output_type": "stream",
          "name": "stdout",
          "text": [
            "[-3 -3 -3]\n",
            "[-9 -8 -7]\n"
          ]
        }
      ]
    },
    {
      "cell_type": "code",
      "source": [
        "print(arr1 * arr2)\n",
        "print(arr1 * 10)\n"
      ],
      "metadata": {
        "colab": {
          "base_uri": "https://localhost:8080/"
        },
        "id": "Sh9_5p6R7EOo",
        "outputId": "1a19f2e9-c67a-4de7-b331-48bda414a0a2"
      },
      "execution_count": null,
      "outputs": [
        {
          "output_type": "stream",
          "name": "stdout",
          "text": [
            "[ 4 10 18]\n",
            "[10 20 30]\n"
          ]
        }
      ]
    },
    {
      "cell_type": "code",
      "source": [
        "print(arr1 / arr2)\n",
        "print(arr1 / 10)\n"
      ],
      "metadata": {
        "colab": {
          "base_uri": "https://localhost:8080/"
        },
        "id": "EbPH5etC7GBd",
        "outputId": "f78fb256-84f7-4f6e-86cd-5fc63d9ec13c"
      },
      "execution_count": null,
      "outputs": [
        {
          "output_type": "stream",
          "name": "stdout",
          "text": [
            "[0.25 0.4  0.5 ]\n",
            "[0.1 0.2 0.3]\n"
          ]
        }
      ]
    },
    {
      "cell_type": "code",
      "source": [
        "print(arr1 ** arr2)\n",
        "print(arr1 ** 2)\n"
      ],
      "metadata": {
        "colab": {
          "base_uri": "https://localhost:8080/"
        },
        "id": "oINxdTWG7KMp",
        "outputId": "402eaa2a-f3ba-4165-bc40-1baecba645c7"
      },
      "execution_count": null,
      "outputs": [
        {
          "output_type": "stream",
          "name": "stdout",
          "text": [
            "[  1  32 729]\n",
            "[1 4 9]\n"
          ]
        }
      ]
    },
    {
      "cell_type": "markdown",
      "source": [
        "NumPy предоставляет множество базовых математических функций для работы с массивами данных. Эти функции могут быть применены к массивам поэлементно. Ниже представленны лишь несколько примеров базовых математических функций в NumPy. Более подробный список функций и дополнительные возможности можно найти в официальной документации NumPy."
      ],
      "metadata": {
        "id": "7VyqaVgX70hx"
      }
    },
    {
      "cell_type": "code",
      "source": [
        "arr1 = np.array([0, np.pi/2, np.pi])\n",
        "#np.sin(): Вычисляет синус угла для каждого элемента массива.\n",
        "print(\"Синус элементов массива:\", np.sin(arr1))\n",
        "#np.cos(): Вычисляет косинус угла для каждого элемента массива.\n",
        "print(\"Косинус элементов массива:\", np.cos(arr1))\n",
        "#np.tan(): Вычисляет тангенс угла для каждого элемента массива.\n",
        "print(\"Тангенс элементов массива:\", np.tan(arr1))\n"
      ],
      "metadata": {
        "colab": {
          "base_uri": "https://localhost:8080/"
        },
        "id": "QDdBLU0L79at",
        "outputId": "6b550403-2aec-4fa0-c067-2c86ee58cb6e"
      },
      "execution_count": null,
      "outputs": [
        {
          "output_type": "stream",
          "name": "stdout",
          "text": [
            "Синус элементов массива: [0.0000000e+00 1.0000000e+00 1.2246468e-16]\n",
            "Косинус элементов массива: [ 1.000000e+00  6.123234e-17 -1.000000e+00]\n",
            "Тангенс элементов массива: [ 0.00000000e+00  1.63312394e+16 -1.22464680e-16]\n"
          ]
        }
      ]
    },
    {
      "cell_type": "code",
      "source": [
        "arr2 = np.array([1, 2, 3])\n",
        "#np.exp(): Вычисляет экспоненту (e^x) для каждого элемента массива.\n",
        "print(\"Экспонента для каждого элемента массива:\", np.exp(arr2))\n"
      ],
      "metadata": {
        "colab": {
          "base_uri": "https://localhost:8080/"
        },
        "id": "p0G56WTL815k",
        "outputId": "ecbba7c6-0a58-4de0-a0da-2750e8357dc2"
      },
      "execution_count": null,
      "outputs": [
        {
          "output_type": "stream",
          "name": "stdout",
          "text": [
            "Экспонента для каждого элемента массива: [ 2.71828183  7.3890561  20.08553692]\n"
          ]
        }
      ]
    },
    {
      "cell_type": "code",
      "source": [
        "arr3 = np.array([1, np.e, np.e**2])\n",
        "#np.exp(): Вычисляет экспоненту (e^x) для каждого элемента массива.\n",
        "print(\"Натуральный логарифм для каждого элемента массива:\", np.log(arr3))\n"
      ],
      "metadata": {
        "colab": {
          "base_uri": "https://localhost:8080/"
        },
        "id": "r_mz_j_m83jS",
        "outputId": "0f03a3fa-982a-4fd8-faf0-b61c072224b3"
      },
      "execution_count": null,
      "outputs": [
        {
          "output_type": "stream",
          "name": "stdout",
          "text": [
            "Натуральный логарифм для каждого элемента массива: [0. 1. 2.]\n"
          ]
        }
      ]
    },
    {
      "cell_type": "code",
      "source": [
        "arr4 = np.array([4, 9, 16])\n",
        "#np.exp(): Вычисляет экспоненту (e^x) для каждого элемента массива.\n",
        "print(\"Квадратный корень для каждого элемента массива:\", np.sqrt(arr4))\n"
      ],
      "metadata": {
        "colab": {
          "base_uri": "https://localhost:8080/"
        },
        "id": "zqdUyG5085Qr",
        "outputId": "6d2a28d0-7488-4e58-f68b-b549bc4b99ba"
      },
      "execution_count": null,
      "outputs": [
        {
          "output_type": "stream",
          "name": "stdout",
          "text": [
            "Квадратный корень для каждого элемента массива: [2. 3. 4.]\n"
          ]
        }
      ]
    },
    {
      "cell_type": "markdown",
      "source": [
        "Если мы работаем с векторами, мы также можем вычислить их скалярное и векторное произведение с помощью функций np.dot() и np.cross()."
      ],
      "metadata": {
        "id": "9v96oxJxzueY"
      }
    },
    {
      "cell_type": "code",
      "source": [
        "vec1 = np.array([1, 2, 3])\n",
        "vec2 = np.array([4, 5, 6])\n",
        "\n",
        "print(\"Векторное произведение векторов vec1 и vec2:\",np.cross(vec1, vec2))\n",
        "print(\"Скалярное произведение векторов vec1 и vec2:\",np.dot(vec1, vec2))"
      ],
      "metadata": {
        "colab": {
          "base_uri": "https://localhost:8080/"
        },
        "id": "q-xbVtg7z9Z0",
        "outputId": "21ac19e8-01c3-4879-d213-7f38262072a9"
      },
      "execution_count": null,
      "outputs": [
        {
          "output_type": "stream",
          "name": "stdout",
          "text": [
            "Векторное произведение векторов vec1 и vec2: [-3  6 -3]\n",
            "Скалярное произведение векторов vec1 и vec2: 32\n"
          ]
        }
      ]
    },
    {
      "cell_type": "markdown",
      "source": [
        "Помня определение смешанного произведения $(a×b)⋅c$, можем вычислить и его тоже с помощью комбинации функций np.cross() и np.dot()"
      ],
      "metadata": {
        "id": "2h8Zl0PP0uXZ"
      }
    },
    {
      "cell_type": "code",
      "source": [
        "vec3 = np.array([7, 8, 9])\n",
        "\n",
        "print(\"Смешанное произведение векторов vec1, vec2 и vec3:\", np.dot(np.cross(vec1, vec2), vec3))"
      ],
      "metadata": {
        "colab": {
          "base_uri": "https://localhost:8080/"
        },
        "id": "k2LUdwsR1FaZ",
        "outputId": "61251dae-1273-4d93-aa3c-e3cca1cce66e"
      },
      "execution_count": null,
      "outputs": [
        {
          "output_type": "stream",
          "name": "stdout",
          "text": [
            "Смешанное произведение векторов vec1, vec2 и vec3: 0\n"
          ]
        }
      ]
    }
  ]
}