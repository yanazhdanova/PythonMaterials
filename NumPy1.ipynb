{
  "cells": [
    {
      "cell_type": "markdown",
      "metadata": {
        "id": "3IH0pQCbsVIm"
      },
      "source": [
        "## Введение в NumPy\n",
        "\n",
        "NumPy (Numerical Python) - это библиотека для языка программирования Python, предназначенная для работы с многомерными массивами и матрицами, а также содержащая большое количество функций для выполнения операций линейной алгебры, статистики, случайных чисел и многого другого. Она является одной из основных библиотек для научных вычислений в Python и широко используется в областях, таких как анализ данных, машинное обучение, обработка изображений, численное моделирование и других.\n",
        "\n",
        "#### Зачем нужен NumPy?\n",
        "\n",
        "* Эффективность: NumPy обеспечивает высокую производительность и эффективность при работе с массивами данных благодаря своей реализации на языке программирования C. Это позволяет обрабатывать большие объемы данных быстрее, чем с помощью обычных списков Python.\n",
        "\n",
        "* Многомерные массивы: NumPy предоставляет объект ndarray, который позволяет эффективно хранить и оперировать многомерными массивами данных. Это делает его идеальным инструментом для работы с матрицами, изображениями, временными рядами и другими типами данных, которые могут быть представлены в виде массивов.\n",
        "\n",
        "* Богатый функционал: Библиотека NumPy содержит множество функций для выполнения различных операций, таких как арифметические операции, статистические вычисления, сортировка, фильтрация, решение линейных уравнений и многое другое. Это делает NumPy мощным инструментом для научных и инженерных вычислений.\n",
        "\n",
        "Преимущества использования NumPy перед обычными списками Python:\n",
        "\n",
        "* Высокая производительность: Операции с массивами NumPy выполняются гораздо быстрее, чем операции с обычными списками, благодаря использованию оптимизированных алгоритмов на языке C.\n",
        "\n",
        "* Удобство и простота: NumPy предоставляет простой и удобный интерфейс для работы с массивами, что делает код более читаемым и понятным.\n",
        "\n",
        "* Больше функций: NumPy предоставляет богатый выбор функций для выполнения операций над массивами, что упрощает решение широкого спектра задач, связанных с научными вычислениями и анализом данных.\n",
        "\n",
        "* Интеграция с другими библиотеками: NumPy тесно интегрируется с другими популярными библиотеками Python, такими как SciPy, Matplotlib и Pandas, что делает его частью экосистемы инструментов для научных и инженерных вычислений."
      ]
    },
    {
      "cell_type": "markdown",
      "metadata": {
        "id": "v9ASkoCZt3bX"
      },
      "source": [
        "## Создание массивов NumPy\n",
        "\n",
        "Обычно NumPy импортируется под псевдонимом **np** для удобства использования. Это общепринятое сокращение."
      ]
    },
    {
      "cell_type": "code",
      "execution_count": null,
      "metadata": {
        "id": "sjWRWIMVumD9"
      },
      "outputs": [],
      "source": [
        "import numpy as np"
      ]
    },
    {
      "cell_type": "markdown",
      "metadata": {
        "id": "vSCsRwsourBH"
      },
      "source": [
        "В NumPy для создания одномерных массивов можно использовать функцию numpy.array(), которая принимает список (или другой итерируемый объект) в качестве аргумента и создает из него одномерный массив."
      ]
    },
    {
      "cell_type": "code",
      "execution_count": null,
      "metadata": {
        "colab": {
          "base_uri": "https://localhost:8080/"
        },
        "id": "PLxsoPS7vXAg",
        "outputId": "b41abe22-58da-49f2-83bc-c1dbd46a4495"
      },
      "outputs": [
        {
          "name": "stdout",
          "output_type": "stream",
          "text": [
            "Массив arr1: [1 2 3 4 5]\n",
            "Массив arr2: [ 6  7  8  9 10]\n",
            "Массив arr3: [1 2 3 4 5]\n"
          ]
        }
      ],
      "source": [
        "# Создание одномерного массива из списка\n",
        "arr1 = np.array([1, 2, 3, 4, 5])\n",
        "print(\"Массив arr1:\", arr1)\n",
        "\n",
        "# Создание одномерного массива из кортежа\n",
        "arr2 = np.array((6, 7, 8, 9, 10))\n",
        "print(\"Массив arr2:\", arr2)\n",
        "\n",
        "# Создание одномерного массива из диапазона чисел\n",
        "arr3 = np.arange(1, 6)  #Массив с числами от 1 до 5 (не включая 6)\n",
        "print(\"Массив arr3:\", arr3)\n"
      ]
    },
    {
      "cell_type": "markdown",
      "metadata": {
        "id": "MT1470sVv23S"
      },
      "source": [
        "Для создания многомерных массивов также используется функция numpy.array()"
      ]
    },
    {
      "cell_type": "code",
      "execution_count": null,
      "metadata": {
        "colab": {
          "base_uri": "https://localhost:8080/"
        },
        "id": "PP4QFBymv9_z",
        "outputId": "90776203-a3d9-4337-9fe4-f2126b996ba4"
      },
      "outputs": [
        {
          "name": "stdout",
          "output_type": "stream",
          "text": [
            "Двумерный массив arr2d:\n",
            "[[1 2 3]\n",
            " [4 5 6]\n",
            " [7 8 9]]\n",
            "Трехмерный массив arr3d:\n",
            "[[[ 1  2  3]\n",
            "  [ 4  5  6]]\n",
            "\n",
            " [[ 7  8  9]\n",
            "  [10 11 12]]]\n",
            "Массив random_arr (случайные числа):\n",
            "[[0.59123407 0.4713403  0.10605412]\n",
            " [0.37402519 0.68914548 0.73225305]]\n"
          ]
        }
      ],
      "source": [
        "# Создание трехмерного массива из списка списков\n",
        "arr2d = np.array([[1, 2, 3], [4, 5, 6], [7, 8, 9]])\n",
        "print(\"Двумерный массив arr2d:\")\n",
        "print(arr2d)\n",
        "\n",
        "# Создание трехмерного массива\n",
        "arr3d = np.array([[[1, 2, 3], [4, 5, 6]], [[7, 8, 9], [10, 11, 12]]])\n",
        "print(\"Трехмерный массив arr3d:\")\n",
        "print(arr3d)\n",
        "\n",
        "# Создание массива размером 2x3, заполненный случайными числами от 0 до 1\n",
        "random_arr = np.random.rand(2, 3)\n",
        "print(\"Массив random_arr (случайные числа):\")\n",
        "print(random_arr)\n"
      ]
    },
    {
      "cell_type": "markdown",
      "metadata": {
        "id": "OOqJI4Ycw-WA"
      },
      "source": [
        "В NumPy есть несколько встроенных функций для создания массивов с определенными значениями.\n",
        "\n",
        "1. np.zeros(shape): Создает массив заданной формы (shape), заполненный нулями."
      ]
    },
    {
      "cell_type": "code",
      "execution_count": null,
      "metadata": {
        "colab": {
          "base_uri": "https://localhost:8080/"
        },
        "id": "twHWaDT9xJT1",
        "outputId": "f9e151ff-a173-4425-816d-c4a501eeeade"
      },
      "outputs": [
        {
          "name": "stdout",
          "output_type": "stream",
          "text": [
            "Массив, заполненный нулями:\n",
            "[[0. 0. 0.]\n",
            " [0. 0. 0.]]\n"
          ]
        }
      ],
      "source": [
        "zeros_arr = np.zeros((2, 3))\n",
        "print(\"Массив, заполненный нулями:\")\n",
        "print(zeros_arr)\n"
      ]
    },
    {
      "cell_type": "markdown",
      "metadata": {
        "id": "53QjYINBxPOd"
      },
      "source": [
        "2. np.ones(shape): Создает массив заданной формы (shape), заполненный единицами."
      ]
    },
    {
      "cell_type": "code",
      "execution_count": null,
      "metadata": {
        "colab": {
          "base_uri": "https://localhost:8080/"
        },
        "id": "PjA-PpVxxT7v",
        "outputId": "3850aa54-1c41-4c91-b31c-195e80ee6d4c"
      },
      "outputs": [
        {
          "name": "stdout",
          "output_type": "stream",
          "text": [
            "Массив, заполненный единицами:\n",
            "[[1. 1.]\n",
            " [1. 1.]\n",
            " [1. 1.]]\n"
          ]
        }
      ],
      "source": [
        "ones_arr = np.ones((3, 2))\n",
        "print(\"Массив, заполненный единицами:\")\n",
        "print(ones_arr)\n"
      ]
    },
    {
      "cell_type": "markdown",
      "metadata": {
        "id": "Kl55DH6wxXEj"
      },
      "source": [
        "3. np.empty(shape): Создает массив заданной формы (shape), но не инициализирует его значениями. Вместо этого в массиве могут оказаться произвольные значения, которые находились в соответствующей области памяти до создания массива.\n"
      ]
    },
    {
      "cell_type": "code",
      "execution_count": null,
      "metadata": {
        "colab": {
          "base_uri": "https://localhost:8080/"
        },
        "id": "DwPvc3Vqxj2v",
        "outputId": "4c570966-c837-4813-f5b2-74ac62523e18"
      },
      "outputs": [
        {
          "name": "stdout",
          "output_type": "stream",
          "text": [
            "Пустой массив:\n",
            "[[4.93350080e-310 0.00000000e+000]\n",
            " [6.95121561e-310 6.95121561e-310]]\n"
          ]
        }
      ],
      "source": [
        "empty_arr = np.empty((2, 2))\n",
        "print('\"Пустой\" массив:')\n",
        "print(empty_arr)\n"
      ]
    },
    {
      "cell_type": "markdown",
      "metadata": {
        "id": "Q6-PfAYCxpiB"
      },
      "source": [
        "4. np.arange(start, stop, step): Создает одномерный массив со значениями от start до stop с заданным шагом step."
      ]
    },
    {
      "cell_type": "code",
      "execution_count": null,
      "metadata": {
        "colab": {
          "base_uri": "https://localhost:8080/"
        },
        "id": "bl7syuFOxviI",
        "outputId": "d17fa437-ef55-4fdf-dea5-06d1f7fa411e"
      },
      "outputs": [
        {
          "name": "stdout",
          "output_type": "stream",
          "text": [
            "Массив, созданный с помощью arange():\n",
            "[0 2 4 6 8]\n"
          ]
        }
      ],
      "source": [
        "arange_arr = np.arange(0, 10, 2)\n",
        "print(\"Массив, созданный с помощью arange():\")\n",
        "print(arange_arr)\n"
      ]
    },
    {
      "cell_type": "markdown",
      "metadata": {
        "id": "Nofe3neLyCG8"
      },
      "source": [
        "5. np.linspace(start, stop, num): Создает одномерный массив с *num* равномерно распределенных элементов в диапазоне от start до stop (включительно)."
      ]
    },
    {
      "cell_type": "code",
      "execution_count": null,
      "metadata": {
        "colab": {
          "base_uri": "https://localhost:8080/"
        },
        "id": "Ea-BHYSjyP-N",
        "outputId": "6ab70e28-8adb-4773-9eda-721c05503a35"
      },
      "outputs": [
        {
          "name": "stdout",
          "output_type": "stream",
          "text": [
            "Массив, созданный с помощью linspace():\n",
            "[0.   0.25 0.5  0.75 1.  ]\n"
          ]
        }
      ],
      "source": [
        "linspace_arr = np.linspace(0, 1, 5)\n",
        "print(\"Массив, созданный с помощью linspace():\")\n",
        "print(linspace_arr)\n"
      ]
    },
    {
      "cell_type": "markdown",
      "metadata": {
        "id": "vAK3NUAjyVST"
      },
      "source": [
        "## Основные операции с массивами NumPy\n",
        "\n",
        "Индексация и срезы массивов в NumPy работают аналогично спискам в Python, но с дополнительными возможностями для работы с многомерными массивами"
      ]
    },
    {
      "cell_type": "code",
      "execution_count": null,
      "metadata": {
        "colab": {
          "base_uri": "https://localhost:8080/"
        },
        "id": "yTvzcLCiz7KR",
        "outputId": "a2887539-76f8-4f84-a4a4-168a64269cde"
      },
      "outputs": [
        {
          "name": "stdout",
          "output_type": "stream",
          "text": [
            "Первый элемент: 1\n",
            "Последний элемент: 5\n",
            "Срез от второго до четвертого элемента: [2 3 4]\n",
            "Срез с шагом 2: [1 3 5]\n"
          ]
        }
      ],
      "source": [
        "arr = np.array([1, 2, 3, 4, 5])\n",
        "\n",
        "# Обращение к элементу массива по индексу\n",
        "print(\"Первый элемент:\", arr[0])\n",
        "\n",
        "print(\"Последний элемент:\", arr[-1])\n",
        "\n",
        "print(\"Срез от второго до четвертого элемента:\", arr[1:4])\n",
        "\n",
        "print(\"Срез с шагом 2:\", arr[::2])\n"
      ]
    },
    {
      "cell_type": "markdown",
      "metadata": {
        "id": "lwBbG8V20Le9"
      },
      "source": [
        "Для обращения к элементу двумерного массива используется массив индексов"
      ]
    },
    {
      "cell_type": "code",
      "execution_count": null,
      "metadata": {
        "colab": {
          "base_uri": "https://localhost:8080/"
        },
        "id": "8wQbgJKU0VnN",
        "outputId": "df933eee-593c-4d92-c50c-06dedfd534fd"
      },
      "outputs": [
        {
          "name": "stdout",
          "output_type": "stream",
          "text": [
            "Элемент во второй строке и втором столбце: 5\n",
            "Подмассив с двухмерного массива:\n",
            "[[2 3]\n",
            " [5 6]]\n",
            "Срез с шагом 2 по столбцам:\n",
            "[[1 3]\n",
            " [4 6]\n",
            " [7 9]]\n"
          ]
        }
      ],
      "source": [
        "arr_2d = np.array([[1, 2, 3], [4, 5, 6], [7, 8, 9]])\n",
        "\n",
        "print(\"Элемент во второй строке и втором столбце:\", arr_2d[1, 1])\n",
        "\n",
        "print(\"Подмассив с двухмерного массива:\")\n",
        "print(arr_2d[:2, 1:])\n",
        "\n",
        "\n",
        "print(\"Срез с шагом 2 по столбцам:\")\n",
        "print(arr_2d[:, ::2])\n"
      ]
    },
    {
      "cell_type": "code",
      "execution_count": null,
      "metadata": {
        "colab": {
          "base_uri": "https://localhost:8080/"
        },
        "id": "N9uXwNTc035h",
        "outputId": "1fc459b9-485d-4007-d665-73ae4be464e9"
      },
      "outputs": [
        {
          "name": "stdout",
          "output_type": "stream",
          "text": [
            "[1 3 5]\n",
            "[2 6 7]\n"
          ]
        }
      ],
      "source": [
        "arr = np.array([1, 2, 3, 4, 5])\n",
        "indices = np.array([0, 2, 4])\n",
        "print(arr[indices])\n",
        "\n",
        "arr_2d = np.array([[1, 2, 3], [4, 5, 6], [7, 8, 9]])\n",
        "# Создание массива индексов для строк и столбцов\n",
        "row_indices = np.array([0, 1, 2])\n",
        "col_indices = np.array([1, 2, 0])\n",
        "\n",
        "# Индексация массива arr_2d с использованием массивов индексов\n",
        "result = arr_2d[row_indices, col_indices]\n",
        "\n",
        "print(result)"
      ]
    },
    {
      "cell_type": "markdown",
      "metadata": {
        "id": "gzAs9y4g1NAP"
      },
      "source": [
        "Индексация и срезы с помощью условий:"
      ]
    },
    {
      "cell_type": "code",
      "execution_count": null,
      "metadata": {
        "colab": {
          "base_uri": "https://localhost:8080/"
        },
        "id": "QKbHOT801fu1",
        "outputId": "5ff50fe0-0ba3-4391-b34b-8aba6a50012a"
      },
      "outputs": [
        {
          "name": "stdout",
          "output_type": "stream",
          "text": [
            "[3 4 5]\n",
            "[6 7 8 9]\n"
          ]
        }
      ],
      "source": [
        "arr = np.array([1, 2, 3, 4, 5])\n",
        "print(arr[arr > 2])\n",
        "\n",
        "arr_2d = np.array([[1, 2, 3], [4, 5, 6], [7, 8, 9]])\n",
        "print(arr_2d[arr_2d > 5])\n"
      ]
    },
    {
      "cell_type": "markdown",
      "metadata": {
        "id": "oInhS_G63dqh"
      },
      "source": [
        "Индексация и срезы в многомерных массивах:\n",
        "В многомерных массивах вы можете использовать несколько индексов или срезов для доступа к элементам или подмассивам. Срезы в многомерном массиве также задаются с помощью start:stop:step для каждого измерения, разделенных запятыми."
      ]
    },
    {
      "cell_type": "code",
      "execution_count": null,
      "metadata": {
        "colab": {
          "base_uri": "https://localhost:8080/"
        },
        "id": "-BQgwxa-3pBD",
        "outputId": "b11b9a0c-a70e-42eb-eb05-11c6a3633339"
      },
      "outputs": [
        {
          "name": "stdout",
          "output_type": "stream",
          "text": [
            "[[2 3]\n",
            " [5 6]]\n"
          ]
        }
      ],
      "source": [
        "arr_2d = np.array([[1, 2, 3], [4, 5, 6], [7, 8, 9]])\n",
        "print(arr2d[:2, 1:])\n"
      ]
    },
    {
      "cell_type": "code",
      "execution_count": null,
      "metadata": {
        "colab": {
          "base_uri": "https://localhost:8080/"
        },
        "id": "mxpO_OMI4LOJ",
        "outputId": "e0632bf5-7c34-4ba0-f2d2-2fe4dc399fc9"
      },
      "outputs": [
        {
          "name": "stdout",
          "output_type": "stream",
          "text": [
            "[[1 3]\n",
            " [4 6]\n",
            " [7 9]]\n"
          ]
        }
      ],
      "source": [
        "print(arr2d[:, ::2])\n"
      ]
    },
    {
      "cell_type": "markdown",
      "metadata": {
        "id": "7G-ndF074svq"
      },
      "source": [
        "В NumPy арифметические операции с массивами выполняются поэлементно:"
      ]
    },
    {
      "cell_type": "code",
      "execution_count": null,
      "metadata": {
        "colab": {
          "base_uri": "https://localhost:8080/"
        },
        "id": "BYh_ma1I5IyV",
        "outputId": "2a908451-decc-41d1-da79-67de895ca7ae"
      },
      "outputs": [
        {
          "name": "stdout",
          "output_type": "stream",
          "text": [
            "[5 7 9]\n",
            "[11 12 13]\n"
          ]
        }
      ],
      "source": [
        "arr1 = np.array([1, 2, 3])\n",
        "arr2 = np.array([4, 5, 6])\n",
        "\n",
        "print(arr1 + arr2)\n",
        "print(arr1 + 10)\n",
        "\n"
      ]
    },
    {
      "cell_type": "code",
      "execution_count": null,
      "metadata": {
        "colab": {
          "base_uri": "https://localhost:8080/"
        },
        "id": "ugd0N3rS7Bv1",
        "outputId": "d5c542d4-06d6-4759-e1a7-b7d58dc0dec7"
      },
      "outputs": [
        {
          "name": "stdout",
          "output_type": "stream",
          "text": [
            "[-3 -3 -3]\n",
            "[-9 -8 -7]\n"
          ]
        }
      ],
      "source": [
        "print(arr1 - arr2)\n",
        "print(arr1 - 10)\n"
      ]
    },
    {
      "cell_type": "code",
      "execution_count": null,
      "metadata": {
        "colab": {
          "base_uri": "https://localhost:8080/"
        },
        "id": "Sh9_5p6R7EOo",
        "outputId": "1a19f2e9-c67a-4de7-b331-48bda414a0a2"
      },
      "outputs": [
        {
          "name": "stdout",
          "output_type": "stream",
          "text": [
            "[ 4 10 18]\n",
            "[10 20 30]\n"
          ]
        }
      ],
      "source": [
        "print(arr1 * arr2)\n",
        "print(arr1 * 10)\n"
      ]
    },
    {
      "cell_type": "code",
      "execution_count": null,
      "metadata": {
        "colab": {
          "base_uri": "https://localhost:8080/"
        },
        "id": "EbPH5etC7GBd",
        "outputId": "f78fb256-84f7-4f6e-86cd-5fc63d9ec13c"
      },
      "outputs": [
        {
          "name": "stdout",
          "output_type": "stream",
          "text": [
            "[0.25 0.4  0.5 ]\n",
            "[0.1 0.2 0.3]\n"
          ]
        }
      ],
      "source": [
        "print(arr1 / arr2)\n",
        "print(arr1 / 10)\n"
      ]
    },
    {
      "cell_type": "code",
      "execution_count": null,
      "metadata": {
        "colab": {
          "base_uri": "https://localhost:8080/"
        },
        "id": "oINxdTWG7KMp",
        "outputId": "402eaa2a-f3ba-4165-bc40-1baecba645c7"
      },
      "outputs": [
        {
          "name": "stdout",
          "output_type": "stream",
          "text": [
            "[  1  32 729]\n",
            "[1 4 9]\n"
          ]
        }
      ],
      "source": [
        "print(arr1 ** arr2)\n",
        "print(arr1 ** 2)\n"
      ]
    },
    {
      "cell_type": "markdown",
      "metadata": {
        "id": "7VyqaVgX70hx"
      },
      "source": [
        "NumPy предоставляет множество базовых математических функций для работы с массивами данных. Эти функции могут быть применены к массивам поэлементно. Ниже представленны несколько примеров базовых математических функций. Более подробный список функций и дополнительные возможности можно найти в официальной документации."
      ]
    },
    {
      "cell_type": "code",
      "execution_count": null,
      "metadata": {
        "colab": {
          "base_uri": "https://localhost:8080/"
        },
        "id": "QDdBLU0L79at",
        "outputId": "6b550403-2aec-4fa0-c067-2c86ee58cb6e"
      },
      "outputs": [
        {
          "name": "stdout",
          "output_type": "stream",
          "text": [
            "Синус элементов массива: [0.0000000e+00 1.0000000e+00 1.2246468e-16]\n",
            "Косинус элементов массива: [ 1.000000e+00  6.123234e-17 -1.000000e+00]\n",
            "Тангенс элементов массива: [ 0.00000000e+00  1.63312394e+16 -1.22464680e-16]\n"
          ]
        }
      ],
      "source": [
        "arr1 = np.array([0, np.pi/2, np.pi])\n",
        "\n",
        "#np.sin(): Вычисляет синус угла для каждого элемента массива.\n",
        "print(\"Синус элементов массива:\", np.sin(arr1))\n",
        "\n",
        "#np.cos(): Вычисляет косинус угла для каждого элемента массива.\n",
        "print(\"Косинус элементов массива:\", np.cos(arr1))\n",
        "\n",
        "#np.tan(): Вычисляет тангенс угла для каждого элемента массива.\n",
        "print(\"Тангенс элементов массива:\", np.tan(arr1))\n"
      ]
    },
    {
      "cell_type": "code",
      "execution_count": null,
      "metadata": {
        "colab": {
          "base_uri": "https://localhost:8080/"
        },
        "id": "p0G56WTL815k",
        "outputId": "ecbba7c6-0a58-4de0-a0da-2750e8357dc2"
      },
      "outputs": [
        {
          "name": "stdout",
          "output_type": "stream",
          "text": [
            "Экспонента для каждого элемента массива: [ 2.71828183  7.3890561  20.08553692]\n"
          ]
        }
      ],
      "source": [
        "arr2 = np.array([1, 2, 3])\n",
        "\n",
        "#np.exp(): Вычисляет экспоненту (e^x) для каждого элемента массива.\n",
        "print(\"Экспонента для каждого элемента массива:\", np.exp(arr2))\n"
      ]
    },
    {
      "cell_type": "code",
      "execution_count": null,
      "metadata": {
        "colab": {
          "base_uri": "https://localhost:8080/"
        },
        "id": "r_mz_j_m83jS",
        "outputId": "0f03a3fa-982a-4fd8-faf0-b61c072224b3"
      },
      "outputs": [
        {
          "name": "stdout",
          "output_type": "stream",
          "text": [
            "Натуральный логарифм для каждого элемента массива: [0. 1. 2.]\n"
          ]
        }
      ],
      "source": [
        "arr3 = np.array([1, np.e, np.e**2])\n",
        "#np.exp(): Вычисляет натуральный для каждого элемента массива.\n",
        "print(\"Натуральный логарифм для каждого элемента массива:\", np.log(arr3))\n"
      ]
    },
    {
      "cell_type": "code",
      "execution_count": null,
      "metadata": {
        "colab": {
          "base_uri": "https://localhost:8080/"
        },
        "id": "zqdUyG5085Qr",
        "outputId": "6d2a28d0-7488-4e58-f68b-b549bc4b99ba"
      },
      "outputs": [
        {
          "name": "stdout",
          "output_type": "stream",
          "text": [
            "Квадратный корень для каждого элемента массива: [2. 3. 4.]\n"
          ]
        }
      ],
      "source": [
        "arr4 = np.array([4, 9, 16])\n",
        "\n",
        "#np.exp(): Вычисляет квадратный корень для каждого элемента массива.\n",
        "print(\"Квадратный корень для каждого элемента массива:\", np.sqrt(arr4))\n"
      ]
    },
    {
      "cell_type": "markdown",
      "metadata": {
        "id": "9v96oxJxzueY"
      },
      "source": [
        "Если мы работаем с векторами, мы также можем вычислить их скалярное и векторное произведение с помощью функций np.dot() и np.cross()."
      ]
    },
    {
      "cell_type": "code",
      "execution_count": null,
      "metadata": {
        "colab": {
          "base_uri": "https://localhost:8080/"
        },
        "id": "q-xbVtg7z9Z0",
        "outputId": "21ac19e8-01c3-4879-d213-7f38262072a9"
      },
      "outputs": [
        {
          "name": "stdout",
          "output_type": "stream",
          "text": [
            "Векторное произведение векторов vec1 и vec2: [-3  6 -3]\n",
            "Скалярное произведение векторов vec1 и vec2: 32\n"
          ]
        }
      ],
      "source": [
        "vec1 = np.array([1, 2, 3])\n",
        "vec2 = np.array([4, 5, 6])\n",
        "\n",
        "print(\"Векторное произведение векторов vec1 и vec2:\",np.cross(vec1, vec2))\n",
        "print(\"Скалярное произведение векторов vec1 и vec2:\",np.dot(vec1, vec2))"
      ]
    },
    {
      "cell_type": "markdown",
      "metadata": {
        "id": "2h8Zl0PP0uXZ"
      },
      "source": [
        "Помня определение смешанного произведения $(a×b)⋅c$, можем вычислить и его тоже с помощью комбинации функций np.cross() и np.dot()"
      ]
    },
    {
      "cell_type": "code",
      "execution_count": null,
      "metadata": {
        "colab": {
          "base_uri": "https://localhost:8080/"
        },
        "id": "k2LUdwsR1FaZ",
        "outputId": "61251dae-1273-4d93-aa3c-e3cca1cce66e"
      },
      "outputs": [
        {
          "name": "stdout",
          "output_type": "stream",
          "text": [
            "Смешанное произведение векторов vec1, vec2 и vec3: 0\n"
          ]
        }
      ],
      "source": [
        "vec3 = np.array([7, 8, 9])\n",
        "\n",
        "print(\"Смешанное произведение векторов vec1, vec2 и vec3:\", np.dot(np.cross(vec1, vec2), vec3))"
      ]
    },
    {
      "cell_type": "markdown",
      "source": [
        "## Немного практики"
      ],
      "metadata": {
        "id": "4b4LMYgZI8cw"
      }
    },
    {
      "cell_type": "markdown",
      "source": [
        "###1)\n",
        "Создайте двумерный массив размером 4x5, заполненный случайными числами  в диапазоне от 0 до 10.\n",
        "Найдите среднее значение всех элементов массива.\n",
        "Создайте новый массив, в котором каждый элемент оригинального массива будет увеличен на среднее значение из предыдущего шага и для каждого элемента найдите его синус, экспоненту, натуральный логарифм и квадратный корень."
      ],
      "metadata": {
        "id": "JWgUUjeDKSqT"
      }
    },
    {
      "cell_type": "code",
      "source": [],
      "metadata": {
        "id": "3JD-W5pkKoae"
      },
      "execution_count": null,
      "outputs": []
    },
    {
      "cell_type": "markdown",
      "source": [
        "###2)\n",
        "Создайте двумерный массив размером 6x6, заполненный числами от 0 до 35.\n",
        "Выделите и выведите на экран подмассив, состоящий из 3-х строк и 3-х столбцов второй четверти массива.\n",
        "Создайте массив из всех четных элементов исходного массива и выведите его на экран."
      ],
      "metadata": {
        "id": "eXivzJPOKp1Y"
      }
    },
    {
      "cell_type": "code",
      "source": [],
      "metadata": {
        "id": "mZm9bpQ_LsjL"
      },
      "execution_count": null,
      "outputs": []
    },
    {
      "cell_type": "markdown",
      "source": [
        "###3)\n",
        "Создайте два вектора vec1 и vec2 длиной по 3 элемента. Заполните их любыми целыми числами по своему выбору.\n",
        "Найдите и выведите на экран скалярное\n",
        "и векторное произведение векторов vec1 и vec2.\n",
        "Создайте третий вектор vec3 аналогично первым двум\n",
        "и вычислите смешанное произведение $(vec1 × vec2) ⋅ vec3$ и выведите результат на экран."
      ],
      "metadata": {
        "id": "bqfvlsBjLNwU"
      }
    },
    {
      "cell_type": "code",
      "source": [],
      "metadata": {
        "id": "aCnwcAi3NXSH"
      },
      "execution_count": null,
      "outputs": []
    }
  ],
  "metadata": {
    "colab": {
      "provenance": []
    },
    "kernelspec": {
      "display_name": "Python 3",
      "name": "python3"
    },
    "language_info": {
      "name": "python"
    }
  },
  "nbformat": 4,
  "nbformat_minor": 0
}