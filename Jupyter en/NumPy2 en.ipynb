{
  "nbformat": 4,
  "nbformat_minor": 0,
  "metadata": {
    "colab": {
      "provenance": []
    },
    "kernelspec": {
      "name": "python3",
      "display_name": "Python 3"
    },
    "language_info": {
      "name": "python"
    }
  },
  "cells": [
    {
      "cell_type": "code",
      "source": [
        "import numpy as np"
      ],
      "metadata": {
        "id": "AmjhMR4cAnEH"
      },
      "execution_count": null,
      "outputs": []
    },
    {
      "cell_type": "markdown",
      "source": [
        "In NumPy, matrices are two-dimensional arrays that have special properties and properties useful for linear algebras and matrix manipulation."
      ],
      "metadata": {
        "id": "3AdcIDyY-4XU"
      }
    },
    {
      "cell_type": "markdown",
      "source": [
        "A matrix can be created by passing a list of lists (or other iterable object) to the np.array() function"
      ],
      "metadata": {
        "id": "7pUA9WcHAW6U"
      }
    },
    {
      "cell_type": "code",
      "source": [
        "matrix = np.array([[1, 2, 3], [4, 5, 6], [7, 8, 9]])\n"
      ],
      "metadata": {
        "id": "Nqp-5nHqAyaJ"
      },
      "execution_count": null,
      "outputs": []
    },
    {
      "cell_type": "markdown",
      "source": [
        "NumPy provides some special functions for creating certain types of matrices.\n",
        "1. Matrix of zeros (np.zeros()):\n",
        "\n",
        "A matrix of zeros consists of all elements equal to zero."
      ],
      "metadata": {
        "id": "azYFGPufBK-V"
      }
    },
    {
      "cell_type": "code",
      "source": [
        "# Сreating a 2x3 matrix of zeros\n",
        "zeros_matrix = np.zeros((2, 3))\n",
        "print(zeros_matrix)\n"
      ],
      "metadata": {
        "colab": {
          "base_uri": "https://localhost:8080/"
        },
        "id": "WWqv6gPiBV0R",
        "outputId": "7c1a4881-e299-4561-e66c-36f2587d0e45"
      },
      "execution_count": null,
      "outputs": [
        {
          "output_type": "stream",
          "name": "stdout",
          "text": [
            "[[0. 0. 0.]\n",
            " [0. 0. 0.]]\n"
          ]
        }
      ]
    },
    {
      "cell_type": "markdown",
      "source": [
        "2. Matrix of ones (np.ones()):\n",
        "\n",
        "A matrix of ones consists of all elements equal to one."
      ],
      "metadata": {
        "id": "nIyZ0-uVEJ2L"
      }
    },
    {
      "cell_type": "code",
      "source": [
        "# Сreating a 2x3 matrix of ones\n",
        "ones_matrix = np.ones((3, 2))\n",
        "print(ones_matrix)\n"
      ],
      "metadata": {
        "colab": {
          "base_uri": "https://localhost:8080/"
        },
        "id": "cSGrclhQBnzj",
        "outputId": "79af3701-0922-4f25-eeb1-ba7766bd19af"
      },
      "execution_count": null,
      "outputs": [
        {
          "output_type": "stream",
          "name": "stdout",
          "text": [
            "[[1. 1.]\n",
            " [1. 1.]\n",
            " [1. 1.]]\n"
          ]
        }
      ]
    },
    {
      "cell_type": "markdown",
      "source": [
        "3. Identity matrix (np.eye()):\n",
        "\n",
        "The identity matrix (or identity operator) is a square matrix with all elements on the main diagonal equal to 1 and all others equal to 0."
      ],
      "metadata": {
        "id": "QS33wwyeERMw"
      }
    },
    {
      "cell_type": "code",
      "source": [
        "# Creating a 3x3 identity matrix\n",
        "identity_matrix = np.eye(3)\n",
        "print(identity_matrix)\n"
      ],
      "metadata": {
        "colab": {
          "base_uri": "https://localhost:8080/"
        },
        "id": "OuEM4DynBqK2",
        "outputId": "5723a408-4f7b-4e19-b18f-83208af2f87a"
      },
      "execution_count": null,
      "outputs": [
        {
          "output_type": "stream",
          "name": "stdout",
          "text": [
            "[[1. 0. 0.]\n",
            " [0. 1. 0.]\n",
            " [0. 0. 1.]]\n"
          ]
        }
      ]
    },
    {
      "cell_type": "markdown",
      "source": [
        "4. Diagonal matrix (np.diag()):\n",
        "\n",
        "A diagonal matrix has non-zero elements only on the main diagonal."
      ],
      "metadata": {
        "id": "WScGL8DUEVyy"
      }
    },
    {
      "cell_type": "code",
      "source": [
        "# Creating a 3x3 diagonal matrix\n",
        "diagonal_matrix = np.diag([1, 2, 3])\n",
        "print(diagonal_matrix)\n"
      ],
      "metadata": {
        "colab": {
          "base_uri": "https://localhost:8080/"
        },
        "id": "oibCs2oACvu5",
        "outputId": "6a388f32-ee27-4641-e821-e61651ff6dd6"
      },
      "execution_count": null,
      "outputs": [
        {
          "output_type": "stream",
          "name": "stdout",
          "text": [
            "[[1 0 0]\n",
            " [0 2 0]\n",
            " [0 0 3]]\n"
          ]
        }
      ]
    },
    {
      "cell_type": "markdown",
      "source": [
        "5. Matrix with a given value (np.full()):\n",
        "\n",
        "A matrix with a given value contains all elements equal to a specific value"
      ],
      "metadata": {
        "id": "WROPvP1KEcH9"
      }
    },
    {
      "cell_type": "code",
      "source": [
        "# Creating a matrix with given values\n",
        "constant_matrix = np.full((2, 3), 5)\n",
        "print(constant_matrix)\n"
      ],
      "metadata": {
        "colab": {
          "base_uri": "https://localhost:8080/"
        },
        "id": "sLAfgPD1DRmk",
        "outputId": "470f7310-a855-4474-cb7c-484b9d80b726"
      },
      "execution_count": null,
      "outputs": [
        {
          "output_type": "stream",
          "name": "stdout",
          "text": [
            "[[5 5 5]\n",
            " [5 5 5]]\n"
          ]
        }
      ]
    },
    {
      "cell_type": "markdown",
      "source": [
        "NumPy also provides methods for generating matrices with random values."
      ],
      "metadata": {
        "id": "pK10i04tB4bZ"
      }
    },
    {
      "cell_type": "code",
      "source": [
        "random_matrix1 = np.random.rand(2, 3)\n",
        "print(random_matrix1)\n",
        "\n",
        "random_matrix2 = np.random.randint(10, size=(3, 2))\n",
        "print(random_matrix2)\n"
      ],
      "metadata": {
        "colab": {
          "base_uri": "https://localhost:8080/"
        },
        "id": "8_RW7t_IB9OK",
        "outputId": "a54bca22-417f-4d6d-b3cc-051c6ae7651e"
      },
      "execution_count": null,
      "outputs": [
        {
          "output_type": "stream",
          "name": "stdout",
          "text": [
            "[[0.96724696 0.85198786 0.94743091]\n",
            " [0.71636589 0.77264582 0.34596159]]\n",
            "[[2 5]\n",
            " [4 5]\n",
            " [7 1]]\n"
          ]
        }
      ]
    },
    {
      "cell_type": "markdown",
      "source": [
        "These are some of the most common preset matrices in NumPy."
      ],
      "metadata": {
        "id": "7g3FV7U3EjXf"
      }
    },
    {
      "cell_type": "markdown",
      "source": [
        "In NumPy, arrays, including matrices, have several basic attributes that provide information about their shape and size. Some of them:\n",
        "\n",
        "1. shape:\n",
        "\n",
        "The shape attribute returns a tuple representing the dimension of the array. For a matrix, this would be a tuple with two elements, where the first element represents the number of rows and the second element represents the number of columns.\n",
        "\n",
        "2. ndim:\n",
        "\n",
        "The ndim attribute returns the number of dimensions (axes) of the array. For a matrix it will always be 2, since a matrix is ​​a two-dimensional array.\n",
        "\n",
        "3. size:\n",
        "\n",
        "The size attribute returns the total number of elements in the array.\n",
        "\n",
        "4. real и imag:\n",
        "\n",
        "If the array contains complex numbers, the real and imag attributes represent the real and imaginary parts, respectively."
      ],
      "metadata": {
        "id": "CumoHv34FsZq"
      }
    },
    {
      "cell_type": "code",
      "source": [
        "matrix = np.array([[1, 2, 3], [4, 5, 6], [7, 8, 9]])\n",
        "\n",
        "print(\"Matrix shape:\", matrix.shape)\n",
        "print(\"Number of dimensions (ndim) of the matrix:\", matrix.ndim)\n",
        "print(\"The total number of elements (size) of the matrix:\", matrix.size)\n"
      ],
      "metadata": {
        "colab": {
          "base_uri": "https://localhost:8080/"
        },
        "id": "6-t4l6bxGGRW",
        "outputId": "74d8d9ca-83e9-4ff1-94d5-7930b8903955"
      },
      "execution_count": null,
      "outputs": [
        {
          "output_type": "stream",
          "name": "stdout",
          "text": [
            "Matrix shape: (3, 3)\n",
            "Number of dimensions (ndim) of the matrix: 2\n",
            "The total number of elements (size) of the matrix: 9\n"
          ]
        }
      ]
    },
    {
      "cell_type": "code",
      "source": [
        "arr_complex = np.array([[1 + 2j, 3 + 4j], [5 + 6j, 7 + 8j]])\n",
        "\n",
        "print(\"Real part:\", arr_complex.real)\n",
        "print(\"Imaginary part (imag):\", arr_complex.imag)\n"
      ],
      "metadata": {
        "colab": {
          "base_uri": "https://localhost:8080/"
        },
        "id": "6RgtGXGxGZI4",
        "outputId": "1253e9e2-a4ac-4f47-df58-c078f95d199d"
      },
      "execution_count": null,
      "outputs": [
        {
          "output_type": "stream",
          "name": "stdout",
          "text": [
            "Real part: [[1. 3.]\n",
            " [5. 7.]]\n",
            "Imaginary part (imag): [[2. 4.]\n",
            " [6. 8.]]\n"
          ]
        }
      ]
    },
    {
      "cell_type": "markdown",
      "source": [
        "In the last lesson we looked at arithmetic operations on arrays. The same functionality is present regarding matrices."
      ],
      "metadata": {
        "id": "I6qM8nNntDSd"
      }
    },
    {
      "cell_type": "markdown",
      "source": [
        "* Addition and subtraction:\n",
        "\n",
        "Addition and subtraction of matrices occurs element by element. The operators + and - are used for this."
      ],
      "metadata": {
        "id": "U2XEYNFotXsI"
      }
    },
    {
      "cell_type": "code",
      "source": [
        "matrix1 = np.array([[1, 2], [3, 4]])\n",
        "matrix2 = np.array([[5, 6], [7, 8]])\n",
        "\n",
        "print(matrix1 + matrix2)\n"
      ],
      "metadata": {
        "colab": {
          "base_uri": "https://localhost:8080/"
        },
        "id": "OmcxVW95tbZY",
        "outputId": "e6ad839b-23d3-4c3a-f7a7-45ff0cfb54e6"
      },
      "execution_count": null,
      "outputs": [
        {
          "output_type": "stream",
          "name": "stdout",
          "text": [
            "[[ 6  8]\n",
            " [10 12]]\n"
          ]
        }
      ]
    },
    {
      "cell_type": "code",
      "source": [
        "print(matrix1 - matrix2)"
      ],
      "metadata": {
        "colab": {
          "base_uri": "https://localhost:8080/"
        },
        "id": "rtNXiRavt3P6",
        "outputId": "1ed6e22d-0aee-4183-d2a1-d4d4d12b3061"
      },
      "execution_count": null,
      "outputs": [
        {
          "output_type": "stream",
          "name": "stdout",
          "text": [
            "[[-4 -4]\n",
            " [-4 -4]]\n"
          ]
        }
      ]
    },
    {
      "cell_type": "markdown",
      "source": [
        "* Multiplication:\n",
        "\n",
        "Matrix multiplication can also be element-wise or matrix standart, depending on the use of the * operator or the np.dot() function"
      ],
      "metadata": {
        "id": "ZTf3Cusmtnr0"
      }
    },
    {
      "cell_type": "code",
      "source": [
        "print(matrix1 * matrix2)\n"
      ],
      "metadata": {
        "colab": {
          "base_uri": "https://localhost:8080/"
        },
        "id": "v5frTVRytrdB",
        "outputId": "4296b7fc-18bc-4615-ccd4-2931a05f3e9c"
      },
      "execution_count": null,
      "outputs": [
        {
          "output_type": "stream",
          "name": "stdout",
          "text": [
            "[[ 5 12]\n",
            " [21 32]]\n"
          ]
        }
      ]
    },
    {
      "cell_type": "code",
      "source": [
        "print(np.dot(matrix1, matrix2))\n"
      ],
      "metadata": {
        "colab": {
          "base_uri": "https://localhost:8080/"
        },
        "id": "hrmOL6UHt65z",
        "outputId": "9012f4e6-712d-4589-a2ba-48a568aea4e4"
      },
      "execution_count": null,
      "outputs": [
        {
          "output_type": "stream",
          "name": "stdout",
          "text": [
            "[[19 22]\n",
            " [43 50]]\n"
          ]
        }
      ]
    },
    {
      "cell_type": "markdown",
      "source": [
        "* Division:\n",
        "\n",
        "The division of matrices also occurs element by element. The / operator is used"
      ],
      "metadata": {
        "id": "T1PtmaY4uCYN"
      }
    },
    {
      "cell_type": "code",
      "source": [
        "print(matrix1 / matrix2)\n"
      ],
      "metadata": {
        "colab": {
          "base_uri": "https://localhost:8080/"
        },
        "id": "LgaMgzF6uGAu",
        "outputId": "6f7ad434-0edb-4714-af71-383294043f07"
      },
      "execution_count": null,
      "outputs": [
        {
          "output_type": "stream",
          "name": "stdout",
          "text": [
            "[[0.2        0.33333333]\n",
            " [0.42857143 0.5       ]]\n"
          ]
        }
      ]
    },
    {
      "cell_type": "markdown",
      "source": [
        "Also, NumPy methods provide the ability to transpose a matrix, find the determinant, rank, trace, inverse matrix, and more.\n",
        "\n",
        "Matrix transposition can be done using the .T method or the np.transpose() function"
      ],
      "metadata": {
        "id": "5ZKRruZpuhV8"
      }
    },
    {
      "cell_type": "code",
      "source": [
        "print (matrix1.T)\n"
      ],
      "metadata": {
        "colab": {
          "base_uri": "https://localhost:8080/"
        },
        "id": "VMoHiXrCu-7i",
        "outputId": "e4b432fe-4ab3-4847-8846-4a23ed634663"
      },
      "execution_count": null,
      "outputs": [
        {
          "output_type": "stream",
          "name": "stdout",
          "text": [
            "[[1 3]\n",
            " [2 4]]\n"
          ]
        }
      ]
    },
    {
      "cell_type": "code",
      "source": [
        "print (np.transpose(matrix1))\n"
      ],
      "metadata": {
        "colab": {
          "base_uri": "https://localhost:8080/"
        },
        "id": "oLcYGn7KvTMQ",
        "outputId": "9348f704-a1ba-4337-9d95-0daf1f7f664f"
      },
      "execution_count": null,
      "outputs": [
        {
          "output_type": "stream",
          "name": "stdout",
          "text": [
            "[[1 3]\n",
            " [2 4]]\n"
          ]
        }
      ]
    },
    {
      "cell_type": "markdown",
      "source": [
        "The trace can be found using np.trace()."
      ],
      "metadata": {
        "id": "vuA9ZkEk6Nvc"
      }
    },
    {
      "cell_type": "code",
      "source": [
        "print(np.trace(matrix1))\n"
      ],
      "metadata": {
        "colab": {
          "base_uri": "https://localhost:8080/"
        },
        "id": "xQ1SFFnN6aDf",
        "outputId": "377765d8-c05f-4c24-a087-fdae28224fff"
      },
      "execution_count": null,
      "outputs": [
        {
          "output_type": "stream",
          "name": "stdout",
          "text": [
            "5\n"
          ]
        }
      ]
    },
    {
      "cell_type": "markdown",
      "source": [
        "The determinant, inverse matrix and rank can be found using the np.linalg.det() and np.linalg.inv() functions; we’ll look at them and the np.linalg submodule a little later"
      ],
      "metadata": {
        "id": "UJ03N3fovdkS"
      }
    },
    {
      "cell_type": "markdown",
      "source": [
        "##Practice"
      ],
      "metadata": {
        "id": "Rc1zv8zskNPv"
      }
    },
    {
      "cell_type": "markdown",
      "source": [
        "###1)\n",
        "Create 2 3 by 3 matrices with random natural numbers. Perform element-by-element addition and subtraction, multiplication and division of these matrices and display the results on the screen.\n",
        "Perform matrix multiplication on matrix1 and matrix2 and display the result."
      ],
      "metadata": {
        "id": "12eZ3ATQkQ67"
      }
    },
    {
      "cell_type": "code",
      "source": [],
      "metadata": {
        "id": "uoqMs3J8lSdG"
      },
      "execution_count": null,
      "outputs": []
    },
    {
      "cell_type": "markdown",
      "source": [
        "###2)\n",
        "Create a 4x4 square matrix containing values ​​from 0 to 15.\n",
        "Find and display this matrix's trace, determinant and rank\n",
        "If the determinant of a matrix is ​​not zero, find and display the inverse of the matrix."
      ],
      "metadata": {
        "id": "_Pww7RWclS4L"
      }
    },
    {
      "cell_type": "code",
      "source": [],
      "metadata": {
        "id": "6lUvweH0mRrI"
      },
      "execution_count": null,
      "outputs": []
    },
    {
      "cell_type": "markdown",
      "source": [
        "###3)\n",
        "Create a 5x4 matrix with numbers from 0 to 100 evenly distributed.\n",
        "Transpose the matrix.\n",
        "Compare the dimensions of the original and transposed matrices."
      ],
      "metadata": {
        "id": "1mML61G6mSCh"
      }
    },
    {
      "cell_type": "code",
      "source": [],
      "metadata": {
        "id": "7LL7JXP_mYur"
      },
      "execution_count": null,
      "outputs": []
    }
  ]
}