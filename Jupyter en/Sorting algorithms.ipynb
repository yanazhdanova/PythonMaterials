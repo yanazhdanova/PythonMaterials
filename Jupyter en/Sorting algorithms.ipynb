{
  "nbformat": 4,
  "nbformat_minor": 0,
  "metadata": {
    "colab": {
      "provenance": []
    },
    "kernelspec": {
      "name": "python3",
      "display_name": "Python 3"
    },
    "language_info": {
      "name": "python"
    }
  },
  "cells": [
    {
      "cell_type": "markdown",
      "source": [
        "\n",
        "Sorting is the process of arranging elements in some order. To understand, you can imagine the task of organizing books on a shelf in a library. If the books on your shelf are placed in random order, you will have a hard time finding the book you need. But if you organize them alphabetically or by genre, the search becomes much easier and faster.\n",
        "\n",
        "In programming, sorting is used to organize data in arrays, lists, or other data structures. This makes it easier and faster to find the elements you need, as well as process data with fewer resources.\n"
      ],
      "metadata": {
        "id": "IJANCTvf1sJ7"
      }
    },
    {
      "cell_type": "markdown",
      "source": [
        "### Why do you need to know them?\n",
        "Although programming languages ​​typically have built-in sorting, knowledge of sorting algorithms is important for:\n",
        "\n",
        "\n",
        "1.   Better understanding how it works: Helps you understand how built-in sorts work.\n",
        "2.   Code optimization: Allows you to select the optimal algorithm for a specific task or make your own implementation.\n",
        "\n",
        "3. Solutions to non-trivial problems: Some scenarios require non-standard approaches to sorting.\n",
        "\n",
        "4. Debugging and Optimization: Helps in debugging code and optimizing it to improve performance.\n",
        "5. Education and professional growth as a specialist.\n"
      ],
      "metadata": {
        "id": "8oB7GEN64h0p"
      }
    },
    {
      "cell_type": "markdown",
      "source": [
        "There are dozens of different algorithms, differing in complexity, speed of operation, and memory footprint. To get acquainted with this topic, we suggest you consider 3 different sorting algorithms:\n",
        "\n",
        "\n",
        "*   Bubble sort\n",
        "*   Selection sort\n",
        "\n",
        "*   Quick sort\n",
        "\n",
        "\n",
        "\n",
        "\n",
        "\n"
      ],
      "metadata": {
        "id": "qthu1-Ar6_o_"
      }
    },
    {
      "cell_type": "markdown",
      "source": [
        "\n",
        "\n",
        "---\n",
        "\n",
        "\n",
        "---\n",
        "\n",
        "\n",
        "### Before analyzing the sortings themselves, for a better understanding of the topic, let's remember how algorithms are evaluated.\n",
        "For evaluation we use O-notation ($O(n)$) -\n",
        "upper bound on the execution time of the algorithm depending on the size of the input data. For example, if an algorithm has a time complexity of $O(n)$, this means that if the size of the input data is doubled, the execution time will also approximately double, and if the algorithm has a time complexity of $O(n^2)$, this means, that by doubling the size of the input data, the execution time will approximately quadruple.\n",
        "\n",
        "Estimating the execution time of an algorithm is a way to measure how fast an algorithm runs based on the amount of data it processes. It helps us understand how quickly the algorithm will work in practice.\n",
        "\n",
        "Worst, average and best cases:\n",
        "\n",
        "Best case: This is the situation where the algorithm executes most efficiently, usually given certain inputs that are most suitable for the algorithm.\n",
        "\n",
        "Worst case: This is the situation where the algorithm is most inefficient, when it has to process the most complex input data or perform the most number of operations.\n",
        "\n",
        "Average case: This is the average estimate of the algorithm's execution time for all possible inputs, based on the probability distribution of those inputs.\n",
        "\n",
        "Memory:\n",
        "\n",
        "Besides the execution time, it is also important to evaluate the memory usage of the algorithm. This means how much RAM the algorithm takes depending on the amount of data.\n",
        "\n",
        "Some algorithms may be fast but memory-intensive, while others may be slow but memory-efficient."
      ],
      "metadata": {
        "id": "tnB9v7IsBg3d"
      }
    },
    {
      "cell_type": "markdown",
      "source": [
        "\n",
        "\n",
        "---\n",
        "\n",
        "\n",
        "\n",
        "---\n",
        "## Bubble sort\n",
        "\n",
        "Bubble sort is one of the most famous and simplest sorting algorithms. It is not used in practice due to its low efficiency, but due to its ease of understanding it is often used for educational purposes. It is also the basis for sorting algorithms such as cocktail shaker sort and comb sort.\n",
        "\n",
        "### Bubble sort algorithm:\n",
        "1. Сompare the first and second elements of the array. If the first element is greater than the second, we swap them.\n",
        "2. move on to the second and third elements. If the second is greater than the third, we swap them.\n",
        "3. Сontinue to compare and change elements in pairs until the penultimate element.\n",
        "4. After going through all the elements, the largest element will be at the end of the array.\n",
        "5. Start going through the array again from the beginning, but this time excluding the last (largest) element.\n",
        "6. Repeat this process until all elements have been checked and the array is completely sorted.\n",
        "7. The algorithm terminates when there are no elements left to compare.\n",
        "\n",
        "Done! As you see, this is a really simple algorithm.\n",
        "\n",
        "It can be visualized this way:\n",
        "<p><a href=\"https://commons.wikimedia.org/wiki/File:Bubble-sort-example-300px.gif#/media/%D0%A4%D0%B0%D0%B9%D0%BB:Bubble-sort-example-300px.gif\"><img src=\"https://upload.wikimedia.org/wikipedia/commons/c/c8/Bubble-sort-example-300px.gif\" alt=\"Визуализация сортировки массива чисел алгоритмом сортировки пузырьком\" height=\"360\" width=\"600\"></a><br></a></p>\n"
      ],
      "metadata": {
        "id": "1DmOdoqL8ZX-"
      }
    },
    {
      "cell_type": "markdown",
      "source": [
        "Now let's look at the code for this sorting in Python."
      ],
      "metadata": {
        "id": "C_VllachACz1"
      }
    },
    {
      "cell_type": "code",
      "source": [
        "def bubble_sort(arr):\n",
        "    n = len(arr)\n",
        "    for i in range(n):\n",
        "        for j in range(0, n-i-1):\n",
        "            if arr[j] > arr[j+1]:\n",
        "                arr[j], arr[j+1] = arr[j+1], arr[j]\n",
        "\n",
        "# Usage example:\n",
        "arr = [64, 34, 25, 12, 22, 11, 90]\n",
        "print(\"Initial array:\", arr)\n",
        "bubble_sort(arr)\n",
        "print(\"Sorted array:\", arr)"
      ],
      "metadata": {
        "colab": {
          "base_uri": "https://localhost:8080/"
        },
        "id": "7kcgmmgcEMWd",
        "outputId": "14c16f64-defc-4a7b-8452-bb21b5de5bcc"
      },
      "execution_count": 1,
      "outputs": [
        {
          "output_type": "stream",
          "name": "stdout",
          "text": [
            "Initial array: [64, 34, 25, 12, 22, 11, 90]\n",
            "Sorted array: [11, 12, 22, 25, 34, 64, 90]\n"
          ]
        }
      ]
    },
    {
      "cell_type": "markdown",
      "source": [
        "It works!\n",
        "At best, this algorithm will run in $O(n)$. On average and worst - for $O (n^2)$. Memory costs will be $O(1)$."
      ],
      "metadata": {
        "id": "gkqOp2EDE4kU"
      }
    },
    {
      "cell_type": "markdown",
      "source": [
        "\n",
        "\n",
        "---\n",
        "\n",
        "\n",
        "\n",
        "---\n",
        "\n",
        "## Selection Sort\n",
        "Selection Sort - This is another one of the simple sorting algorithms. It works by repeatedly selecting the smallest (or largest) element from the remaining unsorted ones and placing it at the end (or beginning) of the sorted part of the array. This process is repeated until all elements are in order.\n",
        "\n",
        "Here's how the algorithm works:\n",
        "\n",
        "1. Start with the first element of the array.\n",
        "2. Find the smallest element in the remainder of the array.\n",
        "3. Swap the current element with the smallest element found.\n",
        "4. Move to the next element in the array and repeat steps 2-3.\n",
        "5. Repeat this process until we go through the entire array.\n",
        "\n",
        "And this is how you can visualize it.\n",
        "<p><a href=\"https://commons.wikimedia.org/wiki/File:Selection-Sort-Animation.gif#/media/%D0%A4%D0%B0%D0%B9%D0%BB:Selection-Sort-Animation.gif\"><img src=\"https://upload.wikimedia.org/wikipedia/commons/9/94/Selection-Sort-Animation.gif\" alt=\"Selection-Sort-Animation.gif\" height=\"557\" width=\"150\"></a><br>Авторство: <a href=\"https://en.wikipedia.org/wiki/User:Joestape89\" class=\"extiw\" title=\"en:User:Joestape89\">Joestape89</a>, <a href=\"http://creativecommons.org/licenses/by-sa/3.0/\" title=\"Creative Commons Attribution-Share Alike 3.0\">CC BY-SA 3.0</a>, <a href=\"https://commons.wikimedia.org/w/index.php?curid=3330231\">Ссылка</a></p>\n"
      ],
      "metadata": {
        "id": "Xk657WIOOG5r"
      }
    },
    {
      "cell_type": "markdown",
      "source": [
        "Let's write the code for this algorithm in Python:"
      ],
      "metadata": {
        "id": "wo4XOcEvRE9o"
      }
    },
    {
      "cell_type": "code",
      "source": [
        "def selection_sort(arr):\n",
        "    n = len(arr)\n",
        "    for i in range(n):\n",
        "        min_index = i\n",
        "        for j in range(i+1, n):\n",
        "            if arr[j] < arr[min_index]:\n",
        "                min_index = j\n",
        "        arr[i], arr[min_index] = arr[min_index], arr[i]\n",
        "\n",
        "# example:\n",
        "arr = [64, 34, 25, 12, 22, 11, 90]\n",
        "print(\"Original list:\", arr)\n",
        "selection_sort(arr)\n",
        "print(\"Sorted list:\", arr)"
      ],
      "metadata": {
        "colab": {
          "base_uri": "https://localhost:8080/"
        },
        "id": "2GrDMSe5RcFk",
        "outputId": "642e6f9b-cb49-4b25-c98e-d65a00759e4e"
      },
      "execution_count": 1,
      "outputs": [
        {
          "output_type": "stream",
          "name": "stdout",
          "text": [
            "Original list: [64, 34, 25, 12, 22, 11, 90]\n",
            "Sorted array: [11, 12, 22, 25, 34, 64, 90]\n"
          ]
        }
      ]
    },
    {
      "cell_type": "markdown",
      "source": [
        "Selection sort has a time complexity of $O(n^2)$ in the worst, average, and best cases, and uses a constant amount of additional O(1) memory. This makes it a suboptimal choice for sorting large data sets, but it can be useful for small data sets or as a teaching example due to its simplicity.\n"
      ],
      "metadata": {
        "id": "K3z2GjUaSMgd"
      }
    },
    {
      "cell_type": "markdown",
      "source": [
        "\n",
        "\n",
        "---\n",
        "\n",
        "\n",
        "\n",
        "---\n",
        "\n",
        "## Quick sort:\n",
        "Quick Sort - is an efficient sorting algorithm that uses a divide-and-conquer strategy. It splits an array into subarrays, then sorts those subarrays recursively.\n",
        "\n",
        "Invented by English computer scientist Tony Hoare back in 1959, over the past decades, quick sort has deservedly acquired the status of one of the most effective methods for sorting data. Its simplicity and high performance make it a popular choice for a variety of sorting tasks in many areas.\n",
        "\n",
        "Despite its efficiency, the algorithm for this sorting is simple:\n",
        "\n",
        "1. Select a reference element from the array. This can be any element of the array, but typically the first, last, or middle elements are selected.\n",
        "2.\n",
        "Split the array into two subgroups: one contains elements less than or equal to the reference, and the other contains elements greater than the reference.\n",
        "3.\n",
        "Recursively apply quick sort to each subgroup.\n",
        "4. Merge the sorted subgroups together.\n",
        "\n",
        "Let's visualize it like this:\n",
        "<p><a href=\"https://commons.wikimedia.org/wiki/File:Sorting_quicksort_anim.gif#/media/%D0%A4%D0%B0%D0%B9%D0%BB:Sorting_quicksort_anim.gif\"><img src=\"https://upload.wikimedia.org/wikipedia/commons/6/6a/Sorting_quicksort_anim.gif\" alt=\"Визуализация алгоритма быстрой сортировки. Горизонтальные линии обозначают опорные элементы.\" height=\"428\" width=\"560\"></a><br>Авторство: <a href=\"https://en.wikipedia.org/wiki/User:RolandH\" class=\"extiw\" title=\"en:User:RolandH\">en:User:RolandH</a>, <a href=\"http://creativecommons.org/licenses/by-sa/3.0/\" title=\"Creative Commons Attribution-Share Alike 3.0\">CC BY-SA 3.0</a>, <a href=\"https://commons.wikimedia.org/w/index.php?curid=1965827\">Ссылка</a></p>\n",
        "\n",
        "Or like this: <p><a href=\"https://commons.wikimedia.org/wiki/File:Quicksort-diagram.svg#/media/%D0%A4%D0%B0%D0%B9%D0%BB:Quicksort-diagram.svg\"><img src=\"https://upload.wikimedia.org/wikipedia/commons/a/af/Quicksort-diagram.svg\" alt=\"Quicksort-diagram.svg\" height=\"800\" width=\"400\"></a><br>Авторство: &lt;a href=\"//commons.wikimedia.org/w/index.php?title=User:Znupi&amp;amp;action=edit&amp;amp;redlink=1\" class=\"new\" title=\"User:Znupi (page does not exist)\"&gt;Znupi&lt;/a&gt;. &lt;span class=\"int-own-work\" lang=\"ru\"&gt;Собственная работа&lt;/span&gt;, Общественное достояние, <a href=\"https://commons.wikimedia.org/w/index.php?curid=6352260\">Ссылка</a></p>"
      ],
      "metadata": {
        "id": "eaHJYCHtSYhe"
      }
    },
    {
      "cell_type": "markdown",
      "source": [
        "Example implementation of quicksort in Python:"
      ],
      "metadata": {
        "id": "EwHKsZ-UYX6s"
      }
    },
    {
      "cell_type": "code",
      "source": [
        "def quicksort(arr):\n",
        "    if len(arr) <= 1:\n",
        "        return arr\n",
        "    pivot = arr[len(arr) // 2]\n",
        "    left = [x for x in arr if x < pivot]\n",
        "    middle = [x for x in arr if x == pivot]\n",
        "    right = [x for x in arr if x > pivot]\n",
        "    return quicksort(left) + middle + quicksort(right)\n",
        "\n",
        "# Example:\n",
        "arr = [64, 34, 25, 12, 22, 11, 90]\n",
        "print(\"Original list:\", arr)\n",
        "print(\"Sorted list:\", quicksort(arr))\n"
      ],
      "metadata": {
        "colab": {
          "base_uri": "https://localhost:8080/"
        },
        "id": "GCuH3W0jYXZG",
        "outputId": "6c33677b-1fe5-486b-845f-ef3ae8fd2d9d"
      },
      "execution_count": 2,
      "outputs": [
        {
          "output_type": "stream",
          "name": "stdout",
          "text": [
            "Original list: [64, 34, 25, 12, 22, 11, 90]\n",
            "Sorted list: [11, 12, 22, 25, 34, 64, 90]\n"
          ]
        }
      ]
    },
    {
      "cell_type": "markdown",
      "source": [
        "Also, for those interested in the topic, a video with visualizations and “sounds” of various algorithms may be interesting: : https://youtu.be/kPRA0W1kECg?si=r45AjOLz7N8nblaA"
      ],
      "metadata": {
        "id": "ufPg0QQYaUUT"
      }
    }
  ]
}