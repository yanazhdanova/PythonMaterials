{
  "nbformat": 4,
  "nbformat_minor": 0,
  "metadata": {
    "colab": {
      "provenance": []
    },
    "kernelspec": {
      "name": "python3",
      "display_name": "Python 3"
    },
    "language_info": {
      "name": "python"
    }
  },
  "cells": [
    {
      "cell_type": "markdown",
      "source": [
        "Don't forget to import NumPy!"
      ],
      "metadata": {
        "id": "_kzDaA1z9u5r"
      }
    },
    {
      "cell_type": "code",
      "source": [
        "import numpy as np"
      ],
      "metadata": {
        "id": "SZagN9ih92FA"
      },
      "execution_count": null,
      "outputs": []
    },
    {
      "cell_type": "markdown",
      "source": [
        "This time we'll take a closer look at np.linalg and working with some linear algebra problems.\n",
        "\n",
        "np.linalg is a module of the NumPy library that provides functions for working with linear algebra. This module contains many functions that allow you to perform various operations and calculations related to linear algebra, such as calculating the determinant, inverse matrix, eigenvalues ​​and vectors, singular value decomposition, solving systems of linear equations, and much more."
      ],
      "metadata": {
        "id": "MAqLUPCD2JQB"
      }
    },
    {
      "cell_type": "markdown",
      "source": [
        "\n",
        "Solving systems of linear equations is finding the values ​​of the variables that satisfy all the equations in the system. NumPy uses the np.linalg.solve() function to solve such systems.\n",
        "\n",
        "A system of linear equations is usually written in matrix form Ax = b, where A is a matrix of coefficients, x is a vector of variables, b is a vector of the right side of the equations.\n",
        "\n",
        "For example, the solution for the following system of equations:\n",
        "\\begin{cases}\n",
        "   2x + 3y = 5,\n",
        "   \\\\\n",
        "   4x - y = -2\n",
        " \\end{cases}\n",
        "\n"
      ],
      "metadata": {
        "id": "ZnpxXhIJ8NY8"
      }
    },
    {
      "cell_type": "code",
      "execution_count": null,
      "metadata": {
        "colab": {
          "base_uri": "https://localhost:8080/"
        },
        "id": "Kzj_YJfoxBir",
        "outputId": "acc25f6e-7f68-407e-9529-a914f8c0b0c4"
      },
      "outputs": [
        {
          "output_type": "stream",
          "name": "stdout",
          "text": [
            "Solution of the system:\n",
            "x = -0.07142857142857145\n",
            "y = 1.7142857142857142\n"
          ]
        }
      ],
      "source": [
        "# Coefficient matrix\n",
        "A = np.array([[2, 3], [4, -1]])\n",
        "\n",
        "# Vector of the right side of the equations\n",
        "b = np.array([5, -2])\n",
        "\n",
        "# Solving a system of linear equations\n",
        "solution = np.linalg.solve(A, b)\n",
        "\n",
        "print(\"Solution of the system:\")\n",
        "print(\"x =\", solution[0])\n",
        "print(\"y =\", solution[1])"
      ]
    },
    {
      "cell_type": "markdown",
      "source": [
        "## Determinant, inverse matrix and rank.\n",
        "\n",
        "With np.linalg we can finally calculate the determinant, inverse of the matrix, and rank of the matrix.\n",
        "\n"
      ],
      "metadata": {
        "id": "vPyiYNQB-2GI"
      }
    },
    {
      "cell_type": "code",
      "source": [
        "matrix = np.array([[1, 2, 3],\n",
        "                   [4, 5, 6],\n",
        "                   [7, 8, 10]])\n",
        "\n",
        "# Calculation of the determinant of a matrix\n",
        "determinant = np.linalg.det(matrix)\n",
        "\n",
        "# Calculating the inverse matrix\n",
        "inverse_matrix = np.linalg.inv(matrix)\n",
        "\n",
        "# Calculating Matrix Rank\n",
        "rank = np.linalg.matrix_rank(matrix)\n",
        "\n",
        "print(\"Matrix determinant:\", determinant)\n",
        "print(\"Inverse matrix:\")\n",
        "print(inverse_matrix)\n",
        "print(\"Matrix rank:\", rank)"
      ],
      "metadata": {
        "colab": {
          "base_uri": "https://localhost:8080/"
        },
        "id": "sMEYYW3k_gyH",
        "outputId": "b85ea8d5-4642-47cc-92f6-ffeae5bb9b61"
      },
      "execution_count": null,
      "outputs": [
        {
          "output_type": "stream",
          "name": "stdout",
          "text": [
            "Matrix determinant: -2.9999999999999996\n",
            "Inverse matrix:\n",
            "[[-0.66666667 -1.33333333  1.        ]\n",
            " [-0.66666667  3.66666667 -2.        ]\n",
            " [ 1.         -2.          1.        ]]\n",
            "Matrix rank: 3\n"
          ]
        }
      ]
    },
    {
      "cell_type": "markdown",
      "source": [
        "## Matrix decompositions\n",
        "\n",
        "np.linalg provides functions for some matrix decompositions, for example:\n"
      ],
      "metadata": {
        "id": "YXSLaSAyBd2w"
      }
    },
    {
      "cell_type": "markdown",
      "source": [
        "1. Singular decomposition ($SVD$)\n",
        "\n",
        "$SVD$ is a method of decomposing a matrix into the product of three simpler matrices:\n",
        "$A=U⋅Σ⋅V^T$, where\n",
        "A - original matrix,\n",
        "U и V - orthogonal matrices (matrices satisfying the condition\n",
        "$U ^T⋅U=I$ и $V^T⋅V=I$, where\n",
        "$I$ - identity matrix), а\n",
        "$Σ$ - a diagonal matrix containing the singular values ​​of the original matrix.\n",
        "\n",
        "$SVD$ Widely used in data analysis, image compression, recommender systems and other fields."
      ],
      "metadata": {
        "id": "bKGDU30MCBka"
      }
    },
    {
      "cell_type": "code",
      "source": [
        "A = np.array([[1, 2],\n",
        "              [3, 4],\n",
        "              [5, 6]])\n",
        "\n",
        "# Calculation of singular decomposition\n",
        "U, Sigma, Vt = np.linalg.svd(A)\n",
        "\n",
        "print(\"U:\")\n",
        "print(U)\n",
        "print(\"Sigma:\")\n",
        "print(Sigma)\n",
        "print(\"Vt:\")\n",
        "print(Vt)\n"
      ],
      "metadata": {
        "colab": {
          "base_uri": "https://localhost:8080/"
        },
        "id": "3lIE5C_uEbEn",
        "outputId": "799d326f-7e71-4b18-a61f-53167c789d00"
      },
      "execution_count": null,
      "outputs": [
        {
          "output_type": "stream",
          "name": "stdout",
          "text": [
            "U:\n",
            "[[-0.2298477   0.88346102  0.40824829]\n",
            " [-0.52474482  0.24078249 -0.81649658]\n",
            " [-0.81964194 -0.40189603  0.40824829]]\n",
            "Sigma:\n",
            "[9.52551809 0.51430058]\n",
            "Vt:\n",
            "[[-0.61962948 -0.78489445]\n",
            " [-0.78489445  0.61962948]]\n"
          ]
        }
      ]
    },
    {
      "cell_type": "markdown",
      "source": [
        "2. Cholesky decomposition:\n",
        "\n",
        "The Cholesky decomposition applies to symmetric and positive definite matrices. It represents the matrix\n",
        "$A$ as a product\n",
        "$A=L⋅L^T$, where\n",
        "$L$ is a lower triangular matrix.\n",
        "\n",
        "This decomposition is used in solving systems of linear equations, simulating random processes, filtering signals, and other applications."
      ],
      "metadata": {
        "id": "KBDx0Y5jFc_2"
      }
    },
    {
      "cell_type": "code",
      "source": [
        "B = np.array([[4, 12, -16],\n",
        "              [12, 37, -43],\n",
        "              [-16, -43, 98]])\n",
        "\n",
        "# Calculating the Cholesky decomposition\n",
        "L = np.linalg.cholesky(B)\n",
        "\n",
        "print(\"Lower triangular matrix L:\")\n",
        "print(L)\n",
        "\n",
        "#Let's check if its correct\n",
        "reconstructed_B = np.dot(L, L.T)\n",
        "\n",
        "print(\"\\nOriginal matrix B:\")\n",
        "print(B)\n",
        "print(\"\\nRecovered matrix B from the Cholesky decomposition:\")\n",
        "print(reconstructed_B)\n",
        "print(\"Are B and reconstructed_B equal?\", np.allclose(B, reconstructed_B))"
      ],
      "metadata": {
        "colab": {
          "base_uri": "https://localhost:8080/"
        },
        "id": "IunzRL2YF9vJ",
        "outputId": "bd0f904f-14e6-448e-c194-73f5d1962f74"
      },
      "execution_count": null,
      "outputs": [
        {
          "output_type": "stream",
          "name": "stdout",
          "text": [
            "Lower triangular matrix L:\n",
            "[[ 2.  0.  0.]\n",
            " [ 6.  1.  0.]\n",
            " [-8.  5.  3.]]\n",
            "\n",
            "Original matrix B:\n",
            "[[  4  12 -16]\n",
            " [ 12  37 -43]\n",
            " [-16 -43  98]]\n",
            "\n",
            "Recovered matrix B from the Cholesky decomposition:\n",
            "[[  4.  12. -16.]\n",
            " [ 12.  37. -43.]\n",
            " [-16. -43.  98.]]\n",
            "Are B and reconstructed_B equal? True\n"
          ]
        }
      ]
    },
    {
      "cell_type": "markdown",
      "source": [
        "\n",
        "The np.allclose() function checks whether the corresponding elements of two arrays are equal within some margin of error."
      ],
      "metadata": {
        "id": "lX7-wcI1HGYC"
      }
    },
    {
      "cell_type": "markdown",
      "source": [
        "3. QR decomposition:\n",
        "\n",
        "QR decomposition represents the matrix\n",
        "$A$ as a product\n",
        "$A=QR$, where\n",
        "$Q$ is an orthogonal matrix, and\n",
        "$R$ is an upper triangular matrix.\n",
        "\n",
        "QR decomposition is used in linear regression problems, calculating matrix eigenvalues, basis orthogonalization and other problems."
      ],
      "metadata": {
        "id": "SPdqt1D1HIXJ"
      }
    },
    {
      "cell_type": "code",
      "source": [
        "С = np.array([[1, -1, 2],\n",
        "              [1, 1, 0],\n",
        "              [1, -1, 2]])\n",
        "\n",
        "# Calculation of QR decomposition\n",
        "Q, R = np.linalg.qr(С)\n",
        "\n",
        "print(\"Q (orthogonal matrix):\")\n",
        "print(Q)\n",
        "print(\"R (upper triangular matrix):\")\n",
        "print(R)\n",
        "\n",
        "\n",
        "reconstructed_C = np.dot(Q, R)\n",
        "\n",
        "print(\"\\n Original matrix C:\")\n",
        "print(C)\n",
        "print(\"\\nRecovered matrix B from QR decomposition:\")\n",
        "print(reconstructed_C)\n",
        "print(\"Are C и reconstructed_C equal?\", np.allclose(C, reconstructed_C))"
      ],
      "metadata": {
        "colab": {
          "base_uri": "https://localhost:8080/"
        },
        "id": "cumgPaWYJXou",
        "outputId": "a3970d8e-16c4-49d4-f007-4923bd201fd6"
      },
      "execution_count": null,
      "outputs": [
        {
          "output_type": "stream",
          "name": "stdout",
          "text": [
            "Q (orthogonal matrix):\n",
            "[[-0.57735027  0.40824829 -0.70710678]\n",
            " [-0.57735027 -0.81649658  0.        ]\n",
            " [-0.57735027  0.40824829  0.70710678]]\n",
            "R (upper triangular matrix):\n",
            "[[-1.73205081e+00  5.77350269e-01 -2.30940108e+00]\n",
            " [ 0.00000000e+00 -1.63299316e+00  1.63299316e+00]\n",
            " [ 0.00000000e+00  0.00000000e+00 -5.55111512e-17]]\n",
            "\n",
            " Original matrix C:\n",
            "[[ 1 -1  2]\n",
            " [ 1  1  0]\n",
            " [ 1 -1  2]]\n",
            "\n",
            "Recovered matrix B from QR decomposition:\n",
            "[[ 1.00000000e+00 -1.00000000e+00  2.00000000e+00]\n",
            " [ 1.00000000e+00  1.00000000e+00 -6.23553335e-16]\n",
            " [ 1.00000000e+00 -1.00000000e+00  2.00000000e+00]]\n",
            "Are C и reconstructed_C equal? True\n"
          ]
        }
      ]
    },
    {
      "cell_type": "markdown",
      "source": [
        "## Vector and matrix norm:\n",
        "\n",
        "In NumPy, you can use the numpy.linalg.norm() function to calculate the norm of a vector (vector length). This function takes a vector and an optional parameter ord, which specifies the order of the norm. The default order (if not specified) is 2, which corresponds to the Euclidean norm."
      ],
      "metadata": {
        "id": "Rb4D4LheM1O2"
      }
    },
    {
      "cell_type": "code",
      "source": [
        "vector = np.array([3, 4])\n",
        "print(np.linalg.norm(vector))\n"
      ],
      "metadata": {
        "colab": {
          "base_uri": "https://localhost:8080/"
        },
        "id": "X00fX0wbM_y6",
        "outputId": "eb25249b-838f-4064-e4e3-9c38e8c95ff0"
      },
      "execution_count": null,
      "outputs": [
        {
          "output_type": "stream",
          "name": "stdout",
          "text": [
            "5.0\n"
          ]
        }
      ]
    },
    {
      "cell_type": "markdown",
      "source": [
        "You can also calculate the norm of a matrix using the numpy.linalg.norm() function in NumPy"
      ],
      "metadata": {
        "id": "85_pLXYcNGz2"
      }
    },
    {
      "cell_type": "code",
      "source": [
        "matrix = np.array([[1, 2], [3, 4]])\n",
        "print(np.linalg.norm(matrix))\n"
      ],
      "metadata": {
        "colab": {
          "base_uri": "https://localhost:8080/"
        },
        "id": "GjqnwRSqNRPQ",
        "outputId": "4c8025e2-59e4-4f90-cd21-70be10743b91"
      },
      "execution_count": null,
      "outputs": [
        {
          "output_type": "stream",
          "name": "stdout",
          "text": [
            "5.477225575051661\n"
          ]
        }
      ]
    },
    {
      "cell_type": "markdown",
      "source": [
        "## Eigenvalues ​​and eigenvectors\n",
        "\n"
      ],
      "metadata": {
        "id": "XkOlpWpuNq37"
      }
    },
    {
      "cell_type": "markdown",
      "source": [
        "Eigenvalues ​​and eigenvectors are important linear algebra concepts that are widely used in various fields, including machine learning, physics, engineering, and others. In NumPy, the numpy.linalg.eig() function is used to calculate the eigenvalues ​​and eigenvectors of a matrix.\n",
        "\n",
        "Eigenvalues ​​and eigenvectors:\n",
        "Eigenvalues ​​and eigenvectors of a matrix\n",
        "$A$ are defined in such a way that:\n",
        "For a square matrix\n",
        "$A$ and scalar\n",
        "$λ$ there is a nonzero vector\n",
        "$v$, such that\n",
        "$Av=λv$. Here\n",
        "$v$ is called an eigenvector, and\n",
        "$λ$ - eigenvalue.\n",
        "\n"
      ],
      "metadata": {
        "id": "JV6ReiY3OY7e"
      }
    },
    {
      "cell_type": "code",
      "source": [
        "matrix = np.array([[1, 2], [2, 1]])\n",
        "\n",
        "# Calculation of eigenvalues ​​and eigenvectors\n",
        "eigenvalues, eigenvectors = np.linalg.eig(matrix)\n",
        "\n",
        "print(\"Eigenvalues:\", eigenvalues)\n",
        "print(\"Eigenvectors:\")\n",
        "for i in range(len(eigenvalues)):\n",
        "    print(\"Eigenvalue:\", eigenvalues[i])\n",
        "    print(\"The corresponding eigenvector is:\", eigenvectors[:,i])\n"
      ],
      "metadata": {
        "colab": {
          "base_uri": "https://localhost:8080/"
        },
        "id": "w83KGYhtOYkU",
        "outputId": "54bf12f1-c501-4206-8e34-b57651884c1d"
      },
      "execution_count": null,
      "outputs": [
        {
          "output_type": "stream",
          "name": "stdout",
          "text": [
            "Eigenvalues: [ 3. -1.]\n",
            "Eigenvectors:\n",
            "Eigenvalue: 3.0000000000000004\n",
            "The corresponding eigenvector is: [0.70710678 0.70710678]\n",
            "Eigenvalue: -0.9999999999999996\n",
            "The corresponding eigenvector is: [-0.70710678  0.70710678]\n"
          ]
        }
      ]
    },
    {
      "cell_type": "markdown",
      "source": [
        "##Practice"
      ],
      "metadata": {
        "id": "UcG_0w0N0sxo"
      }
    },
    {
      "cell_type": "markdown",
      "source": [
        "###1)\n",
        "Solve this system of equations:\n",
        "\\begin{cases}\n",
        "   3x_1 + 8x_2 + 5x_3 - 8x_4 = -44,\n",
        "   \\\\\n",
        "   10x_1 + 6x_2 + -x_3 + 5x_4 = -45,\n",
        "   \\\\\n",
        "   4x_1 + 4x_2 + 5x_3 - 8x_4 = -45,\n",
        "   \\\\\n",
        "   -24x_1 - 20x_2 + 9x_3 - 28x_4 = 75,\n",
        "   \\\\\n",
        " \\end{cases}"
      ],
      "metadata": {
        "id": "fl-A2PNi0wR0"
      }
    },
    {
      "cell_type": "code",
      "source": [],
      "metadata": {
        "id": "3_K1T_nT1M9P"
      },
      "execution_count": null,
      "outputs": []
    },
    {
      "cell_type": "markdown",
      "source": [
        "###2)\n",
        "Find SVD and LU decomposition for matrix\n",
        "\\begin{pmatrix}\n",
        "  2& -1& 0 \\\\\n",
        "  -1& 1& 1 \\\\\n",
        "  0& 1& 2 \\\\\n",
        "\\end{pmatrix}"
      ],
      "metadata": {
        "id": "FiWEi5US056R"
      }
    },
    {
      "cell_type": "code",
      "source": [],
      "metadata": {
        "id": "2ixSbAxV1eQ0"
      },
      "execution_count": null,
      "outputs": []
    },
    {
      "cell_type": "markdown",
      "source": [
        "###3)\n",
        "Create a 4x4 matrix using random integers ranging from 1 to 10.\n",
        "Find the determinant of the matrix.\n",
        "If the determinant is not zero, find the inverse of the matrix.\n",
        "Find the rank."
      ],
      "metadata": {
        "id": "_yCPFDTC1Y3d"
      }
    },
    {
      "cell_type": "code",
      "source": [],
      "metadata": {
        "id": "-C-SoYhm1d2h"
      },
      "execution_count": null,
      "outputs": []
    },
    {
      "cell_type": "markdown",
      "source": [
        "### 4)\n",
        "Matrix A is equal to\n",
        "\\begin{pmatrix}\n",
        "  1& 1& 1& 0\\\\\n",
        "  1& 1& 0& 1\\\\\n",
        "  1& 0& 1& 1\\\\\n",
        "  0& 1& 1& 1\\\\\n",
        "\\end{pmatrix}\n",
        "Find eigenvalues ​​and eigenvectors of a matrix\n",
        "Check if for each eigenvalue and corresponding eigenvector\n",
        "$A⋅v=λ⋅v$"
      ],
      "metadata": {
        "id": "7XkMbkC81eu_"
      }
    },
    {
      "cell_type": "code",
      "source": [],
      "metadata": {
        "id": "aHJGHcyI1zn6"
      },
      "execution_count": null,
      "outputs": []
    }
  ]
}