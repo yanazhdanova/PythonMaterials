{
  "nbformat": 4,
  "nbformat_minor": 0,
  "metadata": {
    "colab": {
      "provenance": []
    },
    "kernelspec": {
      "name": "python3",
      "display_name": "Python 3"
    },
    "language_info": {
      "name": "python"
    }
  },
  "cells": [
    {
      "cell_type": "markdown",
      "source": [
        "In Python, lists are a universal data structure that represents an ordered collection of elements. Lists in Python can contain objects of any type, including other lists (these are called nested lists). A few key features of lists in Python:\n",
        "\n",
        "* Mutable: Lists in Python can be changed. It means\n",
        "You can add, delete, or change list items after you create it.\n",
        "\n",
        "* Heterogeneity: A single list can contain elements of different data types, such as strings, integers, floats, other lists, and so on.\n",
        "\n",
        "* Dynamic size is another important feature of lists in Python. Unlike some programming languages, where the size of an array must be predetermined and cannot be changed, lists in Python can change their size dynamically during program execution."
      ],
      "metadata": {
        "id": "vP4-gaBKks_W"
      }
    },
    {
      "cell_type": "markdown",
      "source": [
        "Lists in Python can be created in different ways:\n",
        "1. With []"
      ],
      "metadata": {
        "id": "rQpeWywmmY_Z"
      }
    },
    {
      "cell_type": "code",
      "execution_count": null,
      "metadata": {
        "id": "NCEA_zwhb-he",
        "colab": {
          "base_uri": "https://localhost:8080/"
        },
        "outputId": "6cbaadf2-6950-4aeb-ce21-5a1fc0e61ee4"
      },
      "outputs": [
        {
          "output_type": "stream",
          "name": "stdout",
          "text": [
            "[]\n",
            "[1, 2, 3, 4, 5, 'a', 'b', 'c']\n"
          ]
        }
      ],
      "source": [
        "my_list1 = []\n",
        "my_list2 = [1, 2, 3, 4, 5, 'a', 'b', 'c']\n",
        "print(my_list1, my_list2, sep = '\\n')\n"
      ]
    },
    {
      "cell_type": "markdown",
      "source": [
        "2. With list()\n",
        "\n",
        "\n"
      ],
      "metadata": {
        "id": "Ezl2jquWnFvd"
      }
    },
    {
      "cell_type": "code",
      "source": [
        "my_list3 = list()\n",
        "print(my_list3)\n"
      ],
      "metadata": {
        "colab": {
          "base_uri": "https://localhost:8080/"
        },
        "id": "k_HAKHixnJPs",
        "outputId": "b7b69487-f3b7-4e4f-9237-28c28b1275d1"
      },
      "execution_count": null,
      "outputs": [
        {
          "output_type": "stream",
          "name": "stdout",
          "text": [
            "[]\n"
          ]
        }
      ]
    },
    {
      "cell_type": "markdown",
      "source": [
        "3. With a list generator"
      ],
      "metadata": {
        "id": "ye1V1UR4n22t"
      }
    },
    {
      "cell_type": "code",
      "source": [
        "my_list4 = [x for x in range(1, 6)]\n",
        "my_list_even = [x for x in range(10) if x % 2 == 0]\n",
        "print(my_list4, my_list_even, sep = '\\n')\n"
      ],
      "metadata": {
        "colab": {
          "base_uri": "https://localhost:8080/"
        },
        "id": "u21gytrvn7_0",
        "outputId": "2c1b9ed6-0fc1-4e85-ce25-a1045a0256fc"
      },
      "execution_count": null,
      "outputs": [
        {
          "output_type": "stream",
          "name": "stdout",
          "text": [
            "[1, 2, 3, 4, 5]\n",
            "[0, 2, 4, 6, 8]\n"
          ]
        }
      ]
    },
    {
      "cell_type": "markdown",
      "source": [
        "And in other ways.\n",
        "\n"
      ],
      "metadata": {
        "id": "BW2FDYvloa20"
      }
    },
    {
      "cell_type": "markdown",
      "source": [
        "List elements can be retrieved by accessing them by index. Indexing starts at 0. To access a list element by index, square brackets [] are used.\n",
        "\n",
        "You can also get several elements at once using slices. Slice syntax: list[start:stop:step], where:\n",
        "\n",
        "start - index of the element at which the slice begins (inclusive). If start is not specified, the slice will start from the beginning of the list.\n",
        "\n",
        "stop - The index of the element at which the slice ends (not including the element itself). If stop is not specified, the slice will end at the end of the list.\n",
        "\n",
        "step - slice step (default is 1).\n",
        "\n"
      ],
      "metadata": {
        "id": "RNl1SLitsQgC"
      }
    },
    {
      "cell_type": "code",
      "source": [
        "my_list = ['a', 'b', 'c', 'd', 'e']\n",
        "print(my_list[0])\n",
        "\n",
        "# The first three elements of the list\n",
        "print(my_list[:3])\n",
        "\n",
        "# Elements with indexes from 1 to 3 (not including 3)\n",
        "print(my_list[1:3])\n",
        "\n",
        "# Every second element of the list\n",
        "print(my_list[::2])\n",
        "\n",
        "# list items in reverse order\n",
        "print(my_list[::-1])\n"
      ],
      "metadata": {
        "colab": {
          "base_uri": "https://localhost:8080/"
        },
        "id": "hlcs5Csis4em",
        "outputId": "d7849cce-aee9-4580-e175-50cf26024de8"
      },
      "execution_count": null,
      "outputs": [
        {
          "output_type": "stream",
          "name": "stdout",
          "text": [
            "a\n",
            "['a', 'b', 'c']\n",
            "['b', 'c']\n",
            "['a', 'c', 'e']\n",
            "['e', 'd', 'c', 'b', 'a']\n"
          ]
        }
      ]
    },
    {
      "cell_type": "markdown",
      "source": [
        "You can use the **in** operator to check whether an element is in a list in Python. This operator returns the Boolean value True if the element is present in the list, and False if the element is not present.\n",
        "\n"
      ],
      "metadata": {
        "id": "Wl2Sdl51t7A5"
      }
    },
    {
      "cell_type": "code",
      "source": [
        "print('a' in my_list)\n",
        "print('z' in my_list)\n"
      ],
      "metadata": {
        "colab": {
          "base_uri": "https://localhost:8080/"
        },
        "id": "AMyOWNMct_zK",
        "outputId": "47579b15-6e2a-487a-88b3-df7b69315e77"
      },
      "execution_count": null,
      "outputs": [
        {
          "output_type": "stream",
          "name": "stdout",
          "text": [
            "True\n",
            "False\n"
          ]
        }
      ]
    },
    {
      "cell_type": "markdown",
      "source": [
        "\n",
        "There are several ways to add elements to a list in Python.\n",
        "\n",
        "\n",
        "1.   append()\n",
        "\n",
        "The append() method is used to add an element to the end of the list.\n",
        "\n",
        "\n"
      ],
      "metadata": {
        "id": "uvcrfjpNuls-"
      }
    },
    {
      "cell_type": "code",
      "source": [
        "my_list.append('f')\n",
        "print(my_list)\n"
      ],
      "metadata": {
        "colab": {
          "base_uri": "https://localhost:8080/"
        },
        "id": "p_UgoR5xvcFK",
        "outputId": "ace94bbb-5122-438e-e21c-ef742cbfd15f"
      },
      "execution_count": null,
      "outputs": [
        {
          "output_type": "stream",
          "name": "stdout",
          "text": [
            "['a', 'b', 'c', 'd', 'e', 'f']\n"
          ]
        }
      ]
    },
    {
      "cell_type": "markdown",
      "source": [
        "\n",
        "\n",
        "2. insert():\n",
        "\n",
        "The insert() method is used to insert an element at a specific position in the list. The first argument it takes is the index of the position at which the element needs to be inserted, the second is the element that needs to be inserted into the list."
      ],
      "metadata": {
        "id": "Jzc7Gpr52miC"
      }
    },
    {
      "cell_type": "code",
      "source": [
        "my_list.insert(3, 0)\n",
        "print(my_list)\n"
      ],
      "metadata": {
        "colab": {
          "base_uri": "https://localhost:8080/"
        },
        "id": "5pakBFlO2rvV",
        "outputId": "d4dda9cc-ee66-4158-8a2d-b05b1c9e9b55"
      },
      "execution_count": null,
      "outputs": [
        {
          "output_type": "stream",
          "name": "stdout",
          "text": [
            "['a', 'b', 'c', 0, 'd', 'e', 'f']\n"
          ]
        }
      ]
    },
    {
      "cell_type": "markdown",
      "source": [
        "3. extend()\n",
        "\n",
        "The extend() method in Python is used to add elements from another iterable (such as a list) to the end of the current list."
      ],
      "metadata": {
        "id": "oA-x-af93EvU"
      }
    },
    {
      "cell_type": "code",
      "source": [
        "another_list = ['x', 'y', 'z']\n",
        "my_list.extend(another_list)\n",
        "print(my_list)\n"
      ],
      "metadata": {
        "colab": {
          "base_uri": "https://localhost:8080/"
        },
        "id": "8lVpUnPX3z-e",
        "outputId": "2ca9164e-35cb-422c-b059-f839dc4af73e"
      },
      "execution_count": null,
      "outputs": [
        {
          "output_type": "stream",
          "name": "stdout",
          "text": [
            "['a', 'b', 'c', 0, 'd', 'e', 'f', 'x', 'y', 'z']\n"
          ]
        }
      ]
    },
    {
      "cell_type": "markdown",
      "source": [
        "4. +\n",
        "\n",
        "The + operator in the context of lists (arrays) in Python is used to concatenate (merge) two lists into a new list. It creates a new list containing all the elements of the first list, followed by all the elements of the second list. The original lists remain unchanged. To use + to concatenate lists, both operands must be lists."
      ],
      "metadata": {
        "id": "nJYBfv9K4sYo"
      }
    },
    {
      "cell_type": "code",
      "source": [
        "list_plus_one = [1, 2, 3]\n",
        "list_plus_two = [4, 5, 6]\n",
        "list_sum = list_plus_one + list_plus_two\n",
        "print(list_sum)\n"
      ],
      "metadata": {
        "colab": {
          "base_uri": "https://localhost:8080/"
        },
        "id": "YJR0fKpr42jF",
        "outputId": "9220b6de-5689-480d-f36b-4293396037a4"
      },
      "execution_count": null,
      "outputs": [
        {
          "output_type": "stream",
          "name": "stdout",
          "text": [
            "[1, 2, 3, 4, 5, 6]\n"
          ]
        }
      ]
    },
    {
      "cell_type": "markdown",
      "source": [
        "We can also use the $*$ operator in relation to lists.\n",
        "\n",
        "The * operator in the context of lists in Python is used to create a new list by repeating the elements of the original list a specified number of times."
      ],
      "metadata": {
        "id": "sUCn78vg5u3d"
      }
    },
    {
      "cell_type": "code",
      "source": [
        "list_mul = list_sum * 3\n",
        "print(list_mul)"
      ],
      "metadata": {
        "colab": {
          "base_uri": "https://localhost:8080/"
        },
        "id": "4qacHtpTgGxb",
        "outputId": "c1233016-042c-4f6b-f04c-c6f0d711e0e1"
      },
      "execution_count": null,
      "outputs": [
        {
          "output_type": "stream",
          "name": "stdout",
          "text": [
            "[1, 2, 3, 4, 5, 6, 1, 2, 3, 4, 5, 6, 1, 2, 3, 4, 5, 6]\n"
          ]
        }
      ]
    },
    {
      "cell_type": "markdown",
      "source": [
        "You can change list elements by accessing them by index and assigning new values ​​to them. We can assign directly by index, or use slices to replace multiple elements at once:"
      ],
      "metadata": {
        "id": "CcB2SoVQJCQI"
      }
    },
    {
      "cell_type": "code",
      "source": [
        "one_more_list = [1, 2, 3, 4, 5]\n",
        "one_more_list[0] = 0\n",
        "print(one_more_list)\n",
        "\n",
        "one_more_list[1:3] = [10, 20]\n",
        "print(one_more_list)\n"
      ],
      "metadata": {
        "colab": {
          "base_uri": "https://localhost:8080/"
        },
        "id": "aK8wPQYWJVOw",
        "outputId": "2ede2245-7f67-42b7-e628-321159cf4fee"
      },
      "execution_count": null,
      "outputs": [
        {
          "output_type": "stream",
          "name": "stdout",
          "text": [
            "[0, 2, 3, 4, 5]\n",
            "[0, 10, 20, 4, 5]\n"
          ]
        }
      ]
    },
    {
      "cell_type": "markdown",
      "source": [
        "There are several methods for removing items from a list.\n",
        "1. remove()\n",
        "\n",
        "The remove() method removes the first occurrence of the specified element from the list.\n",
        "\n",
        "2. pop()\n",
        "\n",
        "The pop() method removes an element from the list at the specified index and returns its value. If no index is specified, the last element of the list is removed and returned.\n",
        "\n",
        "3. del\n",
        "\n",
        "The del operator removes an element from a list at a specified index, or deletes a slice of elements.\n",
        "\n",
        "4. clear()\n",
        "\n",
        "The clear() method removes all elements from the list."
      ],
      "metadata": {
        "id": "DAlPJznDKh5i"
      }
    },
    {
      "cell_type": "code",
      "source": [
        "deletion = [0, 1, 2, 3, 4, 5, 6, 7, 8, 9, 0]\n",
        "deletion.remove(0)\n",
        "print(deletion)\n",
        "\n",
        "print(deletion.pop(0))\n",
        "print(deletion)\n",
        "\n",
        "del deletion[0]\n",
        "print(deletion)\n",
        "del deletion[0:3]\n",
        "print(deletion)\n",
        "\n",
        "deletion.clear()\n",
        "print(deletion)"
      ],
      "metadata": {
        "colab": {
          "base_uri": "https://localhost:8080/"
        },
        "id": "94CyDH1bMOO0",
        "outputId": "7c8e5a27-26df-4f30-b6ee-b7de0c6ef021"
      },
      "execution_count": null,
      "outputs": [
        {
          "output_type": "stream",
          "name": "stdout",
          "text": [
            "[1, 2, 3, 4, 5, 6, 7, 8, 9, 0]\n",
            "1\n",
            "[2, 3, 4, 5, 6, 7, 8, 9, 0]\n",
            "[3, 4, 5, 6, 7, 8, 9, 0]\n",
            "[6, 7, 8, 9, 0]\n",
            "[]\n"
          ]
        }
      ]
    },
    {
      "cell_type": "markdown",
      "source": [
        "For more complex data structures, you can use nested lists - lists that contain other lists as their elements. That is, each element of the outer list is a list in itself. This allows you to create data structures that are tables, matrices, or other complex structures.\n",
        "\n",
        "Accessing elements of a nested list requires double indexing. In addition, operations on nested lists are generally similar to operations on simple lists."
      ],
      "metadata": {
        "id": "HBnSvkKWPeIv"
      }
    },
    {
      "cell_type": "code",
      "source": [
        "matrix = [[1, 2, 3],\n",
        "          [4, 5, 6],\n",
        "          [7, 8, 9]]\n",
        "\n",
        "print(matrix[0],matrix[0][0], sep = '\\n')\n",
        "\n",
        "del matrix[2][1]\n",
        "print(matrix)\n",
        "del matrix[2]\n",
        "print(matrix)\n",
        "\n",
        "nested_list1 = [[1, 2], [3, 4]]\n",
        "nested_list2 = [[5, 6], [7, 8]]\n",
        "print(nested_list1 + nested_list2)\n",
        "print(nested_list1 * 2)"
      ],
      "metadata": {
        "colab": {
          "base_uri": "https://localhost:8080/"
        },
        "id": "nf4w5SJePseb",
        "outputId": "f695b1fc-df0b-4cb6-c4cf-e27e3362c49d"
      },
      "execution_count": null,
      "outputs": [
        {
          "output_type": "stream",
          "name": "stdout",
          "text": [
            "[1, 2, 3]\n",
            "1\n",
            "[[1, 2, 3], [4, 5, 6], [7, 9]]\n",
            "[[1, 2, 3], [4, 5, 6]]\n",
            "[[1, 2], [3, 4], [5, 6], [7, 8]]\n",
            "[[1, 2], [3, 4], [1, 2], [3, 4]]\n"
          ]
        }
      ]
    },
    {
      "cell_type": "markdown",
      "source": [
        "Iterating a list means going through each element of the list individually. Iteration is useful for processing each element of a list in turn and performing specific operations on each element. Python has several ways to iterate through lists, both regular and nested lists.\n",
        "Consider iteration through indices or using the for x in list construct."
      ],
      "metadata": {
        "id": "50oT6HVJVUVR"
      }
    },
    {
      "cell_type": "code",
      "source": [
        "iteration_list = ['a', 20, 'b', 40, 'c']\n",
        "for i in range(len(iteration_list)):\n",
        "  print(iteration_list[i])\n"
      ],
      "metadata": {
        "colab": {
          "base_uri": "https://localhost:8080/"
        },
        "id": "ts2_TqpmVgV_",
        "outputId": "df3036e2-331b-4d9e-f67f-9a979d6ccbbf"
      },
      "execution_count": null,
      "outputs": [
        {
          "output_type": "stream",
          "name": "stdout",
          "text": [
            "a\n",
            "20\n",
            "b\n",
            "40\n",
            "c\n"
          ]
        }
      ]
    },
    {
      "cell_type": "code",
      "source": [
        "for element in iteration_list:\n",
        "    print(element)"
      ],
      "metadata": {
        "colab": {
          "base_uri": "https://localhost:8080/"
        },
        "id": "k4UZZ4wfW8ll",
        "outputId": "fcd1e7ff-8cca-4396-dc48-a5407ddf259a"
      },
      "execution_count": null,
      "outputs": [
        {
          "output_type": "stream",
          "name": "stdout",
          "text": [
            "a\n",
            "20\n",
            "b\n",
            "40\n",
            "c\n"
          ]
        }
      ]
    },
    {
      "cell_type": "code",
      "source": [
        "nested_list = [[1, 2, 3], [4, 5, 6], [7, 8, 9]]\n",
        "for i in range(len(nested_list)):\n",
        "    for j in range(len(nested_list[i])):\n",
        "        print(nested_list[i][j])\n"
      ],
      "metadata": {
        "colab": {
          "base_uri": "https://localhost:8080/"
        },
        "id": "plKV_DEgW_Ca",
        "outputId": "d3601e75-7682-438d-cfb1-054073ed3beb"
      },
      "execution_count": null,
      "outputs": [
        {
          "output_type": "stream",
          "name": "stdout",
          "text": [
            "1\n",
            "2\n",
            "3\n",
            "4\n",
            "5\n",
            "6\n",
            "7\n",
            "8\n",
            "9\n"
          ]
        }
      ]
    },
    {
      "cell_type": "code",
      "source": [
        "for inner_list in nested_list:\n",
        "    for element in inner_list:\n",
        "        print(element)\n"
      ],
      "metadata": {
        "colab": {
          "base_uri": "https://localhost:8080/"
        },
        "id": "MlaPMAmVXSOP",
        "outputId": "9ea2c992-bfe9-41c8-e553-8ab0b71c8019"
      },
      "execution_count": null,
      "outputs": [
        {
          "output_type": "stream",
          "name": "stdout",
          "text": [
            "1\n",
            "2\n",
            "3\n",
            "4\n",
            "5\n",
            "6\n",
            "7\n",
            "8\n",
            "9\n"
          ]
        }
      ]
    },
    {
      "cell_type": "markdown",
      "source": [
        "There are also many built-in functions and methods for working with lists. Some of them:\n",
        "\n",
        "1. len(list) - returns the number of elements\n",
        "\n",
        "2. count() - returns the number of occurrences of a specified element in a list\n",
        "\n",
        "3. index() - returns the index of the first occurrence of the specified element in the list.\n",
        "\n",
        "4. reverse() - reverses the order of elements in a list\n",
        "\n",
        "5. sort() - sorts list items (ascending by default).\n"
      ],
      "metadata": {
        "id": "r3zv4WmHYrru"
      }
    },
    {
      "cell_type": "code",
      "source": [
        "methods_list = [3, 1, 4, 1, 5, 9, 2, 6, 5, 3, 5]\n",
        "\n",
        "print(len(methods_list))\n",
        "\n",
        "print(methods_list.index(5))\n",
        "\n",
        "print(methods_list.count(5))\n",
        "\n",
        "methods_list.reverse()\n",
        "print(methods_list)\n",
        "\n",
        "methods_list.sort()\n",
        "print(methods_list)\n"
      ],
      "metadata": {
        "colab": {
          "base_uri": "https://localhost:8080/"
        },
        "id": "yf_t0PBtahdW",
        "outputId": "a3e2e4a5-c8cd-4328-c92f-4d727a458bec"
      },
      "execution_count": null,
      "outputs": [
        {
          "output_type": "stream",
          "name": "stdout",
          "text": [
            "11\n",
            "4\n",
            "3\n",
            "[5, 3, 5, 6, 2, 9, 5, 1, 4, 1, 3]\n",
            "[1, 1, 2, 3, 3, 4, 5, 5, 5, 6, 9]\n"
          ]
        }
      ]
    },
    {
      "cell_type": "markdown",
      "source": [
        "Two more useful functions are map and reduce.\n",
        "\n",
        "The map() function applies the specified function to all elements of the input sequence (for example, a list).\n",
        "\n",
        "The reduce() function applies the specified function to pairs of elements in a sequence and collapses (reduces) the sequence to a single value. To use reduce() you need to import it from the functools module"
      ],
      "metadata": {
        "id": "pjwrQSGpe1Wa"
      }
    },
    {
      "cell_type": "code",
      "source": [
        "from functools import reduce\n",
        "\n",
        "def add_ten(x):\n",
        "    return x + 10\n",
        "\n",
        "def sum_numbers(x, y):\n",
        "    return x + y\n",
        "\n",
        "numbers = [1, 2, 3, 4, 5]\n",
        "numbers = list(map(add_ten, numbers))\n",
        "print(numbers)\n",
        "\n",
        "numbers = reduce(sum_numbers, numbers)\n",
        "print(numbers)\n"
      ],
      "metadata": {
        "colab": {
          "base_uri": "https://localhost:8080/"
        },
        "id": "zcjEDYwRflHI",
        "outputId": "9687c565-6615-496c-daa5-9f9dcc1288d1"
      },
      "execution_count": null,
      "outputs": [
        {
          "output_type": "stream",
          "name": "stdout",
          "text": [
            "[11, 12, 13, 14, 15]\n",
            "65\n"
          ]
        }
      ]
    },
    {
      "cell_type": "code",
      "source": [
        "my_list = [1, 2, 3, 4, 5]\n",
        "my_list.extend([6, 7, 8])\n",
        "del my_list[::2]\n",
        "my_list.insert(3, my_list.pop(1))\n",
        "print(my_list)"
      ],
      "metadata": {
        "colab": {
          "base_uri": "https://localhost:8080/"
        },
        "id": "0fHSayFo9LFa",
        "outputId": "2b5757f8-2524-44e7-8022-bdd90f3da68a"
      },
      "execution_count": null,
      "outputs": [
        {
          "output_type": "stream",
          "name": "stdout",
          "text": [
            "[2, 6, 8, 4]\n"
          ]
        }
      ]
    },
    {
      "cell_type": "markdown",
      "source": [
        "## Practice"
      ],
      "metadata": {
        "id": "8sakqh-D-fcS"
      }
    },
    {
      "cell_type": "markdown",
      "source": [
        "###1)\n",
        "Given a list of numbers.\n",
        "Find and print the mean, median of the list and the sum of all elements.\n",
        "Sort the data list in descending order and output the sorted list.\n",
        "Remove all elements from the data list that are less than the average value.\n"
      ],
      "metadata": {
        "id": "REpNheEY-jtp"
      }
    },
    {
      "cell_type": "code",
      "source": [
        "list = [\n",
        "    1369, 6070, 1340, 7260, 9363, 50, 272, 8003, 4990, 6427,\n",
        "    9371, 5245, 6750, 7186, 9070, 6735, 265, 376, 7925, 951,\n",
        "    1926, 9115, 2735, 8208, 8802, 4688, 7414, 7926, 7454, 5939,\n",
        "    1867, 953, 4346, 7830, 8326, 9817, 8651, 4335, 2125, 1051,\n",
        "    6798, 4182, 2147, 3711, 7945, 7746, 4225, 7162, 8671, 4386\n",
        "]\n",
        "#Your code:"
      ],
      "metadata": {
        "id": "Nf8cXBRB-wZp"
      },
      "execution_count": null,
      "outputs": []
    },
    {
      "cell_type": "markdown",
      "source": [
        "###2)\n",
        "Create a nested_list containing three nested lists: [1, 2, 3], [4, 5, 6], [7, 8, 9].\n",
        "Print the value from the nested_list located at position (1, 2).\n",
        "Delete the second list.\n",
        "Add a new nested list [10, 11, 12] to the end of nested_list (not using).\n",
        "Use the + operator to combine nested_list with another list [[13, 14], [15, 16]]."
      ],
      "metadata": {
        "id": "L3eJ8Dxn-2y-"
      }
    },
    {
      "cell_type": "code",
      "source": [],
      "metadata": {
        "id": "w92DXpqf_Ejd"
      },
      "execution_count": null,
      "outputs": []
    },
    {
      "cell_type": "markdown",
      "source": [
        "###3)\n",
        "Using the list generator, create:\n",
        "\n",
        "1) A list of squares containing squares of numbers from 1 to 15\n",
        "\n",
        "2) List containing even numbers from 20 to 40\n",
        "\n",
        "3) List containing numbers divisible by 7 from 200 to 0."
      ],
      "metadata": {
        "id": "WatPXC3o_FU9"
      }
    },
    {
      "cell_type": "code",
      "source": [],
      "metadata": {
        "id": "k1mJf3-z_cbT"
      },
      "execution_count": null,
      "outputs": []
    },
    {
      "cell_type": "markdown",
      "source": [
        "### 4)\n",
        "Use the map() function to divide each element of the last list from the previous task by 7 and output a new list.\n",
        "Use the reduce() function to find the sum of all the list elements of a given list."
      ],
      "metadata": {
        "id": "-NUzheA2_lpY"
      }
    },
    {
      "cell_type": "code",
      "source": [],
      "metadata": {
        "id": "GXGEwLE5_75X"
      },
      "execution_count": null,
      "outputs": []
    }
  ]
}