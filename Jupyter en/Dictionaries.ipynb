{
  "nbformat": 4,
  "nbformat_minor": 0,
  "metadata": {
    "colab": {
      "provenance": []
    },
    "kernelspec": {
      "name": "python3",
      "display_name": "Python 3"
    },
    "language_info": {
      "name": "python"
    }
  },
  "cells": [
    {
      "cell_type": "markdown",
      "source": [
        "In Python, a dictionary (dict) is a mutable and unordered collection of key-value pairs. Keys in a dictionary must be unique and immutable. It can be strings, numbers (integers and fractions) and tuples. Lists, dictionaries, and other mutable data types cannot be used. But the values ​​can be of any data type and changeable.\n",
        "\n",
        "Dictionaries in Python are often used to store and access data by key. They are a convenient data structure for linking information, where you can quickly find a value using its key.\n",
        "\n",
        "Dictionary example:"
      ],
      "metadata": {
        "id": "_3kSZSFghWv6"
      }
    },
    {
      "cell_type": "code",
      "execution_count": null,
      "metadata": {
        "colab": {
          "base_uri": "https://localhost:8080/"
        },
        "id": "MBYttJwVa01b",
        "outputId": "5b4e0535-83b5-43f6-92c2-1305aa199fbd"
      },
      "outputs": [
        {
          "output_type": "stream",
          "name": "stdout",
          "text": [
            "{'Alice': 20, 'Bob': 19, 'Charlie': 19, 'David': 21, 'Eve': 22}\n"
          ]
        }
      ],
      "source": [
        "students = {\n",
        "    'Alice': 20,\n",
        "    'Bob': 19,\n",
        "    'Charlie': 19,\n",
        "    'David': 21,\n",
        "    'Eve': 22\n",
        "}\n",
        "\n",
        "print(students)\n"
      ]
    },
    {
      "cell_type": "markdown",
      "source": [
        "This dictionary contains students' names as keys and their ages as values."
      ],
      "metadata": {
        "id": "qqDuLKXyjRpc"
      }
    },
    {
      "cell_type": "markdown",
      "source": [
        "There are several ways to create a dictionary. For example, we can do this with:\n",
        "\n",
        "1. dict()"
      ],
      "metadata": {
        "id": "s7oXX7Loj5Be"
      }
    },
    {
      "cell_type": "code",
      "source": [
        "my_dict1 = dict() #создали пустой словарь\n",
        "my_dict2 = dict(a=1, b=2, c=3) #создали наполненный словарь\n",
        "print(my_dict1, my_dict2, sep='\\n')\n"
      ],
      "metadata": {
        "colab": {
          "base_uri": "https://localhost:8080/"
        },
        "id": "zg90cBbhj4pP",
        "outputId": "becc5052-e536-46ed-d23a-1b1470ec354e"
      },
      "execution_count": null,
      "outputs": [
        {
          "output_type": "stream",
          "name": "stdout",
          "text": [
            "{}\n",
            "{'a': 1, 'b': 2, 'c': 3}\n"
          ]
        }
      ]
    },
    {
      "cell_type": "markdown",
      "source": [
        "2.  With { }"
      ],
      "metadata": {
        "id": "SyFzNEo-lty1"
      }
    },
    {
      "cell_type": "code",
      "source": [
        "my_dict3 = {} #создали пустой словарь\n",
        "my_dict4 = {'a': 1, 'b': 2, 'c': 3} #создали наполненный словарь\n",
        "print(my_dict3, my_dict4, sep='\\n')\n"
      ],
      "metadata": {
        "colab": {
          "base_uri": "https://localhost:8080/"
        },
        "id": "1sIPF5VljTjT",
        "outputId": "4c528a4e-3c7b-4263-d380-c5c99192dae4"
      },
      "execution_count": null,
      "outputs": [
        {
          "output_type": "stream",
          "name": "stdout",
          "text": [
            "{}\n",
            "{'a': 1, 'b': 2, 'c': 3}\n"
          ]
        }
      ]
    },
    {
      "cell_type": "markdown",
      "source": [
        "3.  From two lists using zip"
      ],
      "metadata": {
        "id": "TN9rJ6A2mVFp"
      }
    },
    {
      "cell_type": "code",
      "source": [
        "keys5 = ['a', 'b', 'c']\n",
        "values5 = [1, 2, 3]\n",
        "my_dict5 = dict(zip(keys, values))\n",
        "print(my_dict5)\n"
      ],
      "metadata": {
        "colab": {
          "base_uri": "https://localhost:8080/"
        },
        "id": "K1VYfY41oJKR",
        "outputId": "4a605921-e55f-4d12-f499-19db80290e0b"
      },
      "execution_count": null,
      "outputs": [
        {
          "output_type": "stream",
          "name": "stdout",
          "text": [
            "{'a': 1, 'b': 2, 'c': 3}\n"
          ]
        }
      ]
    },
    {
      "cell_type": "markdown",
      "source": [
        "4. Dictionary generator (Python 3)"
      ],
      "metadata": {
        "id": "v-erCI2IoyH1"
      }
    },
    {
      "cell_type": "code",
      "source": [
        "my_dict6 = {x: x**2 for x in range(10)}\n",
        "print(my_dict6)\n"
      ],
      "metadata": {
        "colab": {
          "base_uri": "https://localhost:8080/"
        },
        "id": "SfoG0Dz6o65D",
        "outputId": "c72e34bc-d43c-4084-be69-bc69bc2cadce"
      },
      "execution_count": null,
      "outputs": [
        {
          "output_type": "stream",
          "name": "stdout",
          "text": [
            "{0: 0, 1: 1, 2: 4, 3: 9, 4: 16, 5: 25, 6: 36, 7: 49, 8: 64, 9: 81}\n"
          ]
        }
      ]
    },
    {
      "cell_type": "markdown",
      "source": [
        "If we assign a value to a new key, the dictionary is expanded to include that key-value pair.\n",
        "\n",
        "If we assign a value to an existing key, that value overwrites the previous one.\n",
        "\n",
        "If we try to get a value from a key that is not in the dictionary, it will throw an error.\n",
        "\n",
        "Let's add an element to the dictionary:"
      ],
      "metadata": {
        "id": "guJcMcD9qnsQ"
      }
    },
    {
      "cell_type": "code",
      "source": [
        "countries_capitals = {\n",
        "    'Russia': 'Moscow',\n",
        "    'USA': 'Washington',\n",
        "    'France': 'Paris',\n",
        "    'Germany': 'Berlin',\n",
        "    'China': 'Beijin'\n",
        "}\n",
        "countries_capitals['Japan'] = 'Tokyo'\n",
        "print(countries_capitals)"
      ],
      "metadata": {
        "colab": {
          "base_uri": "https://localhost:8080/"
        },
        "id": "9q81Oy7BqssU",
        "outputId": "d77f55f6-e79c-4e6b-ac6e-bf8d03fd10cb"
      },
      "execution_count": null,
      "outputs": [
        {
          "output_type": "stream",
          "name": "stdout",
          "text": [
            "{'Russia': 'Moscow', 'USA': 'Washington', 'France': 'Paris', 'Germany': 'Berlin', 'China': 'Beijin', 'Japan': 'Tokyo'}\n"
          ]
        }
      ]
    },
    {
      "cell_type": "markdown",
      "source": [
        "С помощью ключа мы можем получить значение или поменять его:"
      ],
      "metadata": {
        "id": "vGb2vEt-r0Df"
      }
    },
    {
      "cell_type": "code",
      "source": [
        "print(\"The capital of Japan is:\", countries_capitals[\"Japan\"])\n",
        "countries_capitals[\"USA\"] = \"New York\" #This is not true, of course\n",
        "print(countries_capitals)\n"
      ],
      "metadata": {
        "colab": {
          "base_uri": "https://localhost:8080/"
        },
        "id": "XC12ETtVs2_3",
        "outputId": "54bcd1ee-5220-4317-d22d-e4b6404a32d5"
      },
      "execution_count": null,
      "outputs": [
        {
          "output_type": "stream",
          "name": "stdout",
          "text": [
            "The capital of Japan is: Tokyo\n",
            "{'Russia': 'Moscow', 'USA': 'New York', 'France': 'Paris', 'Germany': 'Berlin', 'China': 'Beijin', 'Japan': 'Tokyo'}\n"
          ]
        }
      ]
    },
    {
      "cell_type": "markdown",
      "source": [
        "Another way to get a value is to use the .get() method. This method allows you to get a value by key from a dictionary. However, unlike using the operator[], if the key is missing, the .get() method will return the default value (usually None) rather than throwing an error."
      ],
      "metadata": {
        "id": "I1f-gH7pKYcR"
      }
    },
    {
      "cell_type": "code",
      "source": [
        "print(countries_capitals.get(\"Brasil\"))"
      ],
      "metadata": {
        "colab": {
          "base_uri": "https://localhost:8080/"
        },
        "id": "gWIOgdLcKgM2",
        "outputId": "b90d0ddb-6481-4ab1-f51c-d6e0ac4315a1"
      },
      "execution_count": null,
      "outputs": [
        {
          "output_type": "stream",
          "name": "stdout",
          "text": [
            "None\n"
          ]
        }
      ]
    },
    {
      "cell_type": "markdown",
      "source": [
        "The presence of a key in the dictionary can also be checked using the in keyword:"
      ],
      "metadata": {
        "id": "ZCFososhLIJZ"
      }
    },
    {
      "cell_type": "code",
      "source": [
        "print(\"Brasil\" in countries_capitals)\n",
        "print(\"China\" in countries_capitals)\n"
      ],
      "metadata": {
        "colab": {
          "base_uri": "https://localhost:8080/"
        },
        "id": "qL3mH4N4LVOn",
        "outputId": "22d6e20b-fe42-4d35-9668-2e1fd36fe2d9"
      },
      "execution_count": null,
      "outputs": [
        {
          "output_type": "stream",
          "name": "stdout",
          "text": [
            "False\n",
            "True\n"
          ]
        }
      ]
    },
    {
      "cell_type": "markdown",
      "source": [
        "In Python, you can remove elements from a dictionary in different ways. One of them is to use the del operator. This operator allows you to remove an element by key from a dictionary."
      ],
      "metadata": {
        "id": "wovXcPxJuDQE"
      }
    },
    {
      "cell_type": "code",
      "source": [
        "del countries_capitals['France']\n",
        "print(countries_capitals)\n"
      ],
      "metadata": {
        "colab": {
          "base_uri": "https://localhost:8080/"
        },
        "id": "bZ3zCe_AFWaG",
        "outputId": "54cfe6fd-f9e0-4e14-b0ac-902b218c0196"
      },
      "execution_count": null,
      "outputs": [
        {
          "output_type": "stream",
          "name": "stdout",
          "text": [
            "{'Russia': 'Moscow', 'USA': 'New York', 'Germany': 'Berlin', 'China': 'Beijin', 'Japan': 'Tokyo'}\n"
          ]
        }
      ]
    },
    {
      "cell_type": "markdown",
      "source": [
        "Another way is to use the .pop() method. It not only removes an element by key, but also returns its value. If the key is not found, the method may return the specified default value or throw an exception."
      ],
      "metadata": {
        "id": "TZvlNJhUFlRI"
      }
    },
    {
      "cell_type": "code",
      "source": [
        "print(\"The capital of Germany is:\",countries_capitals.pop(\"Germany\"))\n",
        "print(countries_capitals)\n"
      ],
      "metadata": {
        "colab": {
          "base_uri": "https://localhost:8080/"
        },
        "id": "eddbSUFOFYIR",
        "outputId": "59c2e9f9-4f19-4ef1-c09e-d2310271b47e"
      },
      "execution_count": null,
      "outputs": [
        {
          "output_type": "stream",
          "name": "stdout",
          "text": [
            "The capital of Germany is: Berlin\n",
            "{'Russia': 'Moscow', 'USA': 'New York', 'China': 'Beijin', 'Japan': 'Tokyo'}\n"
          ]
        }
      ]
    },
    {
      "cell_type": "markdown",
      "source": [
        "Before we delete or clear the dictionary, let's create a copy of it to preserve the original data. This can be done using the .copy() method."
      ],
      "metadata": {
        "id": "jy5hPTDNFo_s"
      }
    },
    {
      "cell_type": "code",
      "source": [
        "countries_capitals2 = countries_capitals.copy()\n",
        "print(\"Copied dictionary:\",countries_capitals2)\n"
      ],
      "metadata": {
        "colab": {
          "base_uri": "https://localhost:8080/"
        },
        "id": "uaHtQq8YFaMi",
        "outputId": "7978c1c9-796a-4317-f190-e069ef9b52e5"
      },
      "execution_count": null,
      "outputs": [
        {
          "output_type": "stream",
          "name": "stdout",
          "text": [
            "Copied dictionary: {'Russia': 'Moscow', 'USA': 'New York', 'China': 'Beijin', 'Japan': 'Tokyo'}\n"
          ]
        }
      ]
    },
    {
      "cell_type": "markdown",
      "source": [
        "To clear the entire dictionary, we can use the .clear() method. This method removes all elements from the dictionary."
      ],
      "metadata": {
        "id": "tSO2-xn8FrrR"
      }
    },
    {
      "cell_type": "code",
      "source": [
        "countries_capitals.clear()\n",
        "print(countries_capitals)\n"
      ],
      "metadata": {
        "colab": {
          "base_uri": "https://localhost:8080/"
        },
        "id": "aPz-G7_gFb9U",
        "outputId": "09d2a557-b178-4819-bb1c-2e6029b192d1"
      },
      "execution_count": null,
      "outputs": [
        {
          "output_type": "stream",
          "name": "stdout",
          "text": [
            "{}\n"
          ]
        }
      ]
    },
    {
      "cell_type": "markdown",
      "source": [
        "\n",
        "In addition to deleting individual elements or clearing the dictionary, we can also delete the dictionary itself using the del operator. This means deleting the variable that references the dictionary, which frees the memory occupied by that dictionary."
      ],
      "metadata": {
        "id": "ywvUjIr2Fuxu"
      }
    },
    {
      "cell_type": "code",
      "source": [
        "del countries_capitals\n"
      ],
      "metadata": {
        "id": "e_bBmRtvvFLB"
      },
      "execution_count": null,
      "outputs": []
    },
    {
      "cell_type": "markdown",
      "source": [
        "Python's update method for dictionaries joins two dictionaries by overwriting the values ​​for the same keys.\n",
        "\n",
        "Now that our dictionary is somewhat smaller, let's add new elements to it, and also return the correct US capital using the .update method"
      ],
      "metadata": {
        "id": "CIMkoe9c2Cg4"
      }
    },
    {
      "cell_type": "code",
      "source": [
        "countries_capitals_upd = {\n",
        "    'USA': 'Washington',\n",
        "    'UK': 'London',\n",
        "    'Italy': 'Rome',\n",
        "    'Spain': 'Madrid',\n",
        "}\n",
        "countries_capitals2.update(countries_capitals_upd)\n",
        "print(countries_capitals2)\n"
      ],
      "metadata": {
        "colab": {
          "base_uri": "https://localhost:8080/"
        },
        "id": "XrYDa06A213E",
        "outputId": "6c482701-2c84-41e7-f034-c56e0cc6ac1c"
      },
      "execution_count": null,
      "outputs": [
        {
          "output_type": "stream",
          "name": "stdout",
          "text": [
            "{'Russia': 'Moscow', 'USA': 'Washington', 'China': 'Beijin', 'Japan': 'Tokyo', 'UK': 'London', 'Italy': 'Rome', 'Spain': 'Madrid'}\n"
          ]
        }
      ]
    },
    {
      "cell_type": "markdown",
      "source": [
        "To obtain information about the contents of the dictionary, you can use the following functions:\n",
        "\n",
        ".items() - returns (key, value) pairs for all elements of a dictionary\n",
        "\n",
        ".keys() - returns the keys in the dictionary.\n",
        "\n",
        ".values() -\n",
        "returns all values ​​in the dictionary."
      ],
      "metadata": {
        "id": "YaBCcUoDAiJj"
      }
    },
    {
      "cell_type": "code",
      "source": [
        "print(\"Keys of the countries_capitals2:\", countries_capitals2.keys())\n",
        "\n",
        "print(\"\\n Values of the countries_capitals2:\", countries_capitals2.values())\n",
        "\n",
        "print(\"\\n (key, value) pairs of the countries_capitals2:\", countries_capitals2.items())"
      ],
      "metadata": {
        "colab": {
          "base_uri": "https://localhost:8080/"
        },
        "id": "vbE2BHteCMJJ",
        "outputId": "889d21a3-ce54-42a4-bd81-36a18bfc88bf"
      },
      "execution_count": null,
      "outputs": [
        {
          "output_type": "stream",
          "name": "stdout",
          "text": [
            "Keys of the countries_capitals2: dict_keys(['Russia', 'USA', 'China', 'Japan', 'UK', 'Italy', 'Spain'])\n",
            "\n",
            " Values of the countries_capitals2: dict_values(['Moscow', 'Washington', 'Beijin', 'Tokyo', 'London', 'Rome', 'Madrid'])\n",
            "\n",
            " (key, value) pairs of the countries_capitals2: dict_items([('Russia', 'Moscow'), ('USA', 'Washington'), ('China', 'Beijin'), ('Japan', 'Tokyo'), ('UK', 'London'), ('Italy', 'Rome'), ('Spain', 'Madrid')])\n"
          ]
        }
      ]
    },
    {
      "cell_type": "markdown",
      "source": [
        "You can find out the length of a dictionary using len()"
      ],
      "metadata": {
        "id": "52x_SWk2HCOW"
      }
    },
    {
      "cell_type": "code",
      "source": [
        "print(len(countries_capitals2.keys()))"
      ],
      "metadata": {
        "colab": {
          "base_uri": "https://localhost:8080/"
        },
        "id": "ppBXWiQ6Hj-p",
        "outputId": "2f2140a9-435d-4aa6-eb92-3ef08537503a"
      },
      "execution_count": null,
      "outputs": [
        {
          "output_type": "stream",
          "name": "stdout",
          "text": [
            "7\n"
          ]
        }
      ]
    },
    {
      "cell_type": "markdown",
      "source": [
        "For more complex data structures, we can create nested dictionaries, that is, dictionaries that contain other dictionaries as values."
      ],
      "metadata": {
        "id": "wkWOKImjMOyK"
      }
    },
    {
      "cell_type": "code",
      "source": [
        "nested_dict = {\n",
        "    'person1': {\n",
        "        'name': 'Alice',\n",
        "        'age': 30,\n",
        "        'city': 'New York'\n",
        "    },\n",
        "    'person2': {\n",
        "        'name': 'Bob',\n",
        "        'age': 25,\n",
        "        'city': 'Los Angeles'\n",
        "    }\n",
        "}\n",
        "print(nested_dict)\n"
      ],
      "metadata": {
        "colab": {
          "base_uri": "https://localhost:8080/"
        },
        "id": "_scBaYYdMU6X",
        "outputId": "dcc82141-2388-42a5-8f31-27612ff1ee8c"
      },
      "execution_count": null,
      "outputs": [
        {
          "output_type": "stream",
          "name": "stdout",
          "text": [
            "{'person1': {'name': 'Alice', 'age': 30, 'city': 'New York'}, 'person2': {'name': 'Bob', 'age': 25, 'city': 'Los Angeles'}}\n"
          ]
        }
      ]
    },
    {
      "cell_type": "markdown",
      "source": [
        "Here the nested_dict contains two people (person1 and person2), each of which is represented by a nested dictionary with the keys 'name', 'age' and 'city'.\n",
        "\n",
        "We can use multiple [] operators to access values ​​in nested dictionaries. For example, to get the name person1, we could write:"
      ],
      "metadata": {
        "id": "abeEUmywMZ3z"
      }
    },
    {
      "cell_type": "code",
      "source": [
        "print(nested_dict['person1']['name'])\n"
      ],
      "metadata": {
        "colab": {
          "base_uri": "https://localhost:8080/"
        },
        "id": "udhfgPQrMgjK",
        "outputId": "8321d48a-b9fd-47bf-93f6-79c4dd77ebf2"
      },
      "execution_count": null,
      "outputs": [
        {
          "output_type": "stream",
          "name": "stdout",
          "text": [
            "Alice\n"
          ]
        }
      ]
    },
    {
      "cell_type": "markdown",
      "source": [
        "We can also modify, add, and remove elements in nested dictionaries just like in regular dictionaries."
      ],
      "metadata": {
        "id": "sLtq_ebVMnuQ"
      }
    },
    {
      "cell_type": "code",
      "source": [
        "nested_dict['person3'] = {'name': 'Charlie', 'age': 35, 'city': 'Chicago'}\n",
        "nested_dict['person1']['name'] = \"Sarah\"\n",
        "del nested_dict ['person2']['age']\n",
        "print(nested_dict)\n"
      ],
      "metadata": {
        "colab": {
          "base_uri": "https://localhost:8080/"
        },
        "id": "LomdTvwvMpAU",
        "outputId": "c14d2a9d-ffe6-4ea2-a6ef-c5fae3721926"
      },
      "execution_count": null,
      "outputs": [
        {
          "output_type": "stream",
          "name": "stdout",
          "text": [
            "{'person1': {'name': 'Sarah', 'age': 30, 'city': 'New York'}, 'person2': {'name': 'Bob', 'city': 'Los Angeles'}, 'person3': {'name': 'Charlie', 'age': 35, 'city': 'Chicago'}}\n"
          ]
        }
      ]
    },
    {
      "cell_type": "markdown",
      "source": [
        "## Practice"
      ],
      "metadata": {
        "id": "0ewtvcezEo31"
      }
    },
    {
      "cell_type": "markdown",
      "source": [
        "### 1)\n",
        "A dictionary fruits is given with keys-names of fruits and values-quantities.\n",
        "Add pitaya in the amount of 6 pieces to the fruits dictionary.\n",
        "Change the quantity for one of the fruits.\n",
        "Remove kiwi from your dictionary.\n",
        "Display all the keys and values ​​of the fruits dictionary"
      ],
      "metadata": {
        "id": "KGvJSSe3E8Bn"
      }
    },
    {
      "cell_type": "code",
      "source": [
        "fruits = {\n",
        "    'apple': 20,\n",
        "    'banana': 15,\n",
        "    'orange': 18,\n",
        "    'kiwi': 10,\n",
        "    'pear': 12,\n",
        "    'grape': 25,\n",
        "    'mango': 8,\n",
        "    'peach': 14\n",
        "}\n",
        "\n",
        "#Your code:\n"
      ],
      "metadata": {
        "id": "MQvI8onVFGbv"
      },
      "execution_count": null,
      "outputs": []
    },
    {
      "cell_type": "markdown",
      "source": [
        "### 2)\n",
        "You are given a students dictionary with student names as keys and their grades (integers) as values.\n",
        "Find the students with the highest and lowest scores and display their name and score.\n",
        "Calculate the average grade of all students.\n",
        "Create a new dictionary above_average containing the names of students with above average grades and output the names from it."
      ],
      "metadata": {
        "id": "Vg-7M5ZnFG1w"
      }
    },
    {
      "cell_type": "code",
      "source": [
        "students = {\n",
        "    'Alice': 90,\n",
        "    'Bob': 85,\n",
        "    'Charlie': 92,\n",
        "    'David': 75,\n",
        "    'Eve': 88,\n",
        "    'Frank': 80,\n",
        "    'Grace': 95,\n",
        "    'Hannah': 78\n",
        "}\n",
        "\n",
        "#Your code:\n"
      ],
      "metadata": {
        "id": "AcDhZuFtFRo7"
      },
      "execution_count": null,
      "outputs": []
    },
    {
      "cell_type": "markdown",
      "source": [
        "###3)\n",
        "You are given following dictionaries\n",
        "\n",
        "1) products with keys-product names and values-prices\n",
        "\n",
        "2) discounts with keys-names of products and values-discounts in percentages.\n",
        "\n",
        "Create a new dictionary discounted_prices, in which the prices of products from the products dictionary are reduced by the corresponding discount percentages from the discounts dictionary.\n",
        "\n",
        "Display original and discounted prices for each product.\n",
        "Find and display the product with the greatest discount."
      ],
      "metadata": {
        "id": "1AaSbco9FSAZ"
      }
    },
    {
      "cell_type": "code",
      "source": [
        "products = {\n",
        "    'milk': 1.80,\n",
        "    'bread': 0.90,\n",
        "    'eggs': 2.20,\n",
        "    'cheese': 3.30,\n",
        "    'butter': 4.10,\n",
        "    'sugar': 1.00,\n",
        "    'flour': 0.70,\n",
        "    'rice': 1.50\n",
        "}\n",
        "\n",
        "discounts = {\n",
        "    'milk': 15,\n",
        "    'bread': 10,\n",
        "    'eggs': 25,\n",
        "    'cheese': 5,\n",
        "    'butter': 20,\n",
        "    'sugar': 10,\n",
        "    'flour': 15,\n",
        "    'rice': 20\n",
        "}\n",
        "\n",
        "#Your code:\n"
      ],
      "metadata": {
        "id": "CDKwQ7MMFi9-"
      },
      "execution_count": null,
      "outputs": []
    }
  ]
}