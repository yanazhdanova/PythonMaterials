{
  "nbformat": 4,
  "nbformat_minor": 0,
  "metadata": {
    "colab": {
      "provenance": []
    },
    "kernelspec": {
      "name": "python3",
      "display_name": "Python 3"
    },
    "language_info": {
      "name": "python"
    }
  },
  "cells": [
    {
      "cell_type": "markdown",
      "source": [
        "## Introduction to NumPy\n",
        "\n",
        "NumPy (Numerical Python) is a library for the Python designed to work with multidimensional arrays and matrices. It also contains a large number of functions for performing linear algebra, statistics, random numbers, and much more. It is one of the main libraries for scientific computing in Python and is widely used in fields such as data analytics, machine learning, image processing, numerical modeling and others.\n",
        "\n",
        "Benefits of NumPy:\n",
        "\n",
        "* Efficiency: NumPy provides high performance and efficiency when working with  data arrays thanks to its implementation in the C programming language. It allows you to process large amounts of data faster than regular Python lists.\n",
        "\n",
        "* Multidimensional Arrays: NumPy provides the ndarray object, which allows you to efficiently store and manipulate multidimensional arrays of data. This makes it an ideal tool for working with matrices, images, time series, and other types of data that can be represented as arrays.\n",
        "\n",
        "* Rich Functionality: The NumPy library contains many functions to perform various operations such as arithmetic operations, statistical calculations, sorting, filtering, solving linear equations and much more. This makes NumPy a powerful tool for scientific and engineering computing.\n",
        "\n",
        "Advantages of using NumPy arrays over standard Python lists:\n",
        "\n",
        "* High Performance: NumPy array operations are much faster than regular Python list operations thanks to the use of optimized C algorithms.\n",
        "\n",
        "* Convenience and simplicity: NumPy provides a simple and convenient interface for working with arrays, which makes the code more readable and understandable.\n",
        "\n",
        "* More Features: NumPy provides a rich selection of functions for performing array operations, making it easier to solve a wide range of scientific computing and data analysis problems.\n",
        "\n",
        "* Integration with other libraries: NumPy integrates with other popular Python libraries such as SciPy, Matplotlib, and Pandas, making it part of an ecosystem of scientific and engineering computing tools."
      ],
      "metadata": {
        "id": "3IH0pQCbsVIm"
      }
    },
    {
      "cell_type": "markdown",
      "source": [
        "## Creating NumPy Arrays\n",
        "\n",
        "NumPy is usually imported as **\"np\"** for ease of use. It is common name among programmers"
      ],
      "metadata": {
        "id": "v9ASkoCZt3bX"
      }
    },
    {
      "cell_type": "code",
      "source": [
        "import numpy as np"
      ],
      "metadata": {
        "id": "sjWRWIMVumD9"
      },
      "execution_count": 1,
      "outputs": []
    },
    {
      "cell_type": "markdown",
      "source": [
        "In NumPy, to create one-dimensional arrays, you can use the numpy.array() function, which takes a list (or other iterable) as an argument and creates a one-dimensional array from it."
      ],
      "metadata": {
        "id": "vSCsRwsourBH"
      }
    },
    {
      "cell_type": "code",
      "source": [
        "# Creating a one-dimensional array from a list\n",
        "arr1 = np.array([1, 2, 3, 4, 5])\n",
        "print(\"Array arr1:\", arr1)\n",
        "\n",
        "# Creating a one-dimensional array from a tuple\n",
        "arr2 = np.array((6, 7, 8, 9, 10))\n",
        "print(\"Array arr2:\", arr2)\n",
        "\n",
        "#Creating a one-dimensional array from a range of numbers\n",
        "arr3 = np.arange(1, 6)  # Creates an array with numbers from 1 to 5 (not including 6)\n",
        "print(\"Array arr3:\", arr3)\n"
      ],
      "metadata": {
        "colab": {
          "base_uri": "https://localhost:8080/"
        },
        "id": "PLxsoPS7vXAg",
        "outputId": "b40332cb-8464-477d-fbcf-3e46ff024671"
      },
      "execution_count": null,
      "outputs": [
        {
          "output_type": "stream",
          "name": "stdout",
          "text": [
            "Array arr1: [1 2 3 4 5]\n",
            "Array arr2: [ 6  7  8  9 10]\n",
            "Array arr3: [1 2 3 4 5]\n"
          ]
        }
      ]
    },
    {
      "cell_type": "markdown",
      "source": [
        "The numpy.array() function is also used to create multidimensional arrays"
      ],
      "metadata": {
        "id": "MT1470sVv23S"
      }
    },
    {
      "cell_type": "code",
      "source": [
        "arr2d = np.array([[1, 2, 3], [4, 5, 6], [7, 8, 9]])\n",
        "print(\"Two-dimensional array arr2d:\")\n",
        "print(arr2d)\n",
        "\n",
        "arr3d = np.array([[[1, 2, 3], [4, 5, 6]], [[7, 8, 9], [10, 11, 12]]])\n",
        "print(\"3D array arr3d:\")\n",
        "print(arr3d)\n",
        "\n",
        "random_arr = np.random.rand(2, 3)  # Creates a 2x3 array filled with random numbers from 0 to 1\n",
        "\n",
        "print(\"Array random_arr (random numbers):\")\n",
        "print(random_arr)\n"
      ],
      "metadata": {
        "colab": {
          "base_uri": "https://localhost:8080/"
        },
        "id": "PP4QFBymv9_z",
        "outputId": "afd56607-4c19-4bb6-cd82-f95b910cd455"
      },
      "execution_count": null,
      "outputs": [
        {
          "output_type": "stream",
          "name": "stdout",
          "text": [
            "Two-dimensional array arr2d:\n",
            "[[1 2 3]\n",
            " [4 5 6]\n",
            " [7 8 9]]\n",
            "3D array arr3d:\n",
            "[[[ 1  2  3]\n",
            "  [ 4  5  6]]\n",
            "\n",
            " [[ 7  8  9]\n",
            "  [10 11 12]]]\n",
            "Array random_arr (random numbers):\n",
            "[[0.90797796 0.18797606 0.2089435 ]\n",
            " [0.53905944 0.58331531 0.82099393]]\n"
          ]
        }
      ]
    },
    {
      "cell_type": "markdown",
      "source": [
        "NumPy has several built-in functions for creating arrays with specific values.\n",
        "\n",
        "1. np.zeros(shape): Creates an array of a given shape, filled with zeros."
      ],
      "metadata": {
        "id": "OOqJI4Ycw-WA"
      }
    },
    {
      "cell_type": "code",
      "source": [
        "zeros_arr = np.zeros((2, 3))\n",
        "print(\"Array filled with zeros:\")\n",
        "print(zeros_arr)\n"
      ],
      "metadata": {
        "colab": {
          "base_uri": "https://localhost:8080/"
        },
        "id": "twHWaDT9xJT1",
        "outputId": "21e9dbec-26d5-4531-ce95-c4cd7e987d8c"
      },
      "execution_count": null,
      "outputs": [
        {
          "output_type": "stream",
          "name": "stdout",
          "text": [
            "Array filled with zeros:\n",
            "[[0. 0. 0.]\n",
            " [0. 0. 0.]]\n"
          ]
        }
      ]
    },
    {
      "cell_type": "markdown",
      "source": [
        "2. np.ones(shape): Creates an array of a given shape filled with 1."
      ],
      "metadata": {
        "id": "53QjYINBxPOd"
      }
    },
    {
      "cell_type": "code",
      "source": [
        "ones_arr = np.ones((3, 2))\n",
        "print(\"An array filled with ones:\")\n",
        "print(ones_arr)\n"
      ],
      "metadata": {
        "colab": {
          "base_uri": "https://localhost:8080/"
        },
        "id": "PjA-PpVxxT7v",
        "outputId": "70b4daac-b6c9-4a42-a070-ba5f7110065c"
      },
      "execution_count": null,
      "outputs": [
        {
          "output_type": "stream",
          "name": "stdout",
          "text": [
            "An array filled with ones:\n",
            "[[1. 1.]\n",
            " [1. 1.]\n",
            " [1. 1.]]\n"
          ]
        }
      ]
    },
    {
      "cell_type": "markdown",
      "source": [
        "3. np.empty(shape): Creates an array of the given shape, but does not initialize it with values. Instead, the array may contain arbitrary values ​​that were in the corresponding memory area before the array was created."
      ],
      "metadata": {
        "id": "Kl55DH6wxXEj"
      }
    },
    {
      "cell_type": "code",
      "source": [
        "empty_arr = np.empty((2, 2))\n",
        "print(\"Empty array:\")\n",
        "print(empty_arr)\n"
      ],
      "metadata": {
        "colab": {
          "base_uri": "https://localhost:8080/"
        },
        "id": "DwPvc3Vqxj2v",
        "outputId": "913c863f-2bd7-49c4-8fa1-ec4bacb741f3"
      },
      "execution_count": null,
      "outputs": [
        {
          "output_type": "stream",
          "name": "stdout",
          "text": [
            "Empty array:\n",
            "[[4.91475798e-310 0.00000000e+000]\n",
            " [0.00000000e+000 0.00000000e+000]]\n"
          ]
        }
      ]
    },
    {
      "cell_type": "markdown",
      "source": [
        "4. np.arange(start, stop, step): Creates a one-dimensional array with values ​​from start to stop with the given step."
      ],
      "metadata": {
        "id": "Q6-PfAYCxpiB"
      }
    },
    {
      "cell_type": "code",
      "source": [
        "arange_arr = np.arange(0, 10, 2)\n",
        "print(\"Array created with arange():\")\n",
        "print(arange_arr)\n"
      ],
      "metadata": {
        "colab": {
          "base_uri": "https://localhost:8080/"
        },
        "id": "bl7syuFOxviI",
        "outputId": "c0b63ed7-06bf-4bcb-a413-a2894409b2b6"
      },
      "execution_count": null,
      "outputs": [
        {
          "output_type": "stream",
          "name": "stdout",
          "text": [
            "Array created with arange():\n",
            "[0 2 4 6 8]\n"
          ]
        }
      ]
    },
    {
      "cell_type": "markdown",
      "source": [
        "5. np.linspace(start, stop, num): Creates a one-dimensional array with evenly distributed elements ranging from start to stop (inclusive)."
      ],
      "metadata": {
        "id": "Nofe3neLyCG8"
      }
    },
    {
      "cell_type": "code",
      "source": [
        "linspace_arr = np.linspace(0, 1, 5)\n",
        "print(\"Array created with linspace():\")\n",
        "print(linspace_arr)\n"
      ],
      "metadata": {
        "colab": {
          "base_uri": "https://localhost:8080/"
        },
        "id": "Ea-BHYSjyP-N",
        "outputId": "14a06d3a-1cb8-4c82-e43b-a622f64ad65f"
      },
      "execution_count": null,
      "outputs": [
        {
          "output_type": "stream",
          "name": "stdout",
          "text": [
            "Array created with linspace():\n",
            "[0.   0.25 0.5  0.75 1.  ]\n"
          ]
        }
      ]
    },
    {
      "cell_type": "markdown",
      "source": [
        "## Basic operations with NumPy arrays\n",
        "\n",
        "Array indexing and slicing in NumPy works similarly to lists in Python, but with additional capabilities for working with multidimensional arrays"
      ],
      "metadata": {
        "id": "vAK3NUAjyVST"
      }
    },
    {
      "cell_type": "code",
      "source": [
        "arr = np.array([1, 2, 3, 4, 5])\n",
        "\n",
        "# Referring to an array element by index\n",
        "print(\"First element:\", arr[0])\n",
        "\n",
        "print(\"Last element:\", arr[-1])\n",
        "\n",
        "print(\"Slice from the second to the fourth element:\", arr[1:4])\n",
        "\n",
        "print(\"Slice with every 2 numbers\", arr[::2])\n"
      ],
      "metadata": {
        "colab": {
          "base_uri": "https://localhost:8080/"
        },
        "id": "yTvzcLCiz7KR",
        "outputId": "a82a9a42-ed42-4328-a34d-65958369cb94"
      },
      "execution_count": null,
      "outputs": [
        {
          "output_type": "stream",
          "name": "stdout",
          "text": [
            "First element: 1\n",
            "Last element: 5\n",
            "Slice from the second to the fourth element: [2 3 4]\n",
            "Slice with every 2 numbers [1 3 5]\n"
          ]
        }
      ]
    },
    {
      "cell_type": "markdown",
      "source": [
        "To access an element of a two-dimensional array, a array of indices is used"
      ],
      "metadata": {
        "id": "lwBbG8V20Le9"
      }
    },
    {
      "cell_type": "code",
      "source": [
        "arr_2d = np.array([[1, 2, 3], [4, 5, 6], [7, 8, 9]])\n",
        "\n",
        "print(\"Element in second row and second column:\", arr_2d[1, 1])\n",
        "\n",
        "print(\"Subarray from a two-dimensional array:\")\n",
        "print(arr_2d[:2, 1:])\n",
        "\n",
        "\n",
        "print(\"Slice in increments of 2 across columns:\")\n",
        "print(arr_2d[:, ::2])\n"
      ],
      "metadata": {
        "colab": {
          "base_uri": "https://localhost:8080/"
        },
        "id": "8wQbgJKU0VnN",
        "outputId": "d1134690-709d-49b7-decd-b1e791c184b6"
      },
      "execution_count": null,
      "outputs": [
        {
          "output_type": "stream",
          "name": "stdout",
          "text": [
            "Element in second row and second column: 5\n",
            "Subarray from a two-dimensional array:\n",
            "[[2 3]\n",
            " [5 6]]\n",
            "Slice in increments of 2 across columns:\n",
            "[[1 3]\n",
            " [4 6]\n",
            " [7 9]]\n"
          ]
        }
      ]
    },
    {
      "cell_type": "markdown",
      "source": [
        "More accessing elements using index arrays:"
      ],
      "metadata": {
        "id": "9v5wYDeX0tYC"
      }
    },
    {
      "cell_type": "code",
      "source": [
        "arr = np.array([1, 2, 3, 4, 5])\n",
        "indices = np.array([0, 2, 4])\n",
        "print(arr[indices])\n",
        "\n",
        "arr_2d = np.array([[1, 2, 3], [4, 5, 6], [7, 8, 9]])\n",
        "# Creating an array of indexes for rows and columns\n",
        "row_indices = np.array([0, 1, 2])\n",
        "col_indices = np.array([1, 2, 0])\n",
        "\n",
        "#Indexing the arr_2d array using index arrays\n",
        "result = arr_2d[row_indices, col_indices]\n",
        "\n",
        "print(result)"
      ],
      "metadata": {
        "colab": {
          "base_uri": "https://localhost:8080/"
        },
        "id": "N9uXwNTc035h",
        "outputId": "1fc459b9-485d-4007-d665-73ae4be464e9"
      },
      "execution_count": null,
      "outputs": [
        {
          "output_type": "stream",
          "name": "stdout",
          "text": [
            "[1 3 5]\n",
            "[2 6 7]\n"
          ]
        }
      ]
    },
    {
      "cell_type": "markdown",
      "source": [
        "Indexing and slicing using conditions:"
      ],
      "metadata": {
        "id": "gzAs9y4g1NAP"
      }
    },
    {
      "cell_type": "code",
      "source": [
        "arr = np.array([1, 2, 3, 4, 5])\n",
        "print(arr[arr > 2])\n",
        "\n",
        "arr_2d = np.array([[1, 2, 3], [4, 5, 6], [7, 8, 9]])\n",
        "print(arr_2d[arr_2d > 5])\n"
      ],
      "metadata": {
        "colab": {
          "base_uri": "https://localhost:8080/"
        },
        "id": "QKbHOT801fu1",
        "outputId": "5ff50fe0-0ba3-4391-b34b-8aba6a50012a"
      },
      "execution_count": null,
      "outputs": [
        {
          "output_type": "stream",
          "name": "stdout",
          "text": [
            "[3 4 5]\n",
            "[6 7 8 9]\n"
          ]
        }
      ]
    },
    {
      "cell_type": "markdown",
      "source": [
        "Indexing and slicing in multidimensional arrays:\n",
        "\n",
        "In multidimensional arrays, you can use multiple indexes or slices to access elements or subarrays. Slices in a multidimensional array are also specified using start:stop:step for each dimension, separated by commas."
      ],
      "metadata": {
        "id": "oInhS_G63dqh"
      }
    },
    {
      "cell_type": "code",
      "source": [
        "arr_2d = np.array([[1, 2, 3], [4, 5, 6], [7, 8, 9]])\n",
        "print(arr2d[:2, 1:])\n"
      ],
      "metadata": {
        "colab": {
          "base_uri": "https://localhost:8080/"
        },
        "id": "-BQgwxa-3pBD",
        "outputId": "b11b9a0c-a70e-42eb-eb05-11c6a3633339"
      },
      "execution_count": null,
      "outputs": [
        {
          "output_type": "stream",
          "name": "stdout",
          "text": [
            "[[2 3]\n",
            " [5 6]]\n"
          ]
        }
      ]
    },
    {
      "cell_type": "code",
      "source": [
        "print(arr2d[:, ::2])\n"
      ],
      "metadata": {
        "colab": {
          "base_uri": "https://localhost:8080/"
        },
        "id": "mxpO_OMI4LOJ",
        "outputId": "e0632bf5-7c34-4ba0-f2d2-2fe4dc399fc9"
      },
      "execution_count": null,
      "outputs": [
        {
          "output_type": "stream",
          "name": "stdout",
          "text": [
            "[[1 3]\n",
            " [4 6]\n",
            " [7 9]]\n"
          ]
        }
      ]
    },
    {
      "cell_type": "markdown",
      "source": [
        "In NumPy, array arithmetic is performed element-by-element:"
      ],
      "metadata": {
        "id": "7G-ndF074svq"
      }
    },
    {
      "cell_type": "code",
      "source": [
        "arr1 = np.array([1, 2, 3])\n",
        "arr2 = np.array([4, 5, 6])\n",
        "\n",
        "print(arr1 + arr2)\n",
        "print(arr1 + 10)\n",
        "\n"
      ],
      "metadata": {
        "colab": {
          "base_uri": "https://localhost:8080/"
        },
        "id": "BYh_ma1I5IyV",
        "outputId": "2a908451-decc-41d1-da79-67de895ca7ae"
      },
      "execution_count": null,
      "outputs": [
        {
          "output_type": "stream",
          "name": "stdout",
          "text": [
            "[5 7 9]\n",
            "[11 12 13]\n"
          ]
        }
      ]
    },
    {
      "cell_type": "code",
      "source": [
        "print(arr1 - arr2)\n",
        "print(arr1 - 10)\n"
      ],
      "metadata": {
        "colab": {
          "base_uri": "https://localhost:8080/"
        },
        "id": "ugd0N3rS7Bv1",
        "outputId": "d5c542d4-06d6-4759-e1a7-b7d58dc0dec7"
      },
      "execution_count": null,
      "outputs": [
        {
          "output_type": "stream",
          "name": "stdout",
          "text": [
            "[-3 -3 -3]\n",
            "[-9 -8 -7]\n"
          ]
        }
      ]
    },
    {
      "cell_type": "code",
      "source": [
        "print(arr1 * arr2)\n",
        "print(arr1 * 10)\n"
      ],
      "metadata": {
        "colab": {
          "base_uri": "https://localhost:8080/"
        },
        "id": "Sh9_5p6R7EOo",
        "outputId": "1a19f2e9-c67a-4de7-b331-48bda414a0a2"
      },
      "execution_count": null,
      "outputs": [
        {
          "output_type": "stream",
          "name": "stdout",
          "text": [
            "[ 4 10 18]\n",
            "[10 20 30]\n"
          ]
        }
      ]
    },
    {
      "cell_type": "code",
      "source": [
        "print(arr1 / arr2)\n",
        "print(arr1 / 10)\n"
      ],
      "metadata": {
        "colab": {
          "base_uri": "https://localhost:8080/"
        },
        "id": "EbPH5etC7GBd",
        "outputId": "f78fb256-84f7-4f6e-86cd-5fc63d9ec13c"
      },
      "execution_count": null,
      "outputs": [
        {
          "output_type": "stream",
          "name": "stdout",
          "text": [
            "[0.25 0.4  0.5 ]\n",
            "[0.1 0.2 0.3]\n"
          ]
        }
      ]
    },
    {
      "cell_type": "code",
      "source": [
        "print(arr1 ** arr2)\n",
        "print(arr1 ** 2)\n"
      ],
      "metadata": {
        "colab": {
          "base_uri": "https://localhost:8080/"
        },
        "id": "oINxdTWG7KMp",
        "outputId": "402eaa2a-f3ba-4165-bc40-1baecba645c7"
      },
      "execution_count": null,
      "outputs": [
        {
          "output_type": "stream",
          "name": "stdout",
          "text": [
            "[  1  32 729]\n",
            "[1 4 9]\n"
          ]
        }
      ]
    },
    {
      "cell_type": "markdown",
      "source": [
        "NumPy provides many basic mathematical functions for working with arrays of data. These functions can be applied to arrays element by element. Below are just a few examples of basic math functions in NumPy. A more detailed list of functions and additional features can be found in the official NumPy documentation."
      ],
      "metadata": {
        "id": "7VyqaVgX70hx"
      }
    },
    {
      "cell_type": "code",
      "source": [
        "arr1 = np.array([0, np.pi/2, np.pi])\n",
        "#np.sin(): Calculates the sine of an angle for each array element.\n",
        "print(\"Sine of array elements:\", np.sin(arr1))\n",
        "#np.cos(): Calculates the cosine of the angle for each array element.\n",
        "print(\"Cosine of array elements:\", np.cos(arr1))\n",
        "#np.tan(): Calculates the tangent of an angle for each array element.\n",
        "print(\"Tangent of array elements:\", np.tan(arr1))\n"
      ],
      "metadata": {
        "colab": {
          "base_uri": "https://localhost:8080/"
        },
        "id": "QDdBLU0L79at",
        "outputId": "7aabb9b4-bd64-4b56-fb30-ca3f69605765"
      },
      "execution_count": null,
      "outputs": [
        {
          "output_type": "stream",
          "name": "stdout",
          "text": [
            "Sine of array elements: [0.0000000e+00 1.0000000e+00 1.2246468e-16]\n",
            "Cosine of array elements: [ 1.000000e+00  6.123234e-17 -1.000000e+00]\n",
            "Tangent of array elements: [ 0.00000000e+00  1.63312394e+16 -1.22464680e-16]\n"
          ]
        }
      ]
    },
    {
      "cell_type": "code",
      "source": [
        "arr2 = np.array([1, 2, 3])\n",
        "#np.exp(): Calculates the exponent (e^x) for each array element.\n",
        "print(\"Exponent for each array element:\", np.exp(arr2))\n"
      ],
      "metadata": {
        "colab": {
          "base_uri": "https://localhost:8080/"
        },
        "id": "p0G56WTL815k",
        "outputId": "ce2cac0d-b741-4889-ebbf-cd2193fb5586"
      },
      "execution_count": null,
      "outputs": [
        {
          "output_type": "stream",
          "name": "stdout",
          "text": [
            "Exponent for each array element: [ 2.71828183  7.3890561  20.08553692]\n"
          ]
        }
      ]
    },
    {
      "cell_type": "code",
      "source": [
        "arr3 = np.array([1, np.e, np.e**2])\n",
        "#np.exp(): Calculates the natural logarithm for each array element.\n",
        "print(\"Natural logarithm for each array element.\", np.log(arr3))\n"
      ],
      "metadata": {
        "colab": {
          "base_uri": "https://localhost:8080/"
        },
        "id": "r_mz_j_m83jS",
        "outputId": "44b98720-5409-4e81-c6b2-8745edbb7942"
      },
      "execution_count": null,
      "outputs": [
        {
          "output_type": "stream",
          "name": "stdout",
          "text": [
            "Calculates the natural logarithm for each array element. [0. 1. 2.]\n"
          ]
        }
      ]
    },
    {
      "cell_type": "code",
      "source": [
        "arr4 = np.array([4, 9, 16])\n",
        "#np.exp(): Calculates the square root of each array element.\n",
        "print(\"Square root for each array element:\", np.sqrt(arr4))\n"
      ],
      "metadata": {
        "colab": {
          "base_uri": "https://localhost:8080/"
        },
        "id": "zqdUyG5085Qr",
        "outputId": "6a0a8e02-4450-4aa8-8e16-2149c8113eb2"
      },
      "execution_count": null,
      "outputs": [
        {
          "output_type": "stream",
          "name": "stdout",
          "text": [
            "Square root for each array element: [2. 3. 4.]\n"
          ]
        }
      ]
    },
    {
      "cell_type": "markdown",
      "source": [
        "If we are working with vectors, we can also calculate their dot and cross product using the np.dot() and np.cross() functions."
      ],
      "metadata": {
        "id": "9v96oxJxzueY"
      }
    },
    {
      "cell_type": "code",
      "source": [
        "vec1 = np.array([1, 2, 3])\n",
        "vec2 = np.array([4, 5, 6])\n",
        "\n",
        "print(\"Cross product of vectors vec1 and vec2: \",np.cross(vec1, vec2))\n",
        "print(\"Dot product of vectors vec1 and vec2: \",np.dot(vec1, vec2))"
      ],
      "metadata": {
        "colab": {
          "base_uri": "https://localhost:8080/"
        },
        "id": "q-xbVtg7z9Z0",
        "outputId": "e992bc80-6ae0-44af-8ee6-00039b684c9a"
      },
      "execution_count": null,
      "outputs": [
        {
          "output_type": "stream",
          "name": "stdout",
          "text": [
            "Cross product of vectors vec1 and vec2:  [-3  6 -3]\n",
            "Dot product of vectors vec1 and vec2:  32\n"
          ]
        }
      ]
    },
    {
      "cell_type": "markdown",
      "source": [
        "Using the definition of the mixed product $(a×b)⋅c$, we can calculate it too using a combination of the np.cross() and np.dot() functions"
      ],
      "metadata": {
        "id": "2h8Zl0PP0uXZ"
      }
    },
    {
      "cell_type": "code",
      "source": [
        "vec3 = np.array([7, 8, 9])\n",
        "\n",
        "print(\"Mixed product of vectors vec1, vec2 и vec3:\", np.dot(np.cross(vec1, vec2), vec3))"
      ],
      "metadata": {
        "colab": {
          "base_uri": "https://localhost:8080/"
        },
        "id": "k2LUdwsR1FaZ",
        "outputId": "ef346b41-a242-4ddc-ad7b-2d77bf073436"
      },
      "execution_count": null,
      "outputs": [
        {
          "output_type": "stream",
          "name": "stdout",
          "text": [
            "Mixed product of vectors vec1, vec2 и vec3: 0\n"
          ]
        }
      ]
    },
    {
      "cell_type": "markdown",
      "source": [
        "##Practice"
      ],
      "metadata": {
        "id": "AwXn_JnIPHxC"
      }
    },
    {
      "cell_type": "markdown",
      "source": [
        "###1)\n",
        "Create a 4x5 two-dimensional array filled with random numbers  ranging from 0 to 10.\n",
        "Find the average of all array elements.\n",
        "Create a new array in which each element of the original array is increased by the average value from the previous step and for each element find its sine, exponent, natural logarithm and square root."
      ],
      "metadata": {
        "id": "m54QB5OwPTgG"
      }
    },
    {
      "cell_type": "code",
      "source": [],
      "metadata": {
        "id": "VnJvaXDiQmZf"
      },
      "execution_count": null,
      "outputs": []
    },
    {
      "cell_type": "markdown",
      "source": [
        "###2)\n",
        "Create a two-dimensional 6x6 array filled with numbers from 0 to 35.\n",
        "Select and display a subarray consisting of 3 rows and 3 columns of the second quarter of the array.\n",
        "Create an array from all even elements of the original array and display it on the screen."
      ],
      "metadata": {
        "id": "_dqFXoWfQm_R"
      }
    },
    {
      "cell_type": "code",
      "source": [],
      "metadata": {
        "id": "jJDHn-IbQ7Jp"
      },
      "execution_count": null,
      "outputs": []
    },
    {
      "cell_type": "markdown",
      "source": [
        "###3)\n",
        "Create two vectors vec1 and vec2 of length 3 elements. Fill them in with any integers of your choice.\n",
        "Find and display scalar\n",
        "and the cross product of the vectors vec1 and vec2.\n",
        "Create a third vector vec3 similar way to the first two\n",
        "and calculate the mixed product $(vec1 × vec2) ⋅ vec3$ and display the result."
      ],
      "metadata": {
        "id": "8IFinm9VQ728"
      }
    },
    {
      "cell_type": "code",
      "source": [],
      "metadata": {
        "id": "O0va2TTvRZVp"
      },
      "execution_count": null,
      "outputs": []
    }
  ]
}