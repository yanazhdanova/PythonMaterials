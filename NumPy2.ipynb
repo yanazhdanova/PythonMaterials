{
  "nbformat": 4,
  "nbformat_minor": 0,
  "metadata": {
    "colab": {
      "provenance": []
    },
    "kernelspec": {
      "name": "python3",
      "display_name": "Python 3"
    },
    "language_info": {
      "name": "python"
    }
  },
  "cells": [
    {
      "cell_type": "code",
      "source": [
        "import numpy as np"
      ],
      "metadata": {
        "id": "AmjhMR4cAnEH"
      },
      "execution_count": null,
      "outputs": []
    },
    {
      "cell_type": "markdown",
      "source": [
        "В NumPy матрицы представляют собой двумерные массивы, которые обладают особыми свойствами и функциями, оптимизированными для линейной алгебры и работы с матрицами.\n"
      ],
      "metadata": {
        "id": "3AdcIDyY-4XU"
      }
    },
    {
      "cell_type": "markdown",
      "source": [
        "Матрицу можно создать, передав список списков (или другой итерируемый объект) в функцию np.array()"
      ],
      "metadata": {
        "id": "7pUA9WcHAW6U"
      }
    },
    {
      "cell_type": "code",
      "source": [
        "matrix = np.array([[1, 2, 3], [4, 5, 6], [7, 8, 9]])\n"
      ],
      "metadata": {
        "id": "Nqp-5nHqAyaJ"
      },
      "execution_count": null,
      "outputs": []
    },
    {
      "cell_type": "markdown",
      "source": [
        "NumPy предоставляет некоторые специальные функции для создания определенных типов матриц.\n",
        "1. Матрица из нулей (np.zeros()):\n",
        "\n",
        "Матрица из нулей состоит из всех элементов, равных нулю."
      ],
      "metadata": {
        "id": "azYFGPufBK-V"
      }
    },
    {
      "cell_type": "code",
      "source": [
        "# Создание матрицы из нулей размером 2x3\n",
        "zeros_matrix = np.zeros((2, 3))\n",
        "print(zeros_matrix)\n"
      ],
      "metadata": {
        "colab": {
          "base_uri": "https://localhost:8080/"
        },
        "id": "WWqv6gPiBV0R",
        "outputId": "7c1a4881-e299-4561-e66c-36f2587d0e45"
      },
      "execution_count": null,
      "outputs": [
        {
          "output_type": "stream",
          "name": "stdout",
          "text": [
            "[[0. 0. 0.]\n",
            " [0. 0. 0.]]\n"
          ]
        }
      ]
    },
    {
      "cell_type": "markdown",
      "source": [
        "2. Матрица из единиц (np.ones()):\n",
        "\n",
        "Матрица из единиц состоит из всех элементов, равных единице."
      ],
      "metadata": {
        "id": "nIyZ0-uVEJ2L"
      }
    },
    {
      "cell_type": "code",
      "source": [
        "# Создание матрицы из единиц размером 3x2\n",
        "ones_matrix = np.ones((3, 2))\n",
        "print(ones_matrix)\n"
      ],
      "metadata": {
        "colab": {
          "base_uri": "https://localhost:8080/"
        },
        "id": "cSGrclhQBnzj",
        "outputId": "79af3701-0922-4f25-eeb1-ba7766bd19af"
      },
      "execution_count": null,
      "outputs": [
        {
          "output_type": "stream",
          "name": "stdout",
          "text": [
            "[[1. 1.]\n",
            " [1. 1.]\n",
            " [1. 1.]]\n"
          ]
        }
      ]
    },
    {
      "cell_type": "markdown",
      "source": [
        "3. Единичная матрица (np.eye()):\n",
        "\n",
        "Единичная матрица (или единичный оператор) - это квадратная матрица, у которой все элементы на главной диагонали равны 1, а все остальные равны 0."
      ],
      "metadata": {
        "id": "QS33wwyeERMw"
      }
    },
    {
      "cell_type": "code",
      "source": [
        "# Создание единичной матрицы размером 3x3\n",
        "identity_matrix = np.eye(3)\n",
        "print(identity_matrix)\n"
      ],
      "metadata": {
        "colab": {
          "base_uri": "https://localhost:8080/"
        },
        "id": "OuEM4DynBqK2",
        "outputId": "5723a408-4f7b-4e19-b18f-83208af2f87a"
      },
      "execution_count": null,
      "outputs": [
        {
          "output_type": "stream",
          "name": "stdout",
          "text": [
            "[[1. 0. 0.]\n",
            " [0. 1. 0.]\n",
            " [0. 0. 1.]]\n"
          ]
        }
      ]
    },
    {
      "cell_type": "markdown",
      "source": [
        "4. Диагональная матрица (np.diag()):\n",
        "\n",
        "Диагональная матрица имеет ненулевые элементы только на главной диагонали."
      ],
      "metadata": {
        "id": "WScGL8DUEVyy"
      }
    },
    {
      "cell_type": "code",
      "source": [
        "# Создание диагональной матрицы размером 3x3\n",
        "diagonal_matrix = np.diag([1, 2, 3])\n",
        "print(diagonal_matrix)\n"
      ],
      "metadata": {
        "colab": {
          "base_uri": "https://localhost:8080/"
        },
        "id": "oibCs2oACvu5",
        "outputId": "6a388f32-ee27-4641-e821-e61651ff6dd6"
      },
      "execution_count": null,
      "outputs": [
        {
          "output_type": "stream",
          "name": "stdout",
          "text": [
            "[[1 0 0]\n",
            " [0 2 0]\n",
            " [0 0 3]]\n"
          ]
        }
      ]
    },
    {
      "cell_type": "markdown",
      "source": [
        "5. Матрица с заданным значением (np.full()):\n",
        "\n",
        "Матрица с заданным значением содержит все элементы, равные определенному значению"
      ],
      "metadata": {
        "id": "WROPvP1KEcH9"
      }
    },
    {
      "cell_type": "code",
      "source": [
        "# Создание матрицы с заданными значениями\n",
        "constant_matrix = np.full((2, 3), 5)\n",
        "print(constant_matrix)\n"
      ],
      "metadata": {
        "colab": {
          "base_uri": "https://localhost:8080/"
        },
        "id": "sLAfgPD1DRmk",
        "outputId": "470f7310-a855-4474-cb7c-484b9d80b726"
      },
      "execution_count": null,
      "outputs": [
        {
          "output_type": "stream",
          "name": "stdout",
          "text": [
            "[[5 5 5]\n",
            " [5 5 5]]\n"
          ]
        }
      ]
    },
    {
      "cell_type": "markdown",
      "source": [
        "6. NumPy также предоставляет методы для генерации матриц с случайными значениями."
      ],
      "metadata": {
        "id": "pK10i04tB4bZ"
      }
    },
    {
      "cell_type": "code",
      "source": [
        "random_matrix1 = np.random.rand(2, 3)\n",
        "print(random_matrix1)\n",
        "\n",
        "random_matrix2 = np.random.randint(10, size=(3, 2))\n",
        "print(random_matrix2)\n"
      ],
      "metadata": {
        "colab": {
          "base_uri": "https://localhost:8080/"
        },
        "id": "8_RW7t_IB9OK",
        "outputId": "a54bca22-417f-4d6d-b3cc-051c6ae7651e"
      },
      "execution_count": null,
      "outputs": [
        {
          "output_type": "stream",
          "name": "stdout",
          "text": [
            "[[0.96724696 0.85198786 0.94743091]\n",
            " [0.71636589 0.77264582 0.34596159]]\n",
            "[[2 5]\n",
            " [4 5]\n",
            " [7 1]]\n"
          ]
        }
      ]
    },
    {
      "cell_type": "markdown",
      "source": [
        "Это некоторые из наиболее распространенных предустановленных матриц в NumPy."
      ],
      "metadata": {
        "id": "7g3FV7U3EjXf"
      }
    },
    {
      "cell_type": "markdown",
      "source": [
        "В NumPy у массивов, включая матрицы, есть несколько основных атрибутов, которые предоставляют информацию о их форме и размере. Некоторые из них:\n",
        "\n",
        "1. shape:\n",
        "\n",
        "Атрибут shape возвращает кортеж, представляющий размерность массива. Для матрицы это будет кортеж с двумя элементами, где первый элемент представляет количество строк, а второй элемент - количество столбцов.\n",
        "\n",
        "2. ndim:\n",
        "\n",
        "Атрибут ndim возвращает количество измерений (осей) массива. Для матрицы это всегда будет 2, поскольку матрица является двумерным массивом.\n",
        "\n",
        "3. size:\n",
        "\n",
        "Атрибут size возвращает общее количество элементов в массиве.\n",
        "\n",
        "4. real и imag:\n",
        "\n",
        "Если массив содержит комплексные числа, атрибуты real и imag представляют вещественную и мнимую части соответственно."
      ],
      "metadata": {
        "id": "CumoHv34FsZq"
      }
    },
    {
      "cell_type": "code",
      "source": [
        "matrix = np.array([[1, 2, 3], [4, 5, 6], [7, 8, 9]])\n",
        "\n",
        "print(\"Форма (shape) матрицы:\", matrix.shape)\n",
        "print(\"Количество измерений (ndim) матрицы:\", matrix.ndim)\n",
        "print(\"Общее количество элементов (size) матрицы:\", matrix.size)\n"
      ],
      "metadata": {
        "colab": {
          "base_uri": "https://localhost:8080/"
        },
        "id": "6-t4l6bxGGRW",
        "outputId": "972a293a-c93d-4b44-d799-fa2a13b23e4c"
      },
      "execution_count": null,
      "outputs": [
        {
          "output_type": "stream",
          "name": "stdout",
          "text": [
            "Форма (shape) матрицы: (3, 3)\n",
            "Количество измерений (ndim) матрицы: 2\n",
            "Общее количество элементов (size) матрицы: 9\n"
          ]
        }
      ]
    },
    {
      "cell_type": "code",
      "source": [
        "arr_complex = np.array([[1 + 2j, 3 + 4j], [5 + 6j, 7 + 8j]])\n",
        "\n",
        "print(\"Вещественная часть (real):\", arr_complex.real)\n",
        "print(\"Мнимая часть (imag):\", arr_complex.imag)\n"
      ],
      "metadata": {
        "colab": {
          "base_uri": "https://localhost:8080/"
        },
        "id": "6RgtGXGxGZI4",
        "outputId": "c5dcf53a-41f8-4dd0-aa5e-e24c53da5a62"
      },
      "execution_count": null,
      "outputs": [
        {
          "output_type": "stream",
          "name": "stdout",
          "text": [
            "Вещественная часть (real): [[1. 3.]\n",
            " [5. 7.]]\n",
            "Мнимая часть (imag): [[2. 4.]\n",
            " [6. 8.]]\n"
          ]
        }
      ]
    },
    {
      "cell_type": "markdown",
      "source": [
        "В прошлом занятии были рассмотрены арифметические операции на массивах. Тот же функционал присутствует касательно матриц."
      ],
      "metadata": {
        "id": "I6qM8nNntDSd"
      }
    },
    {
      "cell_type": "markdown",
      "source": [
        "* Сложение и вычитание:\n",
        "\n",
        "Сложение и вычитание матриц происходит поэлементно. Для этого используются операторы + и -."
      ],
      "metadata": {
        "id": "U2XEYNFotXsI"
      }
    },
    {
      "cell_type": "code",
      "source": [
        "matrix1 = np.array([[1, 2], [3, 4]])\n",
        "matrix2 = np.array([[5, 6], [7, 8]])\n",
        "\n",
        "print(matrix1 + matrix2)\n"
      ],
      "metadata": {
        "colab": {
          "base_uri": "https://localhost:8080/"
        },
        "id": "OmcxVW95tbZY",
        "outputId": "e6ad839b-23d3-4c3a-f7a7-45ff0cfb54e6"
      },
      "execution_count": null,
      "outputs": [
        {
          "output_type": "stream",
          "name": "stdout",
          "text": [
            "[[ 6  8]\n",
            " [10 12]]\n"
          ]
        }
      ]
    },
    {
      "cell_type": "code",
      "source": [
        "print(matrix1 - matrix2)"
      ],
      "metadata": {
        "colab": {
          "base_uri": "https://localhost:8080/"
        },
        "id": "rtNXiRavt3P6",
        "outputId": "1ed6e22d-0aee-4183-d2a1-d4d4d12b3061"
      },
      "execution_count": null,
      "outputs": [
        {
          "output_type": "stream",
          "name": "stdout",
          "text": [
            "[[-4 -4]\n",
            " [-4 -4]]\n"
          ]
        }
      ]
    },
    {
      "cell_type": "markdown",
      "source": [
        "* Умножение:\n",
        "\n",
        "Умножение матриц также может быть поэлементным или матричным, в зависимости от использования оператора * или функции np.dot()"
      ],
      "metadata": {
        "id": "ZTf3Cusmtnr0"
      }
    },
    {
      "cell_type": "code",
      "source": [
        "print(matrix1 * matrix2)\n"
      ],
      "metadata": {
        "colab": {
          "base_uri": "https://localhost:8080/"
        },
        "id": "v5frTVRytrdB",
        "outputId": "4296b7fc-18bc-4615-ccd4-2931a05f3e9c"
      },
      "execution_count": null,
      "outputs": [
        {
          "output_type": "stream",
          "name": "stdout",
          "text": [
            "[[ 5 12]\n",
            " [21 32]]\n"
          ]
        }
      ]
    },
    {
      "cell_type": "code",
      "source": [
        "print(np.dot(matrix1, matrix2))\n"
      ],
      "metadata": {
        "colab": {
          "base_uri": "https://localhost:8080/"
        },
        "id": "hrmOL6UHt65z",
        "outputId": "9012f4e6-712d-4589-a2ba-48a568aea4e4"
      },
      "execution_count": null,
      "outputs": [
        {
          "output_type": "stream",
          "name": "stdout",
          "text": [
            "[[19 22]\n",
            " [43 50]]\n"
          ]
        }
      ]
    },
    {
      "cell_type": "markdown",
      "source": [
        "* Деление:\n",
        "\n",
        "Деление матриц также происходит поэлементно. Используется оператор /"
      ],
      "metadata": {
        "id": "T1PtmaY4uCYN"
      }
    },
    {
      "cell_type": "code",
      "source": [
        "print(matrix1 / matrix2)\n"
      ],
      "metadata": {
        "colab": {
          "base_uri": "https://localhost:8080/"
        },
        "id": "LgaMgzF6uGAu",
        "outputId": "6f7ad434-0edb-4714-af71-383294043f07"
      },
      "execution_count": null,
      "outputs": [
        {
          "output_type": "stream",
          "name": "stdout",
          "text": [
            "[[0.2        0.33333333]\n",
            " [0.42857143 0.5       ]]\n"
          ]
        }
      ]
    },
    {
      "cell_type": "markdown",
      "source": [
        "Также NumPy с помощью своих методов предоставляет возможность транспонировать матрицу, найти определитель,ранг, след, обратную матрицу и другое.\n",
        "\n",
        "Транспонирование матрицы можно выполнить с помощью метода .T или функции np.transpose()"
      ],
      "metadata": {
        "id": "5ZKRruZpuhV8"
      }
    },
    {
      "cell_type": "code",
      "source": [
        "print (matrix1.T)\n"
      ],
      "metadata": {
        "colab": {
          "base_uri": "https://localhost:8080/"
        },
        "id": "VMoHiXrCu-7i",
        "outputId": "e4b432fe-4ab3-4847-8846-4a23ed634663"
      },
      "execution_count": null,
      "outputs": [
        {
          "output_type": "stream",
          "name": "stdout",
          "text": [
            "[[1 3]\n",
            " [2 4]]\n"
          ]
        }
      ]
    },
    {
      "cell_type": "code",
      "source": [
        "print (np.transpose(matrix1))\n"
      ],
      "metadata": {
        "colab": {
          "base_uri": "https://localhost:8080/"
        },
        "id": "oLcYGn7KvTMQ",
        "outputId": "9348f704-a1ba-4337-9d95-0daf1f7f664f"
      },
      "execution_count": null,
      "outputs": [
        {
          "output_type": "stream",
          "name": "stdout",
          "text": [
            "[[1 3]\n",
            " [2 4]]\n"
          ]
        }
      ]
    },
    {
      "cell_type": "markdown",
      "source": [
        "След можно найти с помощью np.trace()."
      ],
      "metadata": {
        "id": "vuA9ZkEk6Nvc"
      }
    },
    {
      "cell_type": "code",
      "source": [
        "print(np.trace(matrix1))\n"
      ],
      "metadata": {
        "colab": {
          "base_uri": "https://localhost:8080/"
        },
        "id": "xQ1SFFnN6aDf",
        "outputId": "377765d8-c05f-4c24-a087-fdae28224fff"
      },
      "execution_count": null,
      "outputs": [
        {
          "output_type": "stream",
          "name": "stdout",
          "text": [
            "5\n"
          ]
        }
      ]
    },
    {
      "cell_type": "markdown",
      "source": [
        "Определитель, обратную матрицу и ранг можно найти с помощью функций np.linalg.det() и np.linalg.inv(), их и подмодуль np.linalg рассмотрим чуть позже\n"
      ],
      "metadata": {
        "id": "UJ03N3fovdkS"
      }
    },
    {
      "cell_type": "code",
      "source": [
        "matrix = np.array([[1, 2, 3], [4, 5, 6], [7, 8, 9]])\n",
        "print(matrix[:, 1].sum())"
      ],
      "metadata": {
        "id": "bfkjz2qq7WSz",
        "outputId": "436e8b78-36f4-4cc1-c90e-7102b7197d93",
        "colab": {
          "base_uri": "https://localhost:8080/"
        }
      },
      "execution_count": null,
      "outputs": [
        {
          "output_type": "stream",
          "name": "stdout",
          "text": [
            "15\n"
          ]
        }
      ]
    }
  ]
}