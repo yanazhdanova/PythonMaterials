{
  "nbformat": 4,
  "nbformat_minor": 0,
  "metadata": {
    "colab": {
      "provenance": []
    },
    "kernelspec": {
      "name": "python3",
      "display_name": "Python 3"
    },
    "language_info": {
      "name": "python"
    }
  },
  "cells": [
    {
      "cell_type": "markdown",
      "source": [
        "В Python списки - это универсальная структура данных, которая представляет собой упорядоченную коллекцию элементов. Списки в Python могут содержать объекты любого типа, включая другие списки (тогда такие списки называются вложенными). Несколько ключевых особенностей списков в Python:\n",
        "\n",
        "* Изменяемость (mutable): Списки в Python можно изменять. Это означает\n",
        "можете добавлять, удалять или изменять элементы списка после его создания.\n",
        "\n",
        "* Гетерогенность: В одном списке могут содержаться элементы различных типов данных, например, строки, целые числа, числа с плавающей запятой, другие списки и так далее.\n",
        "\n",
        "* Динамический размер является еще одной важной особенностью списков в Python. В отличие от некоторых языков программирования, где размер массива должен быть задан заранее и не может изменяться, списки в Python могут изменять свой размер динамически в процессе выполнения программы."
      ],
      "metadata": {
        "id": "vP4-gaBKks_W"
      }
    },
    {
      "cell_type": "markdown",
      "source": [
        "Списки в Python можно создавать разными способами:\n",
        "1. С помощью квадратных скобок"
      ],
      "metadata": {
        "id": "rQpeWywmmY_Z"
      }
    },
    {
      "cell_type": "code",
      "execution_count": null,
      "metadata": {
        "id": "NCEA_zwhb-he",
        "colab": {
          "base_uri": "https://localhost:8080/"
        },
        "outputId": "6cbaadf2-6950-4aeb-ce21-5a1fc0e61ee4"
      },
      "outputs": [
        {
          "output_type": "stream",
          "name": "stdout",
          "text": [
            "[]\n",
            "[1, 2, 3, 4, 5, 'a', 'b', 'c']\n"
          ]
        }
      ],
      "source": [
        "my_list1 = []\n",
        "my_list2 = [1, 2, 3, 4, 5, 'a', 'b', 'c']\n",
        "print(my_list1, my_list2, sep = '\\n')\n"
      ]
    },
    {
      "cell_type": "markdown",
      "source": [
        "2. С помощью list()\n",
        "\n",
        "\n"
      ],
      "metadata": {
        "id": "Ezl2jquWnFvd"
      }
    },
    {
      "cell_type": "code",
      "source": [
        "my_list3 = list()\n",
        "print(my_list3)\n"
      ],
      "metadata": {
        "colab": {
          "base_uri": "https://localhost:8080/"
        },
        "id": "k_HAKHixnJPs",
        "outputId": "b7b69487-f3b7-4e4f-9237-28c28b1275d1"
      },
      "execution_count": null,
      "outputs": [
        {
          "output_type": "stream",
          "name": "stdout",
          "text": [
            "[]\n"
          ]
        }
      ]
    },
    {
      "cell_type": "markdown",
      "source": [
        "3. С помощью генератора списков"
      ],
      "metadata": {
        "id": "ye1V1UR4n22t"
      }
    },
    {
      "cell_type": "code",
      "source": [
        "my_list4 = [x for x in range(1, 6)]\n",
        "my_list_even = [x for x in range(10) if x % 2 == 0]\n",
        "print(my_list4, my_list_even, sep = '\\n')\n"
      ],
      "metadata": {
        "colab": {
          "base_uri": "https://localhost:8080/"
        },
        "id": "u21gytrvn7_0",
        "outputId": "2c1b9ed6-0fc1-4e85-ce25-a1045a0256fc"
      },
      "execution_count": null,
      "outputs": [
        {
          "output_type": "stream",
          "name": "stdout",
          "text": [
            "[1, 2, 3, 4, 5]\n",
            "[0, 2, 4, 6, 8]\n"
          ]
        }
      ]
    },
    {
      "cell_type": "markdown",
      "source": [
        "И другими способами.\n",
        "\n"
      ],
      "metadata": {
        "id": "BW2FDYvloa20"
      }
    },
    {
      "cell_type": "markdown",
      "source": [
        "Элементы списка можно получить, обратившись к ним по индексу. Индексация начинается с 0. Для доступа к элементу списка по индексу используется квадратные скобки [].\n",
        "\n",
        "Также можно получить сразу несколько элементов с помощью срезов. Синтаксис среза: list[start:stop:step], где:\n",
        "\n",
        "start - индекс элемента, с которого начинается срез (включительно). Если start не указан, срез начнется с начала списка.\n",
        "\n",
        "stop - индекс элемента, на котором срез заканчивается (не включая сам элемент). Если stop не указан, срез закончится в конце списка.\n",
        "\n",
        "step - шаг среза (по умолчанию 1).\n",
        "\n"
      ],
      "metadata": {
        "id": "RNl1SLitsQgC"
      }
    },
    {
      "cell_type": "code",
      "source": [
        "my_list = ['a', 'b', 'c', 'd', 'e']\n",
        "print(my_list[0])\n",
        "\n",
        "# Выведет первые три элемента списка\n",
        "print(my_list[:3])\n",
        "\n",
        "# Выведет элементы списка с индексами от 1 до 3 (не включая 3)\n",
        "print(my_list[1:3])\n",
        "\n",
        "# Выведет каждый второй элемент списка\n",
        "print(my_list[::2])\n",
        "\n",
        "# Выведет элементы списка в обратном порядке\n",
        "print(my_list[::-1])\n"
      ],
      "metadata": {
        "colab": {
          "base_uri": "https://localhost:8080/"
        },
        "id": "hlcs5Csis4em",
        "outputId": "d7849cce-aee9-4580-e175-50cf26024de8"
      },
      "execution_count": null,
      "outputs": [
        {
          "output_type": "stream",
          "name": "stdout",
          "text": [
            "a\n",
            "['a', 'b', 'c']\n",
            "['b', 'c']\n",
            "['a', 'c', 'e']\n",
            "['e', 'd', 'c', 'b', 'a']\n"
          ]
        }
      ]
    },
    {
      "cell_type": "markdown",
      "source": [
        "Для проверки вхождения элемента в список в Python можно использовать оператор in. Этот оператор возвращает логическое значение True, если элемент присутствует в списке, и False, если элемент отсутствует.\n",
        "\n"
      ],
      "metadata": {
        "id": "Wl2Sdl51t7A5"
      }
    },
    {
      "cell_type": "code",
      "source": [
        "print('a' in my_list)\n",
        "print('z' in my_list)\n"
      ],
      "metadata": {
        "colab": {
          "base_uri": "https://localhost:8080/"
        },
        "id": "AMyOWNMct_zK",
        "outputId": "47579b15-6e2a-487a-88b3-df7b69315e77"
      },
      "execution_count": null,
      "outputs": [
        {
          "output_type": "stream",
          "name": "stdout",
          "text": [
            "True\n",
            "False\n"
          ]
        }
      ]
    },
    {
      "cell_type": "markdown",
      "source": [
        "\n",
        "В Python существует несколько способов добавления элементов в список.\n",
        "\n",
        "\n",
        "1.   Метод append()\n",
        "\n",
        "Метод append() используется для добавления элемента в конец списка.\n",
        "\n",
        "\n"
      ],
      "metadata": {
        "id": "uvcrfjpNuls-"
      }
    },
    {
      "cell_type": "code",
      "source": [
        "my_list.append('f')\n",
        "print(my_list)\n"
      ],
      "metadata": {
        "colab": {
          "base_uri": "https://localhost:8080/"
        },
        "id": "p_UgoR5xvcFK",
        "outputId": "ace94bbb-5122-438e-e21c-ef742cbfd15f"
      },
      "execution_count": null,
      "outputs": [
        {
          "output_type": "stream",
          "name": "stdout",
          "text": [
            "['a', 'b', 'c', 'd', 'e', 'f']\n"
          ]
        }
      ]
    },
    {
      "cell_type": "markdown",
      "source": [
        "\n",
        "\n",
        "2. Метод insert():\n",
        "\n",
        "Метод insert() используется для вставки элемента на определенную позицию в списке. Первым аргументом он принимает индекс позиции, на которую нужно вставить элемент, вторым - элемент, который нужно вставить в список."
      ],
      "metadata": {
        "id": "Jzc7Gpr52miC"
      }
    },
    {
      "cell_type": "code",
      "source": [
        "my_list.insert(3, 0)\n",
        "print(my_list)\n"
      ],
      "metadata": {
        "colab": {
          "base_uri": "https://localhost:8080/"
        },
        "id": "5pakBFlO2rvV",
        "outputId": "d4dda9cc-ee66-4158-8a2d-b05b1c9e9b55"
      },
      "execution_count": null,
      "outputs": [
        {
          "output_type": "stream",
          "name": "stdout",
          "text": [
            "['a', 'b', 'c', 0, 'd', 'e', 'f']\n"
          ]
        }
      ]
    },
    {
      "cell_type": "markdown",
      "source": [
        "3. Метод extend()\n",
        "\n",
        "Метод extend() в Python используется для добавления элементов из другого итерируемого объекта (например, списка) в конец текущего списка."
      ],
      "metadata": {
        "id": "oA-x-af93EvU"
      }
    },
    {
      "cell_type": "code",
      "source": [
        "another_list = ['x', 'y', 'z']\n",
        "my_list.extend(another_list)\n",
        "print(my_list)\n"
      ],
      "metadata": {
        "colab": {
          "base_uri": "https://localhost:8080/"
        },
        "id": "8lVpUnPX3z-e",
        "outputId": "2ca9164e-35cb-422c-b059-f839dc4af73e"
      },
      "execution_count": null,
      "outputs": [
        {
          "output_type": "stream",
          "name": "stdout",
          "text": [
            "['a', 'b', 'c', 0, 'd', 'e', 'f', 'x', 'y', 'z']\n"
          ]
        }
      ]
    },
    {
      "cell_type": "markdown",
      "source": [
        "4. Оператор +\n",
        "\n",
        "Оператор + в контексте списков (массивов) в Python используется для конкатенации (объединения) двух списков в новый список. Он создает новый список, содержащий все элементы первого списка, за которыми следуют все элементы второго списка. Оригинальные списки остаются неизменными. чтобы использовать + для конкатенации списков, оба операнда должны быть списками."
      ],
      "metadata": {
        "id": "nJYBfv9K4sYo"
      }
    },
    {
      "cell_type": "code",
      "source": [
        "list_plus_one = [1, 2, 3]\n",
        "list_plus_two = [4, 5, 6]\n",
        "list_sum = list_plus_one + list_plus_two\n",
        "print(list_sum)\n"
      ],
      "metadata": {
        "colab": {
          "base_uri": "https://localhost:8080/"
        },
        "id": "YJR0fKpr42jF",
        "outputId": "9220b6de-5689-480d-f36b-4293396037a4"
      },
      "execution_count": null,
      "outputs": [
        {
          "output_type": "stream",
          "name": "stdout",
          "text": [
            "[1, 2, 3, 4, 5, 6]\n"
          ]
        }
      ]
    },
    {
      "cell_type": "markdown",
      "source": [
        "Так же по отношению к спискам мы можем применять оператор $*$.\n",
        "\n",
        "Оператор * в контексте списков в Python используется для создания нового списка путем повторения элементов исходного списка заданное количество раз."
      ],
      "metadata": {
        "id": "sUCn78vg5u3d"
      }
    },
    {
      "cell_type": "code",
      "source": [
        "list_mul = list_sum * 3\n",
        "print(list_mul)"
      ],
      "metadata": {
        "colab": {
          "base_uri": "https://localhost:8080/"
        },
        "id": "4qacHtpTgGxb",
        "outputId": "c1233016-042c-4f6b-f04c-c6f0d711e0e1"
      },
      "execution_count": null,
      "outputs": [
        {
          "output_type": "stream",
          "name": "stdout",
          "text": [
            "[1, 2, 3, 4, 5, 6, 1, 2, 3, 4, 5, 6, 1, 2, 3, 4, 5, 6]\n"
          ]
        }
      ]
    },
    {
      "cell_type": "markdown",
      "source": [
        "Элементы списка можно изменять, обращаясь к ним по индексу и присваивая им новые значения. Мы можем прямо присваивать по индексу, или использовать срезы для замены сразу нескольких элементов:"
      ],
      "metadata": {
        "id": "CcB2SoVQJCQI"
      }
    },
    {
      "cell_type": "code",
      "source": [
        "one_more_list = [1, 2, 3, 4, 5]\n",
        "one_more_list[0] = 0\n",
        "print(one_more_list)\n",
        "\n",
        "one_more_list[1:3] = [10, 20]\n",
        "print(one_more_list)\n"
      ],
      "metadata": {
        "colab": {
          "base_uri": "https://localhost:8080/"
        },
        "id": "aK8wPQYWJVOw",
        "outputId": "2ede2245-7f67-42b7-e628-321159cf4fee"
      },
      "execution_count": null,
      "outputs": [
        {
          "output_type": "stream",
          "name": "stdout",
          "text": [
            "[0, 2, 3, 4, 5]\n",
            "[0, 10, 20, 4, 5]\n"
          ]
        }
      ]
    },
    {
      "cell_type": "markdown",
      "source": [
        "Для удаления элементов из списка существует несколько методов.\n",
        "1. Метод remove()\n",
        "\n",
        "Метод remove() удаляет первое вхождение указанного элемента из списка.\n",
        "\n",
        "2. Метод pop()\n",
        "\n",
        "Метод pop() удаляет элемент из списка по указанному индексу и возвращает его значение. Если индекс не указан, удаляется и возвращается последний элемент списка.\n",
        "\n",
        "3. Оператор del\n",
        "\n",
        "Оператор del удаляет элемент из списка по указанному индексу или удаляет срез элементов.\n",
        "\n",
        "4. Метод clear()\n",
        "\n",
        "Метод clear() удаляет все элементы из списка, оставляя его пустым."
      ],
      "metadata": {
        "id": "DAlPJznDKh5i"
      }
    },
    {
      "cell_type": "code",
      "source": [
        "deletion = [0, 1, 2, 3, 4, 5, 6, 7, 8, 9, 0]\n",
        "deletion.remove(0)\n",
        "print(deletion)\n",
        "\n",
        "print(deletion.pop(0))\n",
        "print(deletion)\n",
        "\n",
        "del deletion[0]\n",
        "print(deletion)\n",
        "del deletion[0:3]\n",
        "print(deletion)\n",
        "\n",
        "deletion.clear()\n",
        "print(deletion)"
      ],
      "metadata": {
        "colab": {
          "base_uri": "https://localhost:8080/"
        },
        "id": "94CyDH1bMOO0",
        "outputId": "7c8e5a27-26df-4f30-b6ee-b7de0c6ef021"
      },
      "execution_count": null,
      "outputs": [
        {
          "output_type": "stream",
          "name": "stdout",
          "text": [
            "[1, 2, 3, 4, 5, 6, 7, 8, 9, 0]\n",
            "1\n",
            "[2, 3, 4, 5, 6, 7, 8, 9, 0]\n",
            "[3, 4, 5, 6, 7, 8, 9, 0]\n",
            "[6, 7, 8, 9, 0]\n",
            "[]\n"
          ]
        }
      ]
    },
    {
      "cell_type": "markdown",
      "source": [
        "Для более сложных структур данных можно использовать вложенные списки - списки, которые содержат другие списки как свои элементы. То есть, каждый элемент внешнего списка является списком сам по себе. Это позволяет создавать структуры данных, которые представляют собой таблицы, матрицы или другие сложные структуры.\n",
        "\n",
        "Обращение к элементам вложенного списка требует двойной индексации. Кроме этого операции над вложенными списками в целом аналогичны операциям над простыми списками."
      ],
      "metadata": {
        "id": "HBnSvkKWPeIv"
      }
    },
    {
      "cell_type": "code",
      "source": [
        "matrix = [[1, 2, 3],\n",
        "          [4, 5, 6],\n",
        "          [7, 8, 9]]\n",
        "\n",
        "print(matrix[0],matrix[0][0], sep = '\\n')\n",
        "\n",
        "del matrix[2][1]\n",
        "print(matrix)\n",
        "del matrix[2]\n",
        "print(matrix)\n",
        "\n",
        "nested_list1 = [[1, 2], [3, 4]]\n",
        "nested_list2 = [[5, 6], [7, 8]]\n",
        "print(nested_list1 + nested_list2)\n",
        "print(nested_list1 * 2)"
      ],
      "metadata": {
        "colab": {
          "base_uri": "https://localhost:8080/"
        },
        "id": "nf4w5SJePseb",
        "outputId": "f695b1fc-df0b-4cb6-c4cf-e27e3362c49d"
      },
      "execution_count": null,
      "outputs": [
        {
          "output_type": "stream",
          "name": "stdout",
          "text": [
            "[1, 2, 3]\n",
            "1\n",
            "[[1, 2, 3], [4, 5, 6], [7, 9]]\n",
            "[[1, 2, 3], [4, 5, 6]]\n",
            "[[1, 2], [3, 4], [5, 6], [7, 8]]\n",
            "[[1, 2], [3, 4], [1, 2], [3, 4]]\n"
          ]
        }
      ]
    },
    {
      "cell_type": "markdown",
      "source": [
        "Итерация по спискам в Python - это процесс перебора всех элементов списка. Итерация полезна для обработки каждого элемента списка по очереди и выполнения определенных операций для каждого элемента. В Python есть несколько способов выполнения итерации по спискам, как для обычных, так и для вложенных списков.\n",
        "Рассмотрим итерацию по индексам или с помощью конструкции for x in list."
      ],
      "metadata": {
        "id": "50oT6HVJVUVR"
      }
    },
    {
      "cell_type": "code",
      "source": [
        "iteration_list = ['a', 20, 'b', 40, 'c']\n",
        "for i in range(len(iteration_list)):\n",
        "  print(iteration_list[i])\n"
      ],
      "metadata": {
        "colab": {
          "base_uri": "https://localhost:8080/"
        },
        "id": "ts2_TqpmVgV_",
        "outputId": "df3036e2-331b-4d9e-f67f-9a979d6ccbbf"
      },
      "execution_count": null,
      "outputs": [
        {
          "output_type": "stream",
          "name": "stdout",
          "text": [
            "a\n",
            "20\n",
            "b\n",
            "40\n",
            "c\n"
          ]
        }
      ]
    },
    {
      "cell_type": "code",
      "source": [
        "for element in iteration_list:\n",
        "    print(element)"
      ],
      "metadata": {
        "colab": {
          "base_uri": "https://localhost:8080/"
        },
        "id": "k4UZZ4wfW8ll",
        "outputId": "fcd1e7ff-8cca-4396-dc48-a5407ddf259a"
      },
      "execution_count": null,
      "outputs": [
        {
          "output_type": "stream",
          "name": "stdout",
          "text": [
            "a\n",
            "20\n",
            "b\n",
            "40\n",
            "c\n"
          ]
        }
      ]
    },
    {
      "cell_type": "code",
      "source": [
        "nested_list = [[1, 2, 3], [4, 5, 6], [7, 8, 9]]\n",
        "for i in range(len(nested_list)):\n",
        "    for j in range(len(nested_list[i])):\n",
        "        print(nested_list[i][j])\n"
      ],
      "metadata": {
        "colab": {
          "base_uri": "https://localhost:8080/"
        },
        "id": "plKV_DEgW_Ca",
        "outputId": "d3601e75-7682-438d-cfb1-054073ed3beb"
      },
      "execution_count": null,
      "outputs": [
        {
          "output_type": "stream",
          "name": "stdout",
          "text": [
            "1\n",
            "2\n",
            "3\n",
            "4\n",
            "5\n",
            "6\n",
            "7\n",
            "8\n",
            "9\n"
          ]
        }
      ]
    },
    {
      "cell_type": "code",
      "source": [
        "for inner_list in nested_list:\n",
        "    for element in inner_list:\n",
        "        print(element)\n"
      ],
      "metadata": {
        "colab": {
          "base_uri": "https://localhost:8080/"
        },
        "id": "MlaPMAmVXSOP",
        "outputId": "9ea2c992-bfe9-41c8-e553-8ab0b71c8019"
      },
      "execution_count": null,
      "outputs": [
        {
          "output_type": "stream",
          "name": "stdout",
          "text": [
            "1\n",
            "2\n",
            "3\n",
            "4\n",
            "5\n",
            "6\n",
            "7\n",
            "8\n",
            "9\n"
          ]
        }
      ]
    },
    {
      "cell_type": "markdown",
      "source": [
        "Для работы со списками также существует множество полезным встроенных функций и методов. Некоторые из них:\n",
        "\n",
        "1. len(list) - возвращает количество элементов\n",
        "\n",
        "2. count() - возвращает количество вхождений указанного элемента в списке\n",
        "\n",
        "3. index() - возвращает индекс первого вхождения указанного элемента в списке.\n",
        "\n",
        "4. reverse() - изменяет порядок элементов в списке на обратный\n",
        "\n",
        "5. sort() - сортирует элементы списка (по возрастанию по умолчанию).\n"
      ],
      "metadata": {
        "id": "r3zv4WmHYrru"
      }
    },
    {
      "cell_type": "code",
      "source": [
        "methods_list = [3, 1, 4, 1, 5, 9, 2, 6, 5, 3, 5]\n",
        "\n",
        "print(len(methods_list))\n",
        "\n",
        "print(methods_list.index(5))\n",
        "\n",
        "print(methods_list.count(5))\n",
        "\n",
        "methods_list.reverse()\n",
        "print(methods_list)\n",
        "\n",
        "methods_list.sort()\n",
        "print(methods_list)\n"
      ],
      "metadata": {
        "colab": {
          "base_uri": "https://localhost:8080/"
        },
        "id": "yf_t0PBtahdW",
        "outputId": "a3e2e4a5-c8cd-4328-c92f-4d727a458bec"
      },
      "execution_count": null,
      "outputs": [
        {
          "output_type": "stream",
          "name": "stdout",
          "text": [
            "11\n",
            "4\n",
            "3\n",
            "[5, 3, 5, 6, 2, 9, 5, 1, 4, 1, 3]\n",
            "[1, 1, 2, 3, 3, 4, 5, 5, 5, 6, 9]\n"
          ]
        }
      ]
    },
    {
      "cell_type": "markdown",
      "source": [
        "Еще две полезные функции - map и reduce.\n",
        "\n",
        "Функция map() применяет указанную функцию ко всем элементам входной последовательности (например, списку).\n",
        "\n",
        "Функция reduce() применяет указанную функцию к парам элементов последовательности и сворачивает (сокращает) последовательность до одного значения. Для использования reduce() нужно импортировать ее из модуля functools"
      ],
      "metadata": {
        "id": "pjwrQSGpe1Wa"
      }
    },
    {
      "cell_type": "code",
      "source": [
        "from functools import reduce\n",
        "\n",
        "def add_ten(x):\n",
        "    return x + 10\n",
        "\n",
        "def sum_numbers(x, y):\n",
        "    return x + y\n",
        "\n",
        "numbers = [1, 2, 3, 4, 5]\n",
        "numbers = list(map(add_ten, numbers))\n",
        "print(numbers)\n",
        "\n",
        "numbers = reduce(sum_numbers, numbers)\n",
        "print(numbers)\n"
      ],
      "metadata": {
        "colab": {
          "base_uri": "https://localhost:8080/"
        },
        "id": "zcjEDYwRflHI",
        "outputId": "9687c565-6615-496c-daa5-9f9dcc1288d1"
      },
      "execution_count": null,
      "outputs": [
        {
          "output_type": "stream",
          "name": "stdout",
          "text": [
            "[11, 12, 13, 14, 15]\n",
            "65\n"
          ]
        }
      ]
    },
    {
      "cell_type": "code",
      "source": [
        "my_list = [1, 2, 3, 4, 5]\n",
        "my_list.extend([6, 7, 8])\n",
        "del my_list[::2]\n",
        "my_list.insert(3, my_list.pop(1))\n",
        "print(my_list)"
      ],
      "metadata": {
        "colab": {
          "base_uri": "https://localhost:8080/"
        },
        "id": "0fHSayFo9LFa",
        "outputId": "2b5757f8-2524-44e7-8022-bdd90f3da68a"
      },
      "execution_count": null,
      "outputs": [
        {
          "output_type": "stream",
          "name": "stdout",
          "text": [
            "[2, 6, 8, 4]\n"
          ]
        }
      ]
    }
  ]
}