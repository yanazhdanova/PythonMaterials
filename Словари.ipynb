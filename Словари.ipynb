{
  "nbformat": 4,
  "nbformat_minor": 0,
  "metadata": {
    "colab": {
      "provenance": []
    },
    "kernelspec": {
      "name": "python3",
      "display_name": "Python 3"
    },
    "language_info": {
      "name": "python"
    }
  },
  "cells": [
    {
      "cell_type": "markdown",
      "source": [
        "В Python словарь (dict) - это изменяемая и неупорядоченная коллекция пар ключ-значение. Ключи в словаре должны быть уникальными и неизменяемыми (например, строки, числа или кортежи), а значения могут быть любого типа данных и изменяемыми.\n",
        "\n",
        "Словари в Python часто используются для хранения и доступа к данным по ключу. Они являются удобной структурой данных для связывания информации, где вы можете быстро найти значение, используя его ключ.\n",
        "\n",
        "Пример словаря:"
      ],
      "metadata": {
        "id": "_3kSZSFghWv6"
      }
    },
    {
      "cell_type": "code",
      "execution_count": null,
      "metadata": {
        "colab": {
          "base_uri": "https://localhost:8080/"
        },
        "id": "MBYttJwVa01b",
        "outputId": "5b4e0535-83b5-43f6-92c2-1305aa199fbd"
      },
      "outputs": [
        {
          "output_type": "stream",
          "name": "stdout",
          "text": [
            "{'Alice': 20, 'Bob': 19, 'Charlie': 19, 'David': 21, 'Eve': 22}\n"
          ]
        }
      ],
      "source": [
        "students = {\n",
        "    'Alice': 20,\n",
        "    'Bob': 19,\n",
        "    'Charlie': 19,\n",
        "    'David': 21,\n",
        "    'Eve': 22\n",
        "}\n",
        "\n",
        "print(students)\n"
      ]
    },
    {
      "cell_type": "markdown",
      "source": [
        "Этот словарь содержит имена студентов в качестве ключей и их возраст в качестве значений."
      ],
      "metadata": {
        "id": "qqDuLKXyjRpc"
      }
    },
    {
      "cell_type": "markdown",
      "source": [
        "Существует несколько способ задать словарь. Например, мы можем это сделать с помощью:\n",
        "\n",
        "1. Функции dict()"
      ],
      "metadata": {
        "id": "s7oXX7Loj5Be"
      }
    },
    {
      "cell_type": "code",
      "source": [
        "my_dict1 = dict() #создали пустой словарь\n",
        "my_dict2 = dict(a=1, b=2, c=3) #создали наполненный словарь\n",
        "print(my_dict1, my_dict2, sep='\\n')\n"
      ],
      "metadata": {
        "colab": {
          "base_uri": "https://localhost:8080/"
        },
        "id": "zg90cBbhj4pP",
        "outputId": "becc5052-e536-46ed-d23a-1b1470ec354e"
      },
      "execution_count": null,
      "outputs": [
        {
          "output_type": "stream",
          "name": "stdout",
          "text": [
            "{}\n",
            "{'a': 1, 'b': 2, 'c': 3}\n"
          ]
        }
      ]
    },
    {
      "cell_type": "markdown",
      "source": [
        "2.  С помощью { }"
      ],
      "metadata": {
        "id": "SyFzNEo-lty1"
      }
    },
    {
      "cell_type": "code",
      "source": [
        "my_dict3 = {} #создали пустой словарь\n",
        "my_dict4 = {'a': 1, 'b': 2, 'c': 3} #создали наполненный словарь\n",
        "print(my_dict3, my_dict4, sep='\\n')\n"
      ],
      "metadata": {
        "colab": {
          "base_uri": "https://localhost:8080/"
        },
        "id": "1sIPF5VljTjT",
        "outputId": "4c528a4e-3c7b-4263-d380-c5c99192dae4"
      },
      "execution_count": null,
      "outputs": [
        {
          "output_type": "stream",
          "name": "stdout",
          "text": [
            "{}\n",
            "{'a': 1, 'b': 2, 'c': 3}\n"
          ]
        }
      ]
    },
    {
      "cell_type": "markdown",
      "source": [
        "3.  Из двух списков с помощью zip"
      ],
      "metadata": {
        "id": "TN9rJ6A2mVFp"
      }
    },
    {
      "cell_type": "code",
      "source": [
        "keys5 = ['a', 'b', 'c']\n",
        "values5 = [1, 2, 3]\n",
        "my_dict5 = dict(zip(keys, values))\n",
        "print(my_dict5)\n"
      ],
      "metadata": {
        "colab": {
          "base_uri": "https://localhost:8080/"
        },
        "id": "K1VYfY41oJKR",
        "outputId": "4a605921-e55f-4d12-f499-19db80290e0b"
      },
      "execution_count": null,
      "outputs": [
        {
          "output_type": "stream",
          "name": "stdout",
          "text": [
            "{'a': 1, 'b': 2, 'c': 3}\n"
          ]
        }
      ]
    },
    {
      "cell_type": "markdown",
      "source": [
        "4. Генератора словарей (Python 3)"
      ],
      "metadata": {
        "id": "v-erCI2IoyH1"
      }
    },
    {
      "cell_type": "code",
      "source": [
        "my_dict6 = {x: x**2 for x in range(10)}\n",
        "print(my_dict6)\n"
      ],
      "metadata": {
        "colab": {
          "base_uri": "https://localhost:8080/"
        },
        "id": "SfoG0Dz6o65D",
        "outputId": "c72e34bc-d43c-4084-be69-bc69bc2cadce"
      },
      "execution_count": null,
      "outputs": [
        {
          "output_type": "stream",
          "name": "stdout",
          "text": [
            "{0: 0, 1: 1, 2: 4, 3: 9, 4: 16, 5: 25, 6: 36, 7: 49, 8: 64, 9: 81}\n"
          ]
        }
      ]
    },
    {
      "cell_type": "markdown",
      "source": [
        "Если мы присваиваем значение новому ключу, то словарь расширяется, добавляя эту пару ключ-значение.\n",
        "\n",
        "Если мы присваиваем значение существующему ключу, это значение перезаписывает предыдущее.\n",
        "\n",
        "Если мы пытаемся получить значение по ключу, которого нет в словаре, это вызовет ошибку.\n",
        "\n",
        "Добавим элемент в словарь:"
      ],
      "metadata": {
        "id": "guJcMcD9qnsQ"
      }
    },
    {
      "cell_type": "code",
      "source": [
        "countries_capitals = {\n",
        "    'Россия': 'Москва',\n",
        "    'США': 'Вашингтон',\n",
        "    'Франция': 'Париж',\n",
        "    'Германия': 'Берлин',\n",
        "    'Китай': 'Пекин'\n",
        "}\n",
        "countries_capitals['Япония'] = 'Токио'\n",
        "print(countries_capitals)"
      ],
      "metadata": {
        "colab": {
          "base_uri": "https://localhost:8080/"
        },
        "id": "9q81Oy7BqssU",
        "outputId": "3ec45260-463b-4695-a897-533cbe944065"
      },
      "execution_count": null,
      "outputs": [
        {
          "output_type": "stream",
          "name": "stdout",
          "text": [
            "{'Россия': 'Москва', 'США': 'Вашингтон', 'Франция': 'Париж', 'Германия': 'Берлин', 'Китай': 'Пекин', 'Япония': 'Токио'}\n"
          ]
        }
      ]
    },
    {
      "cell_type": "markdown",
      "source": [
        "С помощью ключа мы можем получить значение или поменять его:"
      ],
      "metadata": {
        "id": "vGb2vEt-r0Df"
      }
    },
    {
      "cell_type": "code",
      "source": [
        "print(\"Столица Японии:\", countries_capitals[\"Япония\"])\n",
        "countries_capitals[\"США\"] = \"Нью-Йорк\" #Это, конечно же, неправда\n",
        "print(countries_capitals)\n"
      ],
      "metadata": {
        "colab": {
          "base_uri": "https://localhost:8080/"
        },
        "id": "XC12ETtVs2_3",
        "outputId": "333f7a45-bc3b-4ef0-9a1a-c58ccbb8e005"
      },
      "execution_count": null,
      "outputs": [
        {
          "output_type": "stream",
          "name": "stdout",
          "text": [
            "Столица Японии: Токио\n",
            "{'Россия': 'Москва', 'США': 'Нью-Йорк', 'Франция': 'Париж', 'Германия': 'Берлин', 'Китай': 'Пекин', 'Япония': 'Токио'}\n"
          ]
        }
      ]
    },
    {
      "cell_type": "markdown",
      "source": [
        "Еще один способ получения значения - использование метода .get(). Этот метод позволяет получить значение по ключу из словаря. Однако, в отличие от использования оператора [], если ключ отсутствует, метод .get() вернет значение по умолчанию (обычно None), а не вызовет ошибку."
      ],
      "metadata": {
        "id": "I1f-gH7pKYcR"
      }
    },
    {
      "cell_type": "code",
      "source": [
        "print(countries_capitals.get(\"Бразилия\"))"
      ],
      "metadata": {
        "colab": {
          "base_uri": "https://localhost:8080/"
        },
        "id": "gWIOgdLcKgM2",
        "outputId": "a762b7dd-9072-4ce3-fb5d-a2850d184a4a"
      },
      "execution_count": null,
      "outputs": [
        {
          "output_type": "stream",
          "name": "stdout",
          "text": [
            "None\n"
          ]
        }
      ]
    },
    {
      "cell_type": "markdown",
      "source": [
        "Наличие ключа в словаре также можно проверить с помощью ключевого слова in:"
      ],
      "metadata": {
        "id": "ZCFososhLIJZ"
      }
    },
    {
      "cell_type": "code",
      "source": [
        "print(\"Бразилия\" in countries_capitals)\n",
        "print(\"Китай\" in countries_capitals)\n"
      ],
      "metadata": {
        "colab": {
          "base_uri": "https://localhost:8080/"
        },
        "id": "qL3mH4N4LVOn",
        "outputId": "51860f0f-81ff-486f-f527-bb9584c680e3"
      },
      "execution_count": null,
      "outputs": [
        {
          "output_type": "stream",
          "name": "stdout",
          "text": [
            "False\n",
            "True\n"
          ]
        }
      ]
    },
    {
      "cell_type": "markdown",
      "source": [
        "В Python можено удалять элементы из словаря разными способами. Один из них - использовать оператор del. Этот оператор позволяет удалить элемент по ключу из словаря.\n"
      ],
      "metadata": {
        "id": "wovXcPxJuDQE"
      }
    },
    {
      "cell_type": "code",
      "source": [
        "del countries_capitals['Франция']\n",
        "print(countries_capitals)\n"
      ],
      "metadata": {
        "colab": {
          "base_uri": "https://localhost:8080/"
        },
        "id": "bZ3zCe_AFWaG",
        "outputId": "c227dfdd-b5b2-439f-ba1f-f2b266f0a348"
      },
      "execution_count": null,
      "outputs": [
        {
          "output_type": "stream",
          "name": "stdout",
          "text": [
            "{'Россия': 'Москва', 'США': 'Нью-Йорк', 'Германия': 'Берлин', 'Китай': 'Пекин', 'Япония': 'Токио'}\n"
          ]
        }
      ]
    },
    {
      "cell_type": "markdown",
      "source": [
        "Еще один способ - использовать метод .pop(). Он не только удаляет элемент по ключу, но и возвращает его значение. Если ключ не найден, метод может вернуть указанное значение по умолчанию или сгенерировать исключение."
      ],
      "metadata": {
        "id": "TZvlNJhUFlRI"
      }
    },
    {
      "cell_type": "code",
      "source": [
        "print(\"Столица Германии:\",countries_capitals.pop(\"Германия\"))\n",
        "print(countries_capitals)\n"
      ],
      "metadata": {
        "colab": {
          "base_uri": "https://localhost:8080/"
        },
        "id": "eddbSUFOFYIR",
        "outputId": "0ee7bb04-b783-40a6-c4dd-08c91fc0e76a"
      },
      "execution_count": null,
      "outputs": [
        {
          "output_type": "stream",
          "name": "stdout",
          "text": [
            "Столица Германии: Берлин\n",
            "{'Россия': 'Москва', 'США': 'Нью-Йорк', 'Китай': 'Пекин', 'Япония': 'Токио'}\n"
          ]
        }
      ]
    },
    {
      "cell_type": "markdown",
      "source": [
        "Перед тем как удалять или очищать словарь, давайте создадим его копию, чтобы сохранить исходные данные. Это можно сделать с помощью метода .copy()."
      ],
      "metadata": {
        "id": "jy5hPTDNFo_s"
      }
    },
    {
      "cell_type": "code",
      "source": [
        "countries_capitals2 = countries_capitals.copy()\n",
        "print(\"Скопированный словарь:\",countries_capitals2)\n"
      ],
      "metadata": {
        "colab": {
          "base_uri": "https://localhost:8080/"
        },
        "id": "uaHtQq8YFaMi",
        "outputId": "57724f27-ae5e-4a04-c83d-4701dea80752"
      },
      "execution_count": null,
      "outputs": [
        {
          "output_type": "stream",
          "name": "stdout",
          "text": [
            "Скопированный словарь: {'Россия': 'Москва', 'США': 'Нью-Йорк', 'Китай': 'Пекин', 'Япония': 'Токио'}\n"
          ]
        }
      ]
    },
    {
      "cell_type": "markdown",
      "source": [
        "Чтобы очистить весь словарь, мы можем использовать метод .clear(). Этот метод удаляет все элементы из словаря."
      ],
      "metadata": {
        "id": "tSO2-xn8FrrR"
      }
    },
    {
      "cell_type": "code",
      "source": [
        "countries_capitals.clear()\n",
        "print(countries_capitals)\n"
      ],
      "metadata": {
        "colab": {
          "base_uri": "https://localhost:8080/"
        },
        "id": "aPz-G7_gFb9U",
        "outputId": "09d2a557-b178-4819-bb1c-2e6029b192d1"
      },
      "execution_count": null,
      "outputs": [
        {
          "output_type": "stream",
          "name": "stdout",
          "text": [
            "{}\n"
          ]
        }
      ]
    },
    {
      "cell_type": "markdown",
      "source": [
        "Кроме удаления отдельных элементов или очистки словаря, мы также можем удалить сам словарь с помощью оператора del. Это означает удаление переменной, которая ссылается на словарь, что приводит к освобождению памяти, занимаемой этим словарем."
      ],
      "metadata": {
        "id": "ywvUjIr2Fuxu"
      }
    },
    {
      "cell_type": "code",
      "source": [
        "del countries_capitals\n"
      ],
      "metadata": {
        "id": "e_bBmRtvvFLB"
      },
      "execution_count": null,
      "outputs": []
    },
    {
      "cell_type": "markdown",
      "source": [
        "Метод update в Python для словарей соединяет два словаря, переписывая значения для одинаковых ключей.\n",
        "\n",
        "Теперь, когда наш словарь несколько уменьшился, давайте добавим в него новые элементы, а также вернем правильную столицу США методом .update"
      ],
      "metadata": {
        "id": "CIMkoe9c2Cg4"
      }
    },
    {
      "cell_type": "code",
      "source": [
        "countries_capitals_upd = {\n",
        "    'США': 'Вашингтон',\n",
        "    'Великобритания': 'Лондон',\n",
        "    'Италия': 'Рим',\n",
        "    'Испания': 'Мадрид',\n",
        "}\n",
        "countries_capitals2.update(countries_capitals_upd)\n",
        "print(countries_capitals2)\n"
      ],
      "metadata": {
        "colab": {
          "base_uri": "https://localhost:8080/"
        },
        "id": "XrYDa06A213E",
        "outputId": "0fb46b57-dad7-493c-abf3-48f044ae2909"
      },
      "execution_count": null,
      "outputs": [
        {
          "output_type": "stream",
          "name": "stdout",
          "text": [
            "{'Россия': 'Москва', 'США': 'Вашингтон', 'Китай': 'Пекин', 'Япония': 'Токио', 'Великобритания': 'Лондон', 'Италия': 'Рим', 'Испания': 'Мадрид'}\n"
          ]
        }
      ]
    },
    {
      "cell_type": "markdown",
      "source": [
        "Для получения информации о содержании словаря можно восползоваться следующими функциями:\n",
        "\n",
        ".items() - возвращает пары (ключ, значение) для всех элементов словаря\n",
        "\n",
        ".keys() - возвращает ключи в словаре.\n",
        "\n",
        ".values() - возвращает все значения в словаре."
      ],
      "metadata": {
        "id": "YaBCcUoDAiJj"
      }
    },
    {
      "cell_type": "code",
      "source": [
        "print(\"Ключи словаря countries_capitals2:\", countries_capitals2.keys())\n",
        "\n",
        "print(\"Значения словаря countries_capitals2:\", countries_capitals2.values())\n",
        "\n",
        "print(\"Пары ключ-значение словаря countries_capitals2:\", countries_capitals2.items())"
      ],
      "metadata": {
        "colab": {
          "base_uri": "https://localhost:8080/"
        },
        "id": "vbE2BHteCMJJ",
        "outputId": "56cf23e9-fe23-43ae-9109-5c2d63d413fa"
      },
      "execution_count": null,
      "outputs": [
        {
          "output_type": "stream",
          "name": "stdout",
          "text": [
            "Ключи словаря countries_capitals2: dict_keys(['Россия', 'США', 'Китай', 'Япония', 'Великобритания', 'Италия', 'Испания'])\n",
            "Значения словаря countries_capitals2: dict_values(['Москва', 'Вашингтон', 'Пекин', 'Токио', 'Лондон', 'Рим', 'Мадрид'])\n",
            "Пары ключ-значение словаря countries_capitals2: dict_items([('Россия', 'Москва'), ('США', 'Вашингтон'), ('Китай', 'Пекин'), ('Япония', 'Токио'), ('Великобритания', 'Лондон'), ('Италия', 'Рим'), ('Испания', 'Мадрид')])\n"
          ]
        }
      ]
    },
    {
      "cell_type": "markdown",
      "source": [
        "Узнать длину словаря можно с помощью len()"
      ],
      "metadata": {
        "id": "52x_SWk2HCOW"
      }
    },
    {
      "cell_type": "code",
      "source": [
        "print(len(countries_capitals2.keys()))"
      ],
      "metadata": {
        "colab": {
          "base_uri": "https://localhost:8080/"
        },
        "id": "ppBXWiQ6Hj-p",
        "outputId": "2f2140a9-435d-4aa6-eb92-3ef08537503a"
      },
      "execution_count": null,
      "outputs": [
        {
          "output_type": "stream",
          "name": "stdout",
          "text": [
            "7\n"
          ]
        }
      ]
    },
    {
      "cell_type": "markdown",
      "source": [
        "Для более сложных структур данных в Python мы можем создавать вложенные словари, то есть словари, которые содержат другие словари в качестве значений."
      ],
      "metadata": {
        "id": "wkWOKImjMOyK"
      }
    },
    {
      "cell_type": "code",
      "source": [
        "nested_dict = {\n",
        "    'person1': {\n",
        "        'name': 'Alice',\n",
        "        'age': 30,\n",
        "        'city': 'New York'\n",
        "    },\n",
        "    'person2': {\n",
        "        'name': 'Bob',\n",
        "        'age': 25,\n",
        "        'city': 'Los Angeles'\n",
        "    }\n",
        "}\n",
        "print(nested_dict)\n"
      ],
      "metadata": {
        "colab": {
          "base_uri": "https://localhost:8080/"
        },
        "id": "_scBaYYdMU6X",
        "outputId": "dcc82141-2388-42a5-8f31-27612ff1ee8c"
      },
      "execution_count": null,
      "outputs": [
        {
          "output_type": "stream",
          "name": "stdout",
          "text": [
            "{'person1': {'name': 'Alice', 'age': 30, 'city': 'New York'}, 'person2': {'name': 'Bob', 'age': 25, 'city': 'Los Angeles'}}\n"
          ]
        }
      ]
    },
    {
      "cell_type": "markdown",
      "source": [
        "Здесь nested_dict содержит двух людей (person1 и person2), каждый из которых представлен вложенным словарем с ключами 'name', 'age' и 'city'.\n",
        "\n",
        "Для доступа к значениям во вложенных словарях мы можем использовать несколько операторов []. Например, чтобы получить имя person1, мы можем написать:"
      ],
      "metadata": {
        "id": "abeEUmywMZ3z"
      }
    },
    {
      "cell_type": "code",
      "source": [
        "print(nested_dict['person1']['name'])\n"
      ],
      "metadata": {
        "colab": {
          "base_uri": "https://localhost:8080/"
        },
        "id": "udhfgPQrMgjK",
        "outputId": "8321d48a-b9fd-47bf-93f6-79c4dd77ebf2"
      },
      "execution_count": null,
      "outputs": [
        {
          "output_type": "stream",
          "name": "stdout",
          "text": [
            "Alice\n"
          ]
        }
      ]
    },
    {
      "cell_type": "markdown",
      "source": [
        "Мы также можем изменять, добавлять и удалять элементы во вложенных словарях так же, как и в обычных словарях."
      ],
      "metadata": {
        "id": "sLtq_ebVMnuQ"
      }
    },
    {
      "cell_type": "code",
      "source": [
        "nested_dict['person3'] = {'name': 'Charlie', 'age': 35, 'city': 'Chicago'}\n",
        "nested_dict['person1']['name'] = \"Sarah\"\n",
        "del nested_dict ['person2']['age']\n",
        "print(nested_dict)\n"
      ],
      "metadata": {
        "colab": {
          "base_uri": "https://localhost:8080/"
        },
        "id": "LomdTvwvMpAU",
        "outputId": "c14d2a9d-ffe6-4ea2-a6ef-c5fae3721926"
      },
      "execution_count": null,
      "outputs": [
        {
          "output_type": "stream",
          "name": "stdout",
          "text": [
            "{'person1': {'name': 'Sarah', 'age': 30, 'city': 'New York'}, 'person2': {'name': 'Bob', 'city': 'Los Angeles'}, 'person3': {'name': 'Charlie', 'age': 35, 'city': 'Chicago'}}\n"
          ]
        }
      ]
    }
  ]
}